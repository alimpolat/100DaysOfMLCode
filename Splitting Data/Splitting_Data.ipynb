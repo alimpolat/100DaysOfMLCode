{
 "cells": [
  {
   "cell_type": "markdown",
   "metadata": {},
   "source": [
    "# Creating a train and test sampling set\n",
    "\n",
    "In machine learning, it's important to establish a sampling set to be used to train an algorithm and a completely separate set for testing how well that algorithm performs. If the same sampling points were used for training and testing then the model would already be modeled to predict or classify the values we feed in to test it, and that would not be a very good indicator of the model's accuracy. \n",
    "\n",
    "\n",
    "__Training set:__ The data set that will be used to fit a model.\n",
    "\n",
    "__Testing set:__ The data set that will be used to assess a model's performance.\n",
    "\n",
    "Appropriate data splitting is important to avoid over-fitting or creating a training set that does not accurately represent the population distribution. Here we will break down a couple different strategies for data splitting:\n",
    "* Simple random sampling (SRS)\n",
    "* Trial-and-error methods\n",
    "* Systematic sampling\n",
    "* Convenience sampling\n",
    "* CADEX, DUPLEX\n",
    "* Stratified sampling"
   ]
  },
  {
   "cell_type": "markdown",
   "metadata": {},
   "source": [
    "We'll use some pre-cleaned, stock data from Vega for our demonstration.\n",
    "\n",
    "If you have not used Vega before:\n",
    "\n",
    "    $ pip install vega-datasets"
   ]
  },
  {
   "cell_type": "code",
   "execution_count": 1,
   "metadata": {},
   "outputs": [],
   "source": [
    "import pandas as pd\n",
    "import numpy as np\n",
    "from scipy import stats\n",
    "from vega_datasets import data\n",
    "stocks = data.stocks()"
   ]
  },
  {
   "cell_type": "markdown",
   "metadata": {},
   "source": [
    "Vega offers a description of the data:"
   ]
  },
  {
   "cell_type": "code",
   "execution_count": 2,
   "metadata": {},
   "outputs": [
    {
     "data": {
      "text/plain": [
       "'Daily closing stock prices for AAPL, AMZN, GOOG, IBM, and MSFT between 2000 and 2010.'"
      ]
     },
     "execution_count": 2,
     "metadata": {},
     "output_type": "execute_result"
    }
   ],
   "source": [
    "data.stocks.description"
   ]
  },
  {
   "cell_type": "markdown",
   "metadata": {},
   "source": [
    "Lets see what the data looks like:"
   ]
  },
  {
   "cell_type": "code",
   "execution_count": 3,
   "metadata": {},
   "outputs": [
    {
     "data": {
      "text/html": [
       "<div>\n",
       "<style scoped>\n",
       "    .dataframe tbody tr th:only-of-type {\n",
       "        vertical-align: middle;\n",
       "    }\n",
       "\n",
       "    .dataframe tbody tr th {\n",
       "        vertical-align: top;\n",
       "    }\n",
       "\n",
       "    .dataframe thead th {\n",
       "        text-align: right;\n",
       "    }\n",
       "</style>\n",
       "<table border=\"1\" class=\"dataframe\">\n",
       "  <thead>\n",
       "    <tr style=\"text-align: right;\">\n",
       "      <th></th>\n",
       "      <th>symbol</th>\n",
       "      <th>date</th>\n",
       "      <th>price</th>\n",
       "    </tr>\n",
       "  </thead>\n",
       "  <tbody>\n",
       "    <tr>\n",
       "      <th>0</th>\n",
       "      <td>MSFT</td>\n",
       "      <td>2000-01-01</td>\n",
       "      <td>39.81</td>\n",
       "    </tr>\n",
       "    <tr>\n",
       "      <th>1</th>\n",
       "      <td>MSFT</td>\n",
       "      <td>2000-02-01</td>\n",
       "      <td>36.35</td>\n",
       "    </tr>\n",
       "    <tr>\n",
       "      <th>2</th>\n",
       "      <td>MSFT</td>\n",
       "      <td>2000-03-01</td>\n",
       "      <td>43.22</td>\n",
       "    </tr>\n",
       "    <tr>\n",
       "      <th>3</th>\n",
       "      <td>MSFT</td>\n",
       "      <td>2000-04-01</td>\n",
       "      <td>28.37</td>\n",
       "    </tr>\n",
       "    <tr>\n",
       "      <th>4</th>\n",
       "      <td>MSFT</td>\n",
       "      <td>2000-05-01</td>\n",
       "      <td>25.45</td>\n",
       "    </tr>\n",
       "  </tbody>\n",
       "</table>\n",
       "</div>"
      ],
      "text/plain": [
       "  symbol       date  price\n",
       "0   MSFT 2000-01-01  39.81\n",
       "1   MSFT 2000-02-01  36.35\n",
       "2   MSFT 2000-03-01  43.22\n",
       "3   MSFT 2000-04-01  28.37\n",
       "4   MSFT 2000-05-01  25.45"
      ]
     },
     "execution_count": 3,
     "metadata": {},
     "output_type": "execute_result"
    }
   ],
   "source": [
    "stocks.head()"
   ]
  },
  {
   "cell_type": "markdown",
   "metadata": {},
   "source": [
    "Look at the data types:"
   ]
  },
  {
   "cell_type": "code",
   "execution_count": 4,
   "metadata": {},
   "outputs": [
    {
     "name": "stdout",
     "output_type": "stream",
     "text": [
      "<class 'pandas.core.frame.DataFrame'>\n",
      "RangeIndex: 560 entries, 0 to 559\n",
      "Data columns (total 3 columns):\n",
      "symbol    560 non-null object\n",
      "date      560 non-null datetime64[ns]\n",
      "price     560 non-null float64\n",
      "dtypes: datetime64[ns](1), float64(1), object(1)\n",
      "memory usage: 13.2+ KB\n"
     ]
    }
   ],
   "source": [
    "stocks.info()"
   ]
  },
  {
   "cell_type": "markdown",
   "metadata": {},
   "source": [
    "We'll pivot this data so that the symbols are the columns, just to use the description functions:"
   ]
  },
  {
   "cell_type": "code",
   "execution_count": 5,
   "metadata": {},
   "outputs": [],
   "source": [
    "stockPiv = stocks.pivot(index='date', columns='symbol', values='price')"
   ]
  },
  {
   "cell_type": "code",
   "execution_count": 6,
   "metadata": {},
   "outputs": [
    {
     "data": {
      "text/html": [
       "<div>\n",
       "<style scoped>\n",
       "    .dataframe tbody tr th:only-of-type {\n",
       "        vertical-align: middle;\n",
       "    }\n",
       "\n",
       "    .dataframe tbody tr th {\n",
       "        vertical-align: top;\n",
       "    }\n",
       "\n",
       "    .dataframe thead th {\n",
       "        text-align: right;\n",
       "    }\n",
       "</style>\n",
       "<table border=\"1\" class=\"dataframe\">\n",
       "  <thead>\n",
       "    <tr style=\"text-align: right;\">\n",
       "      <th>symbol</th>\n",
       "      <th>AAPL</th>\n",
       "      <th>AMZN</th>\n",
       "      <th>GOOG</th>\n",
       "      <th>IBM</th>\n",
       "      <th>MSFT</th>\n",
       "    </tr>\n",
       "    <tr>\n",
       "      <th>date</th>\n",
       "      <th></th>\n",
       "      <th></th>\n",
       "      <th></th>\n",
       "      <th></th>\n",
       "      <th></th>\n",
       "    </tr>\n",
       "  </thead>\n",
       "  <tbody>\n",
       "    <tr>\n",
       "      <th>2000-01-01</th>\n",
       "      <td>25.94</td>\n",
       "      <td>64.56</td>\n",
       "      <td>NaN</td>\n",
       "      <td>100.52</td>\n",
       "      <td>39.81</td>\n",
       "    </tr>\n",
       "    <tr>\n",
       "      <th>2000-02-01</th>\n",
       "      <td>28.66</td>\n",
       "      <td>68.87</td>\n",
       "      <td>NaN</td>\n",
       "      <td>92.11</td>\n",
       "      <td>36.35</td>\n",
       "    </tr>\n",
       "    <tr>\n",
       "      <th>2000-03-01</th>\n",
       "      <td>33.95</td>\n",
       "      <td>67.00</td>\n",
       "      <td>NaN</td>\n",
       "      <td>106.11</td>\n",
       "      <td>43.22</td>\n",
       "    </tr>\n",
       "    <tr>\n",
       "      <th>2000-04-01</th>\n",
       "      <td>31.01</td>\n",
       "      <td>55.19</td>\n",
       "      <td>NaN</td>\n",
       "      <td>99.95</td>\n",
       "      <td>28.37</td>\n",
       "    </tr>\n",
       "    <tr>\n",
       "      <th>2000-05-01</th>\n",
       "      <td>21.00</td>\n",
       "      <td>48.31</td>\n",
       "      <td>NaN</td>\n",
       "      <td>96.31</td>\n",
       "      <td>25.45</td>\n",
       "    </tr>\n",
       "  </tbody>\n",
       "</table>\n",
       "</div>"
      ],
      "text/plain": [
       "symbol       AAPL   AMZN  GOOG     IBM   MSFT\n",
       "date                                         \n",
       "2000-01-01  25.94  64.56   NaN  100.52  39.81\n",
       "2000-02-01  28.66  68.87   NaN   92.11  36.35\n",
       "2000-03-01  33.95  67.00   NaN  106.11  43.22\n",
       "2000-04-01  31.01  55.19   NaN   99.95  28.37\n",
       "2000-05-01  21.00  48.31   NaN   96.31  25.45"
      ]
     },
     "execution_count": 6,
     "metadata": {},
     "output_type": "execute_result"
    }
   ],
   "source": [
    "stockPiv.head()"
   ]
  },
  {
   "cell_type": "markdown",
   "metadata": {},
   "source": [
    "This created some NULL values, let's keep that in mind for now but continue exploring the data:"
   ]
  },
  {
   "cell_type": "code",
   "execution_count": 7,
   "metadata": {},
   "outputs": [
    {
     "data": {
      "text/plain": [
       "symbol\n",
       "AAPL     0\n",
       "AMZN     0\n",
       "GOOG    55\n",
       "IBM      0\n",
       "MSFT     0\n",
       "dtype: int64"
      ]
     },
     "execution_count": 7,
     "metadata": {},
     "output_type": "execute_result"
    }
   ],
   "source": [
    "stockPiv.isna().sum()"
   ]
  },
  {
   "cell_type": "code",
   "execution_count": 8,
   "metadata": {},
   "outputs": [
    {
     "data": {
      "text/html": [
       "<div>\n",
       "<style scoped>\n",
       "    .dataframe tbody tr th:only-of-type {\n",
       "        vertical-align: middle;\n",
       "    }\n",
       "\n",
       "    .dataframe tbody tr th {\n",
       "        vertical-align: top;\n",
       "    }\n",
       "\n",
       "    .dataframe thead th {\n",
       "        text-align: right;\n",
       "    }\n",
       "</style>\n",
       "<table border=\"1\" class=\"dataframe\">\n",
       "  <thead>\n",
       "    <tr style=\"text-align: right;\">\n",
       "      <th>symbol</th>\n",
       "      <th>AAPL</th>\n",
       "      <th>AMZN</th>\n",
       "      <th>GOOG</th>\n",
       "      <th>IBM</th>\n",
       "      <th>MSFT</th>\n",
       "    </tr>\n",
       "  </thead>\n",
       "  <tbody>\n",
       "    <tr>\n",
       "      <th>count</th>\n",
       "      <td>123.000000</td>\n",
       "      <td>123.000000</td>\n",
       "      <td>68.000000</td>\n",
       "      <td>123.000000</td>\n",
       "      <td>123.000000</td>\n",
       "    </tr>\n",
       "    <tr>\n",
       "      <th>mean</th>\n",
       "      <td>64.730488</td>\n",
       "      <td>47.987073</td>\n",
       "      <td>415.870441</td>\n",
       "      <td>91.261220</td>\n",
       "      <td>24.736748</td>\n",
       "    </tr>\n",
       "    <tr>\n",
       "      <th>std</th>\n",
       "      <td>63.123782</td>\n",
       "      <td>28.891321</td>\n",
       "      <td>135.069851</td>\n",
       "      <td>16.513365</td>\n",
       "      <td>4.303958</td>\n",
       "    </tr>\n",
       "    <tr>\n",
       "      <th>min</th>\n",
       "      <td>7.070000</td>\n",
       "      <td>5.970000</td>\n",
       "      <td>102.370000</td>\n",
       "      <td>53.010000</td>\n",
       "      <td>15.810000</td>\n",
       "    </tr>\n",
       "    <tr>\n",
       "      <th>25%</th>\n",
       "      <td>11.155000</td>\n",
       "      <td>29.405000</td>\n",
       "      <td>338.395000</td>\n",
       "      <td>77.365000</td>\n",
       "      <td>21.760000</td>\n",
       "    </tr>\n",
       "    <tr>\n",
       "      <th>50%</th>\n",
       "      <td>36.810000</td>\n",
       "      <td>41.500000</td>\n",
       "      <td>420.460000</td>\n",
       "      <td>88.700000</td>\n",
       "      <td>24.110000</td>\n",
       "    </tr>\n",
       "    <tr>\n",
       "      <th>75%</th>\n",
       "      <td>102.460000</td>\n",
       "      <td>65.895000</td>\n",
       "      <td>503.625000</td>\n",
       "      <td>101.945000</td>\n",
       "      <td>27.295000</td>\n",
       "    </tr>\n",
       "    <tr>\n",
       "      <th>max</th>\n",
       "      <td>223.020000</td>\n",
       "      <td>135.910000</td>\n",
       "      <td>707.000000</td>\n",
       "      <td>130.320000</td>\n",
       "      <td>43.220000</td>\n",
       "    </tr>\n",
       "  </tbody>\n",
       "</table>\n",
       "</div>"
      ],
      "text/plain": [
       "symbol        AAPL        AMZN        GOOG         IBM        MSFT\n",
       "count   123.000000  123.000000   68.000000  123.000000  123.000000\n",
       "mean     64.730488   47.987073  415.870441   91.261220   24.736748\n",
       "std      63.123782   28.891321  135.069851   16.513365    4.303958\n",
       "min       7.070000    5.970000  102.370000   53.010000   15.810000\n",
       "25%      11.155000   29.405000  338.395000   77.365000   21.760000\n",
       "50%      36.810000   41.500000  420.460000   88.700000   24.110000\n",
       "75%     102.460000   65.895000  503.625000  101.945000   27.295000\n",
       "max     223.020000  135.910000  707.000000  130.320000   43.220000"
      ]
     },
     "execution_count": 8,
     "metadata": {},
     "output_type": "execute_result"
    }
   ],
   "source": [
    "stockPiv.describe()"
   ]
  },
  {
   "cell_type": "markdown",
   "metadata": {},
   "source": [
    "And a simple histogram to get a better picture of the distribution:"
   ]
  },
  {
   "cell_type": "code",
   "execution_count": 9,
   "metadata": {},
   "outputs": [
    {
     "data": {
      "text/plain": [
       "<Figure size 2000x1500 with 6 Axes>"
      ]
     },
     "metadata": {},
     "output_type": "display_data"
    }
   ],
   "source": [
    "import matplotlib.pyplot as plt\n",
    "stockPiv.hist(figsize=(20,15))\n",
    "plt.show()"
   ]
  },
  {
   "cell_type": "markdown",
   "metadata": {},
   "source": [
    "### Simple random sampling (SRS)"
   ]
  },
  {
   "cell_type": "code",
   "execution_count": 11,
   "metadata": {},
   "outputs": [
    {
     "name": "stdout",
     "output_type": "stream",
     "text": [
      "Size of train: 504 and size of test: 56\n"
     ]
    }
   ],
   "source": [
    "# create a random array of numbers the length of our dataset\n",
    "randomList = np.random.permutation(len(stocks))\n",
    "\n",
    "# Define the size of test set, we will only take 10% of the sample for testing\n",
    "testSize = int(len(stocks) * 0.1)\n",
    "\n",
    "# Pull numbers from the random list for the size of our test set\n",
    "test = stocks.iloc[randomList[:testSize]]\n",
    "\n",
    "# Use the rest of the list for the train set\n",
    "train = stocks.iloc[randomList[testSize:]]\n",
    "\n",
    "print('Size of train: {} and size of test: {}'.format(len(train), len(test)))"
   ]
  },
  {
   "cell_type": "markdown",
   "metadata": {},
   "source": [
    "What does our training set look like?"
   ]
  },
  {
   "cell_type": "code",
   "execution_count": 12,
   "metadata": {},
   "outputs": [
    {
     "data": {
      "text/html": [
       "<div>\n",
       "<style scoped>\n",
       "    .dataframe tbody tr th:only-of-type {\n",
       "        vertical-align: middle;\n",
       "    }\n",
       "\n",
       "    .dataframe tbody tr th {\n",
       "        vertical-align: top;\n",
       "    }\n",
       "\n",
       "    .dataframe thead th {\n",
       "        text-align: right;\n",
       "    }\n",
       "</style>\n",
       "<table border=\"1\" class=\"dataframe\">\n",
       "  <thead>\n",
       "    <tr style=\"text-align: right;\">\n",
       "      <th></th>\n",
       "      <th>symbol</th>\n",
       "      <th>date</th>\n",
       "      <th>price</th>\n",
       "    </tr>\n",
       "  </thead>\n",
       "  <tbody>\n",
       "    <tr>\n",
       "      <th>282</th>\n",
       "      <td>IBM</td>\n",
       "      <td>2003-01-01</td>\n",
       "      <td>71.22</td>\n",
       "    </tr>\n",
       "    <tr>\n",
       "      <th>100</th>\n",
       "      <td>MSFT</td>\n",
       "      <td>2008-05-01</td>\n",
       "      <td>27.25</td>\n",
       "    </tr>\n",
       "    <tr>\n",
       "      <th>444</th>\n",
       "      <td>AAPL</td>\n",
       "      <td>2000-08-01</td>\n",
       "      <td>30.47</td>\n",
       "    </tr>\n",
       "    <tr>\n",
       "      <th>336</th>\n",
       "      <td>IBM</td>\n",
       "      <td>2007-07-01</td>\n",
       "      <td>105.40</td>\n",
       "    </tr>\n",
       "    <tr>\n",
       "      <th>382</th>\n",
       "      <td>GOOG</td>\n",
       "      <td>2005-09-01</td>\n",
       "      <td>316.46</td>\n",
       "    </tr>\n",
       "  </tbody>\n",
       "</table>\n",
       "</div>"
      ],
      "text/plain": [
       "    symbol       date   price\n",
       "282    IBM 2003-01-01   71.22\n",
       "100   MSFT 2008-05-01   27.25\n",
       "444   AAPL 2000-08-01   30.47\n",
       "336    IBM 2007-07-01  105.40\n",
       "382   GOOG 2005-09-01  316.46"
      ]
     },
     "execution_count": 12,
     "metadata": {},
     "output_type": "execute_result"
    }
   ],
   "source": [
    "train.head()"
   ]
  },
  {
   "cell_type": "markdown",
   "metadata": {},
   "source": [
    "If we pivot are we seeing a similar distribution?"
   ]
  },
  {
   "cell_type": "code",
   "execution_count": 13,
   "metadata": {},
   "outputs": [],
   "source": [
    "trainPiv = train.pivot(index='date', columns='symbol', values='price')"
   ]
  },
  {
   "cell_type": "code",
   "execution_count": 14,
   "metadata": {},
   "outputs": [
    {
     "data": {
      "text/html": [
       "<div>\n",
       "<style scoped>\n",
       "    .dataframe tbody tr th:only-of-type {\n",
       "        vertical-align: middle;\n",
       "    }\n",
       "\n",
       "    .dataframe tbody tr th {\n",
       "        vertical-align: top;\n",
       "    }\n",
       "\n",
       "    .dataframe thead th {\n",
       "        text-align: right;\n",
       "    }\n",
       "</style>\n",
       "<table border=\"1\" class=\"dataframe\">\n",
       "  <thead>\n",
       "    <tr style=\"text-align: right;\">\n",
       "      <th>symbol</th>\n",
       "      <th>AAPL</th>\n",
       "      <th>AMZN</th>\n",
       "      <th>GOOG</th>\n",
       "      <th>IBM</th>\n",
       "      <th>MSFT</th>\n",
       "    </tr>\n",
       "  </thead>\n",
       "  <tbody>\n",
       "    <tr>\n",
       "      <th>count</th>\n",
       "      <td>113.000000</td>\n",
       "      <td>113.000000</td>\n",
       "      <td>63.000000</td>\n",
       "      <td>106.000000</td>\n",
       "      <td>109.000000</td>\n",
       "    </tr>\n",
       "    <tr>\n",
       "      <th>mean</th>\n",
       "      <td>67.783363</td>\n",
       "      <td>47.576283</td>\n",
       "      <td>417.495079</td>\n",
       "      <td>91.548774</td>\n",
       "      <td>24.556972</td>\n",
       "    </tr>\n",
       "    <tr>\n",
       "      <th>std</th>\n",
       "      <td>64.537490</td>\n",
       "      <td>27.928354</td>\n",
       "      <td>139.271808</td>\n",
       "      <td>16.767351</td>\n",
       "      <td>4.346173</td>\n",
       "    </tr>\n",
       "    <tr>\n",
       "      <th>min</th>\n",
       "      <td>7.070000</td>\n",
       "      <td>5.970000</td>\n",
       "      <td>102.370000</td>\n",
       "      <td>53.010000</td>\n",
       "      <td>15.810000</td>\n",
       "    </tr>\n",
       "    <tr>\n",
       "      <th>25%</th>\n",
       "      <td>10.950000</td>\n",
       "      <td>30.120000</td>\n",
       "      <td>338.260000</td>\n",
       "      <td>77.192500</td>\n",
       "      <td>21.650000</td>\n",
       "    </tr>\n",
       "    <tr>\n",
       "      <th>50%</th>\n",
       "      <td>41.670000</td>\n",
       "      <td>41.500000</td>\n",
       "      <td>421.590000</td>\n",
       "      <td>88.760000</td>\n",
       "      <td>23.820000</td>\n",
       "    </tr>\n",
       "    <tr>\n",
       "      <th>75%</th>\n",
       "      <td>113.660000</td>\n",
       "      <td>64.560000</td>\n",
       "      <td>512.625000</td>\n",
       "      <td>102.650000</td>\n",
       "      <td>27.210000</td>\n",
       "    </tr>\n",
       "    <tr>\n",
       "      <th>max</th>\n",
       "      <td>223.020000</td>\n",
       "      <td>135.910000</td>\n",
       "      <td>707.000000</td>\n",
       "      <td>130.320000</td>\n",
       "      <td>43.220000</td>\n",
       "    </tr>\n",
       "  </tbody>\n",
       "</table>\n",
       "</div>"
      ],
      "text/plain": [
       "symbol        AAPL        AMZN        GOOG         IBM        MSFT\n",
       "count   113.000000  113.000000   63.000000  106.000000  109.000000\n",
       "mean     67.783363   47.576283  417.495079   91.548774   24.556972\n",
       "std      64.537490   27.928354  139.271808   16.767351    4.346173\n",
       "min       7.070000    5.970000  102.370000   53.010000   15.810000\n",
       "25%      10.950000   30.120000  338.260000   77.192500   21.650000\n",
       "50%      41.670000   41.500000  421.590000   88.760000   23.820000\n",
       "75%     113.660000   64.560000  512.625000  102.650000   27.210000\n",
       "max     223.020000  135.910000  707.000000  130.320000   43.220000"
      ]
     },
     "execution_count": 14,
     "metadata": {},
     "output_type": "execute_result"
    }
   ],
   "source": [
    "trainPiv.describe()"
   ]
  },
  {
   "cell_type": "code",
   "execution_count": 15,
   "metadata": {},
   "outputs": [
    {
     "data": {
      "image/png": "[encoded data removed]",
      "text/plain": [
       "<Figure size 1440x1080 with 6 Axes>"
      ]
     },
     "metadata": {},
     "output_type": "display_data"
    }
   ],
   "source": [
    "trainPiv.hist(figsize=(20,15))\n",
    "plt.show()"
   ]
  },
  {
   "cell_type": "markdown",
   "metadata": {},
   "source": [
    "The train set is looking pretty good from here."
   ]
  }
 ],
 "metadata": {
  "kernelspec": {
   "display_name": "Python 3",
   "language": "python",
   "name": "python3"
  },
  "language_info": {
   "codemirror_mode": {
    "name": "ipython",
    "version": 3
   },
   "file_extension": ".py",
   "mimetype": "text/x-python",
   "name": "python",
   "nbconvert_exporter": "python",
   "pygments_lexer": "ipython3",
   "version": "3.6.4"
  }
 },
 "nbformat": 4,
 "nbformat_minor": 2
}
