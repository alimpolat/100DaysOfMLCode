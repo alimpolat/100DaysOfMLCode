{
 "cells": [
  {
   "cell_type": "markdown",
   "metadata": {},
   "source": [
    "# A list of 10,000 Dictionaries\n",
    "\n",
    "\n",
    "The sections of text from the CNN article titleed: [How a parasite from cat poop can reduce your fear and maybe make you an entrepreneur.](https://www.cnn.com/2018/07/26/health/cat-poop-entrepreneur-trnd/index.html) Is placed into a list of 10,000 dictionaries...\n",
    "\n",
    "Why? Why Not?"
   ]
  },
  {
   "cell_type": "code",
   "execution_count": 1,
   "metadata": {},
   "outputs": [],
   "source": [
    "from random import randint\n",
    "import time\n",
    "from sklearn.feature_extraction.text import CountVectorizer"
   ]
  },
  {
   "cell_type": "markdown",
   "metadata": {},
   "source": [
    "## Bring in the .txt file\n",
    "\n",
    "There are 23 sections in this file. Sections can be a sentence or more, a whole paragraph, or some are blank. We're leaving everything as it is."
   ]
  },
  {
   "cell_type": "code",
   "execution_count": 2,
   "metadata": {},
   "outputs": [],
   "source": [
    "word_file = \"Data/catParasite.txt\"\n",
    "WORDS = open(word_file).read().splitlines()"
   ]
  },
  {
   "cell_type": "markdown",
   "metadata": {},
   "source": [
    "## Create a list of dictionaries \n",
    "\n",
    "Each dictionary contains 10 keys and each key maps randomly to one of the word sections described above. We end up with 10,000 dictionaries, each with 10 keys."
   ]
  },
  {
   "cell_type": "code",
   "execution_count": 3,
   "metadata": {},
   "outputs": [],
   "source": [
    "list_dicts = []\n",
    "for _ in range(10000):     # number of dicts in the list\n",
    "    dict_tmp = {}\n",
    "    for i in range(10):   # number of keys for each dict\n",
    "        dict_tmp[f\"key{i}\"] = WORDS[randint(0,22)]\n",
    "    list_dicts.append( dict_tmp )"
   ]
  },
  {
   "cell_type": "code",
   "execution_count": 5,
   "metadata": {},
   "outputs": [
    {
     "data": {
      "text/plain": [
       "{'key0': '\"The most common place it likes to go is in your brain,\" said Johnson, an associate professor of management at the University of Colorado Boulder\\'s Leeds School of Business. \"There\\'s a lot of us walking around with this in our brain.\"',\n",
       " 'key1': 'Johnson and her team collected saliva samples over a five-year period from business and biology students to find those who tested positive for exposure to Toxoplasma gondii. They also asked the business students what their area of emphasis was.',\n",
       " 'key2': '',\n",
       " 'key3': 'Hold on, hear us out on this one.',\n",
       " 'key4': 'Johnson and her team collected saliva samples over a five-year period from business and biology students to find those who tested positive for exposure to Toxoplasma gondii. They also asked the business students what their area of emphasis was.',\n",
       " 'key5': 'They looked at global data and found the same relationship.',\n",
       " 'key6': 'Been wanting to run your own business but too afraid of failure to try? Maybe cat poop can give you the push you need.',\n",
       " 'key7': 'So what effect could a toxoplasma infection have on behavior? Well in mice, the infection makes them less afraid of the smell of cat urine, and thus less afraid of cats. There\\'s a similar risk-taking effect in humans. Johnson said infected people have been associated with road rage incidents, suicide and even schizophrenia. And people who died \"in a risky way\" were more likely to have had the toxoplasma infection, she said.',\n",
       " 'key8': \"Johnson said the team's research brings up other questions that she'd like to get answered with further study. Like what happens to the businesses that are created by people with toxoplasma. Do they last longer? Do they on average outperform other businesses? Would the business have been created at all if the person didn't have toxoplasma?\",\n",
       " 'key9': \"She also said toxoplasma's effect on a person might be different if the infection comes from some other source, like eating contaminated meat, as opposed to getting it directly from cat feces. But that too needs more study. Finally, Johnson said she wants to study if toxoplasma has any effect on whether a person becomes more conservative or liberal in their political leanings.\"}"
      ]
     },
     "execution_count": 5,
     "metadata": {},
     "output_type": "execute_result"
    }
   ],
   "source": [
    "list_dicts[1]"
   ]
  },
  {
   "cell_type": "markdown",
   "metadata": {},
   "source": [
    "For tokenizationa dn vectorization: we're already familiar with CountVectorizer so lets use that for now."
   ]
  },
  {
   "cell_type": "code",
   "execution_count": 6,
   "metadata": {},
   "outputs": [],
   "source": [
    "# define vectorizer\n",
    "vect = CountVectorizer(analyzer=\"word\", lowercase=True,\n",
    "                        max_features=5000, stop_words='english',\n",
    "                       token_pattern=r'\\b[a-zA-Z]{2,}\\b')"
   ]
  },
  {
   "cell_type": "markdown",
   "metadata": {},
   "source": [
    "## Bag of Words\n",
    "\n",
    "Here we loop through the list and pull out all dicts that have a blank key0 and a not blank key1 (this is our selection criteria). Then our bag of words will be set to only the vocabulary in the second key from this selection."
   ]
  },
  {
   "cell_type": "code",
   "execution_count": 10,
   "metadata": {},
   "outputs": [
    {
     "name": "stdout",
     "output_type": "stream",
     "text": [
      "The Features: ['afraid', 'associated', 'behavior', 'cat', 'cats', 'died', 'effect', 'humans', 'incidents', 'infected', 'infection', 'johnson', 'likely', 'makes', 'mice', 'people', 'rage', 'risk', 'risky', 'road', 'said', 'schizophrenia', 'similar', 'smell', 'suicide', 'taking', 'toxoplasma', 'urine', 'way']\n"
     ]
    }
   ],
   "source": [
    "for dict_ in [x for x in list_dicts if x[\"key0\"] == '' and x[\"key1\"] != '']:\n",
    "    keys = [dict_[\"key1\"]]\n",
    "\n",
    "bag_of_words = vect.fit_transform(keys)\n",
    "\n",
    "print(\"The Features: {}\".format(vect.get_feature_names()))"
   ]
  }
 ],
 "metadata": {
  "kernelspec": {
   "display_name": "Python 3",
   "language": "python",
   "name": "python3"
  },
  "language_info": {
   "codemirror_mode": {
    "name": "ipython",
    "version": 3
   },
   "file_extension": ".py",
   "mimetype": "text/x-python",
   "name": "python",
   "nbconvert_exporter": "python",
   "pygments_lexer": "ipython3",
   "version": "3.6.4"
  }
 },
 "nbformat": 4,
 "nbformat_minor": 2
}
