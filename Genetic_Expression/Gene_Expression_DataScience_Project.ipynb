{
 "cells": [
  {
   "cell_type": "markdown",
   "metadata": {},
   "source": [
    "# Gene Expression Data Science Project\n",
    "\n",
    "### Phase 1:\n",
    "Collect and explore data from NCBI GEO2R: https://www.ncbi.nlm.nih.gov/geo/geo2r/?acc=GSE18388\n",
    "\n",
    "Goals for sample preprocessing:\n",
    " * Bring in data\n",
    " * Define Variables\n",
    " * Summarize \n",
    " * Visualize"
   ]
  },
  {
   "cell_type": "code",
   "execution_count": 1,
   "metadata": {},
   "outputs": [],
   "source": [
    "import numpy as np\n",
    "import pandas as pd\n",
    "import matplotlib.pyplot as plt\n",
    "import seaborn as sns"
   ]
  },
  {
   "cell_type": "markdown",
   "metadata": {},
   "source": [
    "### Import Raw Data\n",
    "\n",
    "The raw data is a tab delimited file with a fairly large header. We'll bring in the raw data and skip the header down to the sample names that we want."
   ]
  },
  {
   "cell_type": "code",
   "execution_count": 2,
   "metadata": {},
   "outputs": [],
   "source": [
    "spaceFlown = pd.read_csv('Data/GSE18388_series_matrix.txt.gz', delimiter='\\t',skiprows=31)"
   ]
  },
  {
   "cell_type": "markdown",
   "metadata": {},
   "source": [
    "We can see below that there is still some header left but our column names are set to the sampke descriptions."
   ]
  },
  {
   "cell_type": "code",
   "execution_count": 3,
   "metadata": {},
   "outputs": [
    {
     "data": {
      "text/html": [
       "<div>\n",
       "<style scoped>\n",
       "    .dataframe tbody tr th:only-of-type {\n",
       "        vertical-align: middle;\n",
       "    }\n",
       "\n",
       "    .dataframe tbody tr th {\n",
       "        vertical-align: top;\n",
       "    }\n",
       "\n",
       "    .dataframe thead th {\n",
       "        text-align: right;\n",
       "    }\n",
       "</style>\n",
       "<table border=\"1\" class=\"dataframe\">\n",
       "  <thead>\n",
       "    <tr style=\"text-align: right;\">\n",
       "      <th></th>\n",
       "      <th>!Sample_title</th>\n",
       "      <th>Space-Flown Thymus (FLT)-1</th>\n",
       "      <th>Space-Flown Thymus (FLT)-2</th>\n",
       "      <th>Space-Flown Thymus (FLT)-3</th>\n",
       "      <th>Space-Flown Thymus (FLT)-4</th>\n",
       "      <th>Control Thymus (AEM)-1</th>\n",
       "      <th>Control Thymus (AEM)-2</th>\n",
       "      <th>Control Thymus (AEM)-3</th>\n",
       "      <th>Control Thymus (AEM)-4</th>\n",
       "    </tr>\n",
       "  </thead>\n",
       "  <tbody>\n",
       "    <tr>\n",
       "      <th>25</th>\n",
       "      <td>!Sample_contact_address</td>\n",
       "      <td>1656 E Mabel</td>\n",
       "      <td>1656 E Mabel</td>\n",
       "      <td>1656 E Mabel</td>\n",
       "      <td>1656 E Mabel</td>\n",
       "      <td>1656 E Mabel</td>\n",
       "      <td>1656 E Mabel</td>\n",
       "      <td>1656 E Mabel</td>\n",
       "      <td>1656 E Mabel</td>\n",
       "    </tr>\n",
       "    <tr>\n",
       "      <th>26</th>\n",
       "      <td>!Sample_contact_city</td>\n",
       "      <td>Tucson</td>\n",
       "      <td>Tucson</td>\n",
       "      <td>Tucson</td>\n",
       "      <td>Tucson</td>\n",
       "      <td>Tucson</td>\n",
       "      <td>Tucson</td>\n",
       "      <td>Tucson</td>\n",
       "      <td>Tucson</td>\n",
       "    </tr>\n",
       "    <tr>\n",
       "      <th>27</th>\n",
       "      <td>!Sample_contact_state</td>\n",
       "      <td>AZ</td>\n",
       "      <td>AZ</td>\n",
       "      <td>AZ</td>\n",
       "      <td>AZ</td>\n",
       "      <td>AZ</td>\n",
       "      <td>AZ</td>\n",
       "      <td>AZ</td>\n",
       "      <td>AZ</td>\n",
       "    </tr>\n",
       "    <tr>\n",
       "      <th>28</th>\n",
       "      <td>!Sample_contact_zip/postal_code</td>\n",
       "      <td>85724</td>\n",
       "      <td>85724</td>\n",
       "      <td>85724</td>\n",
       "      <td>85724</td>\n",
       "      <td>85724</td>\n",
       "      <td>85724</td>\n",
       "      <td>85724</td>\n",
       "      <td>85724</td>\n",
       "    </tr>\n",
       "    <tr>\n",
       "      <th>29</th>\n",
       "      <td>!Sample_contact_country</td>\n",
       "      <td>USA</td>\n",
       "      <td>USA</td>\n",
       "      <td>USA</td>\n",
       "      <td>USA</td>\n",
       "      <td>USA</td>\n",
       "      <td>USA</td>\n",
       "      <td>USA</td>\n",
       "      <td>USA</td>\n",
       "    </tr>\n",
       "    <tr>\n",
       "      <th>30</th>\n",
       "      <td>!Sample_supplementary_file</td>\n",
       "      <td>ftp://ftp.ncbi.nlm.nih.gov/geo/samples/GSM458n...</td>\n",
       "      <td>ftp://ftp.ncbi.nlm.nih.gov/geo/samples/GSM458n...</td>\n",
       "      <td>ftp://ftp.ncbi.nlm.nih.gov/geo/samples/GSM458n...</td>\n",
       "      <td>ftp://ftp.ncbi.nlm.nih.gov/geo/samples/GSM458n...</td>\n",
       "      <td>ftp://ftp.ncbi.nlm.nih.gov/geo/samples/GSM458n...</td>\n",
       "      <td>ftp://ftp.ncbi.nlm.nih.gov/geo/samples/GSM458n...</td>\n",
       "      <td>ftp://ftp.ncbi.nlm.nih.gov/geo/samples/GSM458n...</td>\n",
       "      <td>ftp://ftp.ncbi.nlm.nih.gov/geo/samples/GSM458n...</td>\n",
       "    </tr>\n",
       "    <tr>\n",
       "      <th>31</th>\n",
       "      <td>!Sample_data_row_count</td>\n",
       "      <td>35557</td>\n",
       "      <td>35557</td>\n",
       "      <td>35557</td>\n",
       "      <td>35557</td>\n",
       "      <td>35557</td>\n",
       "      <td>35557</td>\n",
       "      <td>35557</td>\n",
       "      <td>35557</td>\n",
       "    </tr>\n",
       "    <tr>\n",
       "      <th>32</th>\n",
       "      <td>!series_matrix_table_begin</td>\n",
       "      <td>NaN</td>\n",
       "      <td>NaN</td>\n",
       "      <td>NaN</td>\n",
       "      <td>NaN</td>\n",
       "      <td>NaN</td>\n",
       "      <td>NaN</td>\n",
       "      <td>NaN</td>\n",
       "      <td>NaN</td>\n",
       "    </tr>\n",
       "    <tr>\n",
       "      <th>33</th>\n",
       "      <td>ID_REF</td>\n",
       "      <td>GSM458594</td>\n",
       "      <td>GSM458595</td>\n",
       "      <td>GSM458596</td>\n",
       "      <td>GSM458597</td>\n",
       "      <td>GSM458598</td>\n",
       "      <td>GSM458599</td>\n",
       "      <td>GSM458600</td>\n",
       "      <td>GSM458601</td>\n",
       "    </tr>\n",
       "    <tr>\n",
       "      <th>34</th>\n",
       "      <td>10338001</td>\n",
       "      <td>11.71150504</td>\n",
       "      <td>11.6649732</td>\n",
       "      <td>11.92198125</td>\n",
       "      <td>11.53058547</td>\n",
       "      <td>11.56184388</td>\n",
       "      <td>11.91622762</td>\n",
       "      <td>11.38164452</td>\n",
       "      <td>11.45750899</td>\n",
       "    </tr>\n",
       "  </tbody>\n",
       "</table>\n",
       "</div>"
      ],
      "text/plain": [
       "                      !Sample_title  \\\n",
       "25          !Sample_contact_address   \n",
       "26             !Sample_contact_city   \n",
       "27            !Sample_contact_state   \n",
       "28  !Sample_contact_zip/postal_code   \n",
       "29          !Sample_contact_country   \n",
       "30       !Sample_supplementary_file   \n",
       "31           !Sample_data_row_count   \n",
       "32       !series_matrix_table_begin   \n",
       "33                           ID_REF   \n",
       "34                         10338001   \n",
       "\n",
       "                           Space-Flown Thymus (FLT)-1  \\\n",
       "25                                       1656 E Mabel   \n",
       "26                                             Tucson   \n",
       "27                                                 AZ   \n",
       "28                                              85724   \n",
       "29                                                USA   \n",
       "30  ftp://ftp.ncbi.nlm.nih.gov/geo/samples/GSM458n...   \n",
       "31                                              35557   \n",
       "32                                                NaN   \n",
       "33                                          GSM458594   \n",
       "34                                        11.71150504   \n",
       "\n",
       "                           Space-Flown Thymus (FLT)-2  \\\n",
       "25                                       1656 E Mabel   \n",
       "26                                             Tucson   \n",
       "27                                                 AZ   \n",
       "28                                              85724   \n",
       "29                                                USA   \n",
       "30  ftp://ftp.ncbi.nlm.nih.gov/geo/samples/GSM458n...   \n",
       "31                                              35557   \n",
       "32                                                NaN   \n",
       "33                                          GSM458595   \n",
       "34                                         11.6649732   \n",
       "\n",
       "                           Space-Flown Thymus (FLT)-3  \\\n",
       "25                                       1656 E Mabel   \n",
       "26                                             Tucson   \n",
       "27                                                 AZ   \n",
       "28                                              85724   \n",
       "29                                                USA   \n",
       "30  ftp://ftp.ncbi.nlm.nih.gov/geo/samples/GSM458n...   \n",
       "31                                              35557   \n",
       "32                                                NaN   \n",
       "33                                          GSM458596   \n",
       "34                                        11.92198125   \n",
       "\n",
       "                           Space-Flown Thymus (FLT)-4  \\\n",
       "25                                       1656 E Mabel   \n",
       "26                                             Tucson   \n",
       "27                                                 AZ   \n",
       "28                                              85724   \n",
       "29                                                USA   \n",
       "30  ftp://ftp.ncbi.nlm.nih.gov/geo/samples/GSM458n...   \n",
       "31                                              35557   \n",
       "32                                                NaN   \n",
       "33                                          GSM458597   \n",
       "34                                        11.53058547   \n",
       "\n",
       "                               Control Thymus (AEM)-1  \\\n",
       "25                                       1656 E Mabel   \n",
       "26                                             Tucson   \n",
       "27                                                 AZ   \n",
       "28                                              85724   \n",
       "29                                                USA   \n",
       "30  ftp://ftp.ncbi.nlm.nih.gov/geo/samples/GSM458n...   \n",
       "31                                              35557   \n",
       "32                                                NaN   \n",
       "33                                          GSM458598   \n",
       "34                                        11.56184388   \n",
       "\n",
       "                               Control Thymus (AEM)-2  \\\n",
       "25                                       1656 E Mabel   \n",
       "26                                             Tucson   \n",
       "27                                                 AZ   \n",
       "28                                              85724   \n",
       "29                                                USA   \n",
       "30  ftp://ftp.ncbi.nlm.nih.gov/geo/samples/GSM458n...   \n",
       "31                                              35557   \n",
       "32                                                NaN   \n",
       "33                                          GSM458599   \n",
       "34                                        11.91622762   \n",
       "\n",
       "                               Control Thymus (AEM)-3  \\\n",
       "25                                       1656 E Mabel   \n",
       "26                                             Tucson   \n",
       "27                                                 AZ   \n",
       "28                                              85724   \n",
       "29                                                USA   \n",
       "30  ftp://ftp.ncbi.nlm.nih.gov/geo/samples/GSM458n...   \n",
       "31                                              35557   \n",
       "32                                                NaN   \n",
       "33                                          GSM458600   \n",
       "34                                        11.38164452   \n",
       "\n",
       "                               Control Thymus (AEM)-4  \n",
       "25                                       1656 E Mabel  \n",
       "26                                             Tucson  \n",
       "27                                                 AZ  \n",
       "28                                              85724  \n",
       "29                                                USA  \n",
       "30  ftp://ftp.ncbi.nlm.nih.gov/geo/samples/GSM458n...  \n",
       "31                                              35557  \n",
       "32                                                NaN  \n",
       "33                                          GSM458601  \n",
       "34                                        11.45750899  "
      ]
     },
     "execution_count": 3,
     "metadata": {},
     "output_type": "execute_result"
    }
   ],
   "source": [
    "spaceFlown[25:35]"
   ]
  },
  {
   "cell_type": "markdown",
   "metadata": {},
   "source": [
    "Drop the rows from the header that we don't want in our raw data"
   ]
  },
  {
   "cell_type": "code",
   "execution_count": 4,
   "metadata": {},
   "outputs": [],
   "source": [
    "spaceFlown = spaceFlown.drop(spaceFlown.index[0:34])"
   ]
  },
  {
   "cell_type": "code",
   "execution_count": 5,
   "metadata": {},
   "outputs": [
    {
     "data": {
      "text/html": [
       "<div>\n",
       "<style scoped>\n",
       "    .dataframe tbody tr th:only-of-type {\n",
       "        vertical-align: middle;\n",
       "    }\n",
       "\n",
       "    .dataframe tbody tr th {\n",
       "        vertical-align: top;\n",
       "    }\n",
       "\n",
       "    .dataframe thead th {\n",
       "        text-align: right;\n",
       "    }\n",
       "</style>\n",
       "<table border=\"1\" class=\"dataframe\">\n",
       "  <thead>\n",
       "    <tr style=\"text-align: right;\">\n",
       "      <th></th>\n",
       "      <th>!Sample_title</th>\n",
       "      <th>Space-Flown Thymus (FLT)-1</th>\n",
       "      <th>Space-Flown Thymus (FLT)-2</th>\n",
       "      <th>Space-Flown Thymus (FLT)-3</th>\n",
       "      <th>Space-Flown Thymus (FLT)-4</th>\n",
       "      <th>Control Thymus (AEM)-1</th>\n",
       "      <th>Control Thymus (AEM)-2</th>\n",
       "      <th>Control Thymus (AEM)-3</th>\n",
       "      <th>Control Thymus (AEM)-4</th>\n",
       "    </tr>\n",
       "  </thead>\n",
       "  <tbody>\n",
       "    <tr>\n",
       "      <th>34</th>\n",
       "      <td>10338001</td>\n",
       "      <td>11.71150504</td>\n",
       "      <td>11.6649732</td>\n",
       "      <td>11.92198125</td>\n",
       "      <td>11.53058547</td>\n",
       "      <td>11.56184388</td>\n",
       "      <td>11.91622762</td>\n",
       "      <td>11.38164452</td>\n",
       "      <td>11.45750899</td>\n",
       "    </tr>\n",
       "    <tr>\n",
       "      <th>35</th>\n",
       "      <td>10338002</td>\n",
       "      <td>6.273491332</td>\n",
       "      <td>6.438454077</td>\n",
       "      <td>6.012187956</td>\n",
       "      <td>6.529641458</td>\n",
       "      <td>6.49010158</td>\n",
       "      <td>6.444351316</td>\n",
       "      <td>6.401128246</td>\n",
       "      <td>6.416001061</td>\n",
       "    </tr>\n",
       "    <tr>\n",
       "      <th>36</th>\n",
       "      <td>10338003</td>\n",
       "      <td>10.31323037</td>\n",
       "      <td>10.36871109</td>\n",
       "      <td>10.63295717</td>\n",
       "      <td>10.13591981</td>\n",
       "      <td>10.22610827</td>\n",
       "      <td>10.67998187</td>\n",
       "      <td>10.02053086</td>\n",
       "      <td>10.10665246</td>\n",
       "    </tr>\n",
       "    <tr>\n",
       "      <th>37</th>\n",
       "      <td>10338004</td>\n",
       "      <td>9.232859751</td>\n",
       "      <td>9.265787374</td>\n",
       "      <td>9.475008419</td>\n",
       "      <td>9.125303512</td>\n",
       "      <td>9.294233243</td>\n",
       "      <td>9.510278492</td>\n",
       "      <td>8.970523792</td>\n",
       "      <td>9.113074867</td>\n",
       "    </tr>\n",
       "    <tr>\n",
       "      <th>38</th>\n",
       "      <td>10338005</td>\n",
       "      <td>1.885374449</td>\n",
       "      <td>2.09539317</td>\n",
       "      <td>2.009620764</td>\n",
       "      <td>2.070795684</td>\n",
       "      <td>2.058987659</td>\n",
       "      <td>2.101411886</td>\n",
       "      <td>2.043781576</td>\n",
       "      <td>2.071245021</td>\n",
       "    </tr>\n",
       "  </tbody>\n",
       "</table>\n",
       "</div>"
      ],
      "text/plain": [
       "   !Sample_title Space-Flown Thymus (FLT)-1 Space-Flown Thymus (FLT)-2  \\\n",
       "34      10338001                11.71150504                 11.6649732   \n",
       "35      10338002                6.273491332                6.438454077   \n",
       "36      10338003                10.31323037                10.36871109   \n",
       "37      10338004                9.232859751                9.265787374   \n",
       "38      10338005                1.885374449                 2.09539317   \n",
       "\n",
       "   Space-Flown Thymus (FLT)-3 Space-Flown Thymus (FLT)-4  \\\n",
       "34                11.92198125                11.53058547   \n",
       "35                6.012187956                6.529641458   \n",
       "36                10.63295717                10.13591981   \n",
       "37                9.475008419                9.125303512   \n",
       "38                2.009620764                2.070795684   \n",
       "\n",
       "   Control Thymus (AEM)-1 Control Thymus (AEM)-2 Control Thymus (AEM)-3  \\\n",
       "34            11.56184388            11.91622762            11.38164452   \n",
       "35             6.49010158            6.444351316            6.401128246   \n",
       "36            10.22610827            10.67998187            10.02053086   \n",
       "37            9.294233243            9.510278492            8.970523792   \n",
       "38            2.058987659            2.101411886            2.043781576   \n",
       "\n",
       "   Control Thymus (AEM)-4  \n",
       "34            11.45750899  \n",
       "35            6.416001061  \n",
       "36            10.10665246  \n",
       "37            9.113074867  \n",
       "38            2.071245021  "
      ]
     },
     "execution_count": 5,
     "metadata": {},
     "output_type": "execute_result"
    }
   ],
   "source": [
    "spaceFlown[:5]"
   ]
  },
  {
   "cell_type": "markdown",
   "metadata": {},
   "source": [
    "This looks better but I want to rename that first column to ID_REF this is the reference to the Gene ID."
   ]
  },
  {
   "cell_type": "code",
   "execution_count": 6,
   "metadata": {},
   "outputs": [],
   "source": [
    "spaceFlown.rename(columns={'!Sample_title':'ID_REF'}, inplace=True)"
   ]
  },
  {
   "cell_type": "code",
   "execution_count": 7,
   "metadata": {},
   "outputs": [
    {
     "data": {
      "text/html": [
       "<div>\n",
       "<style scoped>\n",
       "    .dataframe tbody tr th:only-of-type {\n",
       "        vertical-align: middle;\n",
       "    }\n",
       "\n",
       "    .dataframe tbody tr th {\n",
       "        vertical-align: top;\n",
       "    }\n",
       "\n",
       "    .dataframe thead th {\n",
       "        text-align: right;\n",
       "    }\n",
       "</style>\n",
       "<table border=\"1\" class=\"dataframe\">\n",
       "  <thead>\n",
       "    <tr style=\"text-align: right;\">\n",
       "      <th></th>\n",
       "      <th>ID_REF</th>\n",
       "      <th>Space-Flown Thymus (FLT)-1</th>\n",
       "      <th>Space-Flown Thymus (FLT)-2</th>\n",
       "      <th>Space-Flown Thymus (FLT)-3</th>\n",
       "      <th>Space-Flown Thymus (FLT)-4</th>\n",
       "      <th>Control Thymus (AEM)-1</th>\n",
       "      <th>Control Thymus (AEM)-2</th>\n",
       "      <th>Control Thymus (AEM)-3</th>\n",
       "      <th>Control Thymus (AEM)-4</th>\n",
       "    </tr>\n",
       "  </thead>\n",
       "  <tbody>\n",
       "    <tr>\n",
       "      <th>34</th>\n",
       "      <td>10338001</td>\n",
       "      <td>11.71150504</td>\n",
       "      <td>11.6649732</td>\n",
       "      <td>11.92198125</td>\n",
       "      <td>11.53058547</td>\n",
       "      <td>11.56184388</td>\n",
       "      <td>11.91622762</td>\n",
       "      <td>11.38164452</td>\n",
       "      <td>11.45750899</td>\n",
       "    </tr>\n",
       "    <tr>\n",
       "      <th>35</th>\n",
       "      <td>10338002</td>\n",
       "      <td>6.273491332</td>\n",
       "      <td>6.438454077</td>\n",
       "      <td>6.012187956</td>\n",
       "      <td>6.529641458</td>\n",
       "      <td>6.49010158</td>\n",
       "      <td>6.444351316</td>\n",
       "      <td>6.401128246</td>\n",
       "      <td>6.416001061</td>\n",
       "    </tr>\n",
       "    <tr>\n",
       "      <th>36</th>\n",
       "      <td>10338003</td>\n",
       "      <td>10.31323037</td>\n",
       "      <td>10.36871109</td>\n",
       "      <td>10.63295717</td>\n",
       "      <td>10.13591981</td>\n",
       "      <td>10.22610827</td>\n",
       "      <td>10.67998187</td>\n",
       "      <td>10.02053086</td>\n",
       "      <td>10.10665246</td>\n",
       "    </tr>\n",
       "    <tr>\n",
       "      <th>37</th>\n",
       "      <td>10338004</td>\n",
       "      <td>9.232859751</td>\n",
       "      <td>9.265787374</td>\n",
       "      <td>9.475008419</td>\n",
       "      <td>9.125303512</td>\n",
       "      <td>9.294233243</td>\n",
       "      <td>9.510278492</td>\n",
       "      <td>8.970523792</td>\n",
       "      <td>9.113074867</td>\n",
       "    </tr>\n",
       "    <tr>\n",
       "      <th>38</th>\n",
       "      <td>10338005</td>\n",
       "      <td>1.885374449</td>\n",
       "      <td>2.09539317</td>\n",
       "      <td>2.009620764</td>\n",
       "      <td>2.070795684</td>\n",
       "      <td>2.058987659</td>\n",
       "      <td>2.101411886</td>\n",
       "      <td>2.043781576</td>\n",
       "      <td>2.071245021</td>\n",
       "    </tr>\n",
       "  </tbody>\n",
       "</table>\n",
       "</div>"
      ],
      "text/plain": [
       "      ID_REF Space-Flown Thymus (FLT)-1 Space-Flown Thymus (FLT)-2  \\\n",
       "34  10338001                11.71150504                 11.6649732   \n",
       "35  10338002                6.273491332                6.438454077   \n",
       "36  10338003                10.31323037                10.36871109   \n",
       "37  10338004                9.232859751                9.265787374   \n",
       "38  10338005                1.885374449                 2.09539317   \n",
       "\n",
       "   Space-Flown Thymus (FLT)-3 Space-Flown Thymus (FLT)-4  \\\n",
       "34                11.92198125                11.53058547   \n",
       "35                6.012187956                6.529641458   \n",
       "36                10.63295717                10.13591981   \n",
       "37                9.475008419                9.125303512   \n",
       "38                2.009620764                2.070795684   \n",
       "\n",
       "   Control Thymus (AEM)-1 Control Thymus (AEM)-2 Control Thymus (AEM)-3  \\\n",
       "34            11.56184388            11.91622762            11.38164452   \n",
       "35             6.49010158            6.444351316            6.401128246   \n",
       "36            10.22610827            10.67998187            10.02053086   \n",
       "37            9.294233243            9.510278492            8.970523792   \n",
       "38            2.058987659            2.101411886            2.043781576   \n",
       "\n",
       "   Control Thymus (AEM)-4  \n",
       "34            11.45750899  \n",
       "35            6.416001061  \n",
       "36            10.10665246  \n",
       "37            9.113074867  \n",
       "38            2.071245021  "
      ]
     },
     "execution_count": 7,
     "metadata": {},
     "output_type": "execute_result"
    }
   ],
   "source": [
    "spaceFlown[:5]"
   ]
  },
  {
   "cell_type": "markdown",
   "metadata": {},
   "source": [
    "Check to see if we have any Null values:"
   ]
  },
  {
   "cell_type": "code",
   "execution_count": 8,
   "metadata": {},
   "outputs": [
    {
     "data": {
      "text/plain": [
       "ID_REF                        0\n",
       "Space-Flown Thymus (FLT)-1    1\n",
       "Space-Flown Thymus (FLT)-2    1\n",
       "Space-Flown Thymus (FLT)-3    1\n",
       "Space-Flown Thymus (FLT)-4    1\n",
       "Control Thymus (AEM)-1        1\n",
       "Control Thymus (AEM)-2        1\n",
       "Control Thymus (AEM)-3        1\n",
       "Control Thymus (AEM)-4        1\n",
       "dtype: int64"
      ]
     },
     "execution_count": 8,
     "metadata": {},
     "output_type": "execute_result"
    }
   ],
   "source": [
    "spaceFlown.isna().sum()"
   ]
  },
  {
   "cell_type": "markdown",
   "metadata": {},
   "source": [
    "We have one Null in each row, lets remove that."
   ]
  },
  {
   "cell_type": "code",
   "execution_count": 9,
   "metadata": {},
   "outputs": [],
   "source": [
    "spaceFlown.dropna(inplace=True)"
   ]
  },
  {
   "cell_type": "markdown",
   "metadata": {},
   "source": [
    "And what are the data types?"
   ]
  },
  {
   "cell_type": "code",
   "execution_count": 10,
   "metadata": {},
   "outputs": [
    {
     "data": {
      "text/plain": [
       "ID_REF                        object\n",
       "Space-Flown Thymus (FLT)-1    object\n",
       "Space-Flown Thymus (FLT)-2    object\n",
       "Space-Flown Thymus (FLT)-3    object\n",
       "Space-Flown Thymus (FLT)-4    object\n",
       "Control Thymus (AEM)-1        object\n",
       "Control Thymus (AEM)-2        object\n",
       "Control Thymus (AEM)-3        object\n",
       "Control Thymus (AEM)-4        object\n",
       "dtype: object"
      ]
     },
     "execution_count": 10,
     "metadata": {},
     "output_type": "execute_result"
    }
   ],
   "source": [
    "spaceFlown.dtypes"
   ]
  },
  {
   "cell_type": "code",
   "execution_count": 11,
   "metadata": {},
   "outputs": [
    {
     "data": {
      "text/plain": [
       "ID_REF                        True\n",
       "Space-Flown Thymus (FLT)-1    True\n",
       "Space-Flown Thymus (FLT)-2    True\n",
       "Space-Flown Thymus (FLT)-3    True\n",
       "Space-Flown Thymus (FLT)-4    True\n",
       "Control Thymus (AEM)-1        True\n",
       "Control Thymus (AEM)-2        True\n",
       "Control Thymus (AEM)-3        True\n",
       "Control Thymus (AEM)-4        True\n",
       "dtype: bool"
      ]
     },
     "execution_count": 11,
     "metadata": {},
     "output_type": "execute_result"
    }
   ],
   "source": [
    "spaceFlown.dtypes.eq(object)"
   ]
  },
  {
   "cell_type": "markdown",
   "metadata": {},
   "source": [
    "We can't plot object variables so lets set the column names to a variable and loop through each to convert all columns to numeric."
   ]
  },
  {
   "cell_type": "code",
   "execution_count": 12,
   "metadata": {},
   "outputs": [],
   "source": [
    "cols = spaceFlown.columns[spaceFlown.dtypes.eq(object)]"
   ]
  },
  {
   "cell_type": "code",
   "execution_count": 13,
   "metadata": {},
   "outputs": [],
   "source": [
    "spaceFlown[cols] = spaceFlown[cols].apply(pd.to_numeric, errors='coerce', axis=0)"
   ]
  },
  {
   "cell_type": "code",
   "execution_count": 14,
   "metadata": {},
   "outputs": [
    {
     "data": {
      "text/plain": [
       "ID_REF                        False\n",
       "Space-Flown Thymus (FLT)-1    False\n",
       "Space-Flown Thymus (FLT)-2    False\n",
       "Space-Flown Thymus (FLT)-3    False\n",
       "Space-Flown Thymus (FLT)-4    False\n",
       "Control Thymus (AEM)-1        False\n",
       "Control Thymus (AEM)-2        False\n",
       "Control Thymus (AEM)-3        False\n",
       "Control Thymus (AEM)-4        False\n",
       "dtype: bool"
      ]
     },
     "execution_count": 14,
     "metadata": {},
     "output_type": "execute_result"
    }
   ],
   "source": [
    "spaceFlown.dtypes.eq(object)"
   ]
  },
  {
   "cell_type": "markdown",
   "metadata": {},
   "source": [
    "Now our data looks good, lets do a boxplot, but first we'll make an array of the column names for the samples. "
   ]
  },
  {
   "cell_type": "code",
   "execution_count": 15,
   "metadata": {},
   "outputs": [],
   "source": [
    "sample_cols = cols[1:len(cols)]"
   ]
  },
  {
   "cell_type": "code",
   "execution_count": 24,
   "metadata": {},
   "outputs": [
    {
     "data": {
      "image/png": "[encoded data removed]",
      "text/plain": [
       "<Figure size 432x288 with 1 Axes>"
      ]
     },
     "metadata": {},
     "output_type": "display_data"
    }
   ],
   "source": [
    "fig, ax = plt.subplots()\n",
    "spaceFlown[sample_cols].boxplot().set_xlabel(\"Samples\")\n",
    "ax.set_xticklabels(sample_cols, rotation=40, ha='right')\n",
    "ax.set_ylabel(\"Value Data\")\n",
    "ax.set_title(\"The distribution of value data for the Samples\")\n",
    "\n",
    "plt.show()"
   ]
  },
  {
   "cell_type": "markdown",
   "metadata": {},
   "source": [
    "### Get GEO2R Analysis Data\n",
    "\n",
    "This data is derived from the GE"
   ]
  },
  {
   "cell_type": "code",
   "execution_count": 17,
   "metadata": {},
   "outputs": [],
   "source": [
    "spaceFlown_GEO2R = pd.read_table(\"Data/spaceFlown.txt\", sep=\"\\t\")"
   ]
  },
  {
   "cell_type": "code",
   "execution_count": 18,
   "metadata": {},
   "outputs": [
    {
     "data": {
      "text/html": [
       "<div>\n",
       "<style scoped>\n",
       "    .dataframe tbody tr th:only-of-type {\n",
       "        vertical-align: middle;\n",
       "    }\n",
       "\n",
       "    .dataframe tbody tr th {\n",
       "        vertical-align: top;\n",
       "    }\n",
       "\n",
       "    .dataframe thead th {\n",
       "        text-align: right;\n",
       "    }\n",
       "</style>\n",
       "<table border=\"1\" class=\"dataframe\">\n",
       "  <thead>\n",
       "    <tr style=\"text-align: right;\">\n",
       "      <th></th>\n",
       "      <th>ID</th>\n",
       "      <th>adj.P.Val</th>\n",
       "      <th>P.Value</th>\n",
       "      <th>t</th>\n",
       "      <th>B</th>\n",
       "      <th>logFC</th>\n",
       "      <th>Gene.symbol</th>\n",
       "      <th>Gene.title</th>\n",
       "    </tr>\n",
       "  </thead>\n",
       "  <tbody>\n",
       "    <tr>\n",
       "      <th>0</th>\n",
       "      <td>10358454</td>\n",
       "      <td>0.00509</td>\n",
       "      <td>1.960000e-07</td>\n",
       "      <td>-13.50</td>\n",
       "      <td>4.37730</td>\n",
       "      <td>-1.38</td>\n",
       "      <td>Rbm3</td>\n",
       "      <td>RNA binding motif protein 3</td>\n",
       "    </tr>\n",
       "    <tr>\n",
       "      <th>1</th>\n",
       "      <td>10603469</td>\n",
       "      <td>0.00509</td>\n",
       "      <td>2.860000e-07</td>\n",
       "      <td>-12.90</td>\n",
       "      <td>4.24228</td>\n",
       "      <td>-1.30</td>\n",
       "      <td>Rbm3</td>\n",
       "      <td>RNA binding motif protein 3</td>\n",
       "    </tr>\n",
       "    <tr>\n",
       "      <th>2</th>\n",
       "      <td>10556113</td>\n",
       "      <td>0.00546</td>\n",
       "      <td>4.610000e-07</td>\n",
       "      <td>-12.20</td>\n",
       "      <td>4.06259</td>\n",
       "      <td>-1.41</td>\n",
       "      <td>Rbm3</td>\n",
       "      <td>RNA binding motif protein 3</td>\n",
       "    </tr>\n",
       "    <tr>\n",
       "      <th>3</th>\n",
       "      <td>10535904</td>\n",
       "      <td>0.00844</td>\n",
       "      <td>9.500000e-07</td>\n",
       "      <td>11.30</td>\n",
       "      <td>3.76621</td>\n",
       "      <td>1.89</td>\n",
       "      <td>Hsph1</td>\n",
       "      <td>heat shock 105kDa/110kDa protein 1</td>\n",
       "    </tr>\n",
       "    <tr>\n",
       "      <th>4</th>\n",
       "      <td>10490946</td>\n",
       "      <td>0.03472</td>\n",
       "      <td>5.440000e-06</td>\n",
       "      <td>9.21</td>\n",
       "      <td>2.93118</td>\n",
       "      <td>1.02</td>\n",
       "      <td>Hsp90aa1</td>\n",
       "      <td>heat shock protein 90, alpha (cytosolic), clas...</td>\n",
       "    </tr>\n",
       "  </tbody>\n",
       "</table>\n",
       "</div>"
      ],
      "text/plain": [
       "         ID  adj.P.Val       P.Value      t        B  logFC Gene.symbol  \\\n",
       "0  10358454    0.00509  1.960000e-07 -13.50  4.37730  -1.38        Rbm3   \n",
       "1  10603469    0.00509  2.860000e-07 -12.90  4.24228  -1.30        Rbm3   \n",
       "2  10556113    0.00546  4.610000e-07 -12.20  4.06259  -1.41        Rbm3   \n",
       "3  10535904    0.00844  9.500000e-07  11.30  3.76621   1.89       Hsph1   \n",
       "4  10490946    0.03472  5.440000e-06   9.21  2.93118   1.02    Hsp90aa1   \n",
       "\n",
       "                                          Gene.title  \n",
       "0                        RNA binding motif protein 3  \n",
       "1                        RNA binding motif protein 3  \n",
       "2                        RNA binding motif protein 3  \n",
       "3                 heat shock 105kDa/110kDa protein 1  \n",
       "4  heat shock protein 90, alpha (cytosolic), clas...  "
      ]
     },
     "execution_count": 18,
     "metadata": {},
     "output_type": "execute_result"
    }
   ],
   "source": [
    "spaceFlown_GEO2R[:5]"
   ]
  }
 ],
 "metadata": {
  "kernelspec": {
   "display_name": "Python 3",
   "language": "python",
   "name": "python3"
  },
  "language_info": {
   "codemirror_mode": {
    "name": "ipython",
    "version": 3
   },
   "file_extension": ".py",
   "mimetype": "text/x-python",
   "name": "python",
   "nbconvert_exporter": "python",
   "pygments_lexer": "ipython3",
   "version": "3.6.4"
  }
 },
 "nbformat": 4,
 "nbformat_minor": 2
}
