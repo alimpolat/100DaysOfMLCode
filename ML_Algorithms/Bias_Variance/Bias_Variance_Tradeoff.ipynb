{
 "cells": [
  {
   "cell_type": "markdown",
   "metadata": {},
   "source": [
    "# Mean Square Error and the Bias-Variance Tradeoff\n",
    "\n",
    "This code shows a proof that Mean Square Error (MSE) = Variance + Bias-squared followed by how this can be applied to model selection.\n",
    "\n",
    "\n",
    "By standard definition, MSE of an estimator (some function of the data) is the expected value of the squared-difference between the expected value of the estimator and the true value. \n",
    "\n",
    "MSE(θ^) = E((θ^ - θ)**2)\n",
    "\n",
    "\n",
    "The Bias of an estimator is the difference between the expected value of the estimator and the true value of the estimator.\n",
    "\n",
    "Bias(θ^) = E(θ^) - θ\n",
    "\n",
    "\n",
    "The Variance of an estimator is the expected value of the squared difference between values of the estimator and the expected value of the estimator.\n",
    "\n",
    "Var(θ^) = E(θ^ - E(θ^))**2\n",
    "\n",
    "\n",
    "\n",
    "Bias-Variance Decomposition: MSE(θ^) = Variance + Bias-squared"
   ]
  },
  {
   "cell_type": "markdown",
   "metadata": {},
   "source": [
    "## Start with creating an estimator\n",
    "\n"
   ]
  },
  {
   "cell_type": "code",
   "execution_count": 1,
   "metadata": {},
   "outputs": [
    {
     "name": "stdout",
     "output_type": "stream",
     "text": [
      "θ^ = -21.834951414177198 + 15.922330088122807x\n"
     ]
    }
   ],
   "source": [
    "# calculate mean\n",
    "def mean(numList):\n",
    "    return round((float(sum(numList)) / len(numList) if len(numList) > 0 else 0),8)\n",
    "\n",
    "# calculate standard deviation\n",
    "def sd(numList):\n",
    "    meanList = mean(numList)\n",
    "    return round((float(((sum([(i - meanList)**2 for i in numList])) \n",
    "                 / (len(numList) - 1))**0.5)),8)\n",
    "\n",
    "\n",
    "\n",
    "# make up some data\n",
    "X = [2,3,4,3,2,9,6,7,2,9]\n",
    "y = [12,25,39,25,12,124,70,87,12,124]\n",
    "\n",
    "# define the sample size\n",
    "n = len(X) if len(X) == len(y) else print(\"Sample sizes are not equal.\")\n",
    "   \n",
    "\n",
    "# correlation coefficient\n",
    "r = ((n * sum([i*y[z] for z, i in enumerate(X)]) - (sum(X) * sum(y))) \n",
    "     / ((n * sum([i**2 for i in X]) - sum(X)**2) * (n * sum([i**2 for i in y]) - sum(y)**2))**0.5)\n",
    "\n",
    "# slope\n",
    "slope = r * (sd(y) / sd(X))\n",
    "\n",
    "# intercept\n",
    "intercept = mean(y) - slope * mean(X)\n",
    "\n",
    "# return the function\n",
    "print(\"θ^ = {} + {}x\".format(intercept,slope))"
   ]
  },
  {
   "cell_type": "markdown",
   "metadata": {},
   "source": [
    "## Use estimator to calculate expected values"
   ]
  },
  {
   "cell_type": "code",
   "execution_count": 2,
   "metadata": {},
   "outputs": [
    {
     "data": {
      "text/plain": [
       "[10.00970876,\n",
       " 25.93203885,\n",
       " 41.85436894,\n",
       " 25.93203885,\n",
       " 10.00970876,\n",
       " 121.46601938,\n",
       " 73.69902911,\n",
       " 89.6213592,\n",
       " 10.00970876,\n",
       " 121.46601938]"
      ]
     },
     "execution_count": 2,
     "metadata": {},
     "output_type": "execute_result"
    }
   ],
   "source": [
    "# for each x, what is the expected value of y?\n",
    "thetaHat = list(map(lambda x: round((intercept + slope*x),8), X))\n",
    "\n",
    "thetaHat"
   ]
  },
  {
   "cell_type": "markdown",
   "metadata": {},
   "source": [
    "## The real values of y\n"
   ]
  },
  {
   "cell_type": "code",
   "execution_count": 3,
   "metadata": {},
   "outputs": [
    {
     "data": {
      "text/plain": [
       "[12, 25, 39, 25, 12, 124, 70, 87, 12, 124]"
      ]
     },
     "execution_count": 3,
     "metadata": {},
     "output_type": "execute_result"
    }
   ],
   "source": [
    "# real values of y\n",
    "theta = y\n",
    "\n",
    "theta"
   ]
  },
  {
   "cell_type": "markdown",
   "metadata": {},
   "source": [
    "## Calculate MSE of estimator\n",
    "\n",
    "\n",
    "\n",
    "<img src=\"Images/MSE1.PNG\" alt=\"MSE\">"
   ]
  },
  {
   "cell_type": "code",
   "execution_count": 4,
   "metadata": {},
   "outputs": [
    {
     "data": {
      "text/plain": [
       "5.51650485"
      ]
     },
     "execution_count": 4,
     "metadata": {},
     "output_type": "execute_result"
    }
   ],
   "source": [
    "# find the expected value of square difference between thetaHat and theta\n",
    "MSE_theta_1 = mean([(thetaHat[num] - theta[num])**2 for num, est in enumerate(thetaHat)])\n",
    "\n",
    "MSE_theta_1"
   ]
  },
  {
   "cell_type": "markdown",
   "metadata": {},
   "source": [
    "## Subtract an estmator of theta from both thetas\n",
    "\n",
    "<img src=\"Images/MSE2.PNG\" alt=\"MSE2\">"
   ]
  },
  {
   "cell_type": "code",
   "execution_count": 5,
   "metadata": {},
   "outputs": [
    {
     "name": "stdout",
     "output_type": "stream",
     "text": [
      "MATCH: 5.51650485 = 5.51650485\n"
     ]
    }
   ],
   "source": [
    "# expectated value of thetaHat\n",
    "theta_exp = mean(thetaHat)\n",
    "\n",
    "# calculate new MSE of theta\n",
    "MSE_theta_2 = mean([(thetaHat[num] - theta_exp + theta_exp - theta[num])**2 \n",
    "                    for num, est in enumerate(thetaHat)])\n",
    "\n",
    "if float(MSE_theta_2) == MSE_theta_1:\n",
    "    print (\"MATCH: {} = {}\".format(MSE_theta_1, MSE_theta_2))\n",
    "else:\n",
    "    print(\"No Match: {} , {}\".format(MSE_theta_1, MSE_theta_2))"
   ]
  },
  {
   "cell_type": "markdown",
   "metadata": {},
   "source": [
    "## Distribute the binomial\n",
    "\n",
    "<img src=\"Images/MSE3.PNG\" alt=\"MSE3\">"
   ]
  },
  {
   "cell_type": "code",
   "execution_count": 6,
   "metadata": {},
   "outputs": [
    {
     "name": "stdout",
     "output_type": "stream",
     "text": [
      "MATCH: 5.51650485 = 5.51650485\n"
     ]
    }
   ],
   "source": [
    "MSE_theta_3 = mean([(((thetaHat[num] - theta_exp)**2) \n",
    "               + (2*((thetaHat[num] - theta_exp) * (theta_exp - theta[num]))) \n",
    "               + ((theta_exp - theta[num])**2)) for num, est in enumerate(thetaHat)])\n",
    "\n",
    "\n",
    "if MSE_theta_3 == MSE_theta_1:\n",
    "    print (\"MATCH: {} = {}\".format(MSE_theta_1, MSE_theta_3))\n",
    "else:\n",
    "    print(\"No Match: {} , {}\".format(MSE_theta_1, MSE_theta_3))"
   ]
  },
  {
   "cell_type": "markdown",
   "metadata": {},
   "source": [
    "## Break up expected values and eliminate 0\n",
    "\n",
    "\n",
    "<img src=\"Images/MSE4.PNG\" alt=\"MSE4\">"
   ]
  },
  {
   "cell_type": "code",
   "execution_count": 7,
   "metadata": {},
   "outputs": [
    {
     "name": "stdout",
     "output_type": "stream",
     "text": [
      "No Match: 5.51650485 , -5.5165068700000575\n"
     ]
    }
   ],
   "source": [
    "MSE_theta_4 = (mean([((thetaHat[num] - theta_exp)**2) for num, est in enumerate(thetaHat)]) \n",
    "                   + mean([(theta_exp**2 - theta[num]**2) for num, est in enumerate(theta)]))         \n",
    "\n",
    "\n",
    "if MSE_theta_4 == MSE_theta_1:\n",
    "    print (\"MATCH: {} = {}\".format(MSE_theta_1, MSE_theta_4))\n",
    "else:\n",
    "    print(\"No Match: {} , {}\".format(MSE_theta_1, MSE_theta_4))"
   ]
  },
  {
   "cell_type": "code",
   "execution_count": 8,
   "metadata": {},
   "outputs": [
    {
     "name": "stdout",
     "output_type": "stream",
     "text": [
      "sklearn MSE: 5.51650485, numpy Variance(θ^): 1827.88349313\n"
     ]
    }
   ],
   "source": [
    "from sklearn.metrics import mean_squared_error\n",
    "import numpy as np\n",
    "\n",
    "sklearn_mse = round(mean_squared_error(theta, thetaHat),8)\n",
    "numpy_var = round(np.var(thetaHat),8)\n",
    "\n",
    "\n",
    "print(\"sklearn MSE: {}, numpy Variance(θ^): {}\".format(sklearn_mse, numpy_var))"
   ]
  },
  {
   "cell_type": "markdown",
   "metadata": {},
   "source": [
    "## Final\n",
    "\n"
   ]
  },
  {
   "cell_type": "code",
   "execution_count": 9,
   "metadata": {},
   "outputs": [
    {
     "name": "stdout",
     "output_type": "stream",
     "text": [
      "Variance: 1827.88349313, Bias: 0.0\n"
     ]
    }
   ],
   "source": [
    "Var_Theta = mean([((thetaHat[num] - theta_exp)**2) for num, est in enumerate(thetaHat)])\n",
    "Bias_Theta = mean([(theta_exp - theta[num]) for num, est in enumerate(theta)])\n",
    "                 \n",
    "print(\"Variance: {}, Bias: {}\".format(Var_Theta, Bias_Theta))"
   ]
  }
 ],
 "metadata": {
  "kernelspec": {
   "display_name": "Python 3",
   "language": "python",
   "name": "python3"
  },
  "language_info": {
   "codemirror_mode": {
    "name": "ipython",
    "version": 3
   },
   "file_extension": ".py",
   "mimetype": "text/x-python",
   "name": "python",
   "nbconvert_exporter": "python",
   "pygments_lexer": "ipython3",
   "version": "3.6.4"
  }
 },
 "nbformat": 4,
 "nbformat_minor": 2
}
