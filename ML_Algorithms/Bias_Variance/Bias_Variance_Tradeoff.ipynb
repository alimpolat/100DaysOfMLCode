{
 "cells": [
  {
   "cell_type": "markdown",
   "metadata": {},
   "source": [
    "# Mean Square Error and the Bias-Variance Tradeoff\n",
    "\n",
    "This code shows a proof that Mean Square Error (MSE) = Variance + Bias-squared for a single point estimate. Followed by how this can be applied to model selection.\n",
    "\n",
    "\n",
    "By standard definition, MSE of an estimator (some function of the data) is the expected value of the squared-difference between the expected value of the estimator and the true value. \n",
    "\n",
    "MSE(θ^) = E[(θ^ - θ)**2]\n",
    "\n",
    "\n",
    "The Bias of an estimator is the difference between the expected value of the estimator and the true value of the estimator.\n",
    "\n",
    "Bias(θ^) = E[θ^] - θ\n",
    "\n",
    "\n",
    "The Variance of an estimator is the expected value of the squared difference between values of the estimator and the expected value of the estimator.\n",
    "\n",
    "Var(θ^) = E[(θ^ - E(θ^))**2]\n",
    "\n",
    "\n",
    "Bias-Variance Decomposition: MSE(θ^) = Variance + Bias-squared"
   ]
  },
  {
   "cell_type": "markdown",
   "metadata": {},
   "source": [
    "## Start with creating an estimator\n",
    "\n"
   ]
  },
  {
   "cell_type": "code",
   "execution_count": 1,
   "metadata": {},
   "outputs": [
    {
     "name": "stdout",
     "output_type": "stream",
     "text": [
      "θ^ = 5.0 + 10.0x\n"
     ]
    }
   ],
   "source": [
    "# calculate mean\n",
    "def mean(numList):\n",
    "    return round((float(sum(numList)) / len(numList) if len(numList) > 0 else 0),8)\n",
    "\n",
    "# calculate standard deviation\n",
    "def sd(numList):\n",
    "    meanList = mean(numList)\n",
    "    return round((float(((sum([(i - meanList)**2 for i in numList])) \n",
    "                 / (len(numList) - 1))**0.5)),8)\n",
    "\n",
    "\n",
    "\n",
    "# make up some data\n",
    "X = [0,1,2,3,4,5,6,7,8,9]\n",
    "y = [2,15,27,36,48,57,63,73,80,95]\n",
    "\n",
    "# define the sample size\n",
    "n = len(X) if len(X) == len(y) else print(\"Sample sizes are not equal.\")\n",
    "   \n",
    "\n",
    "# correlation coefficient\n",
    "r = ((n * sum([i*y[z] for z, i in enumerate(X)]) - (sum(X) * sum(y))) \n",
    "     / ((n * sum([i**2 for i in X]) - sum(X)**2) * (n * sum([i**2 for i in y]) - sum(y)**2))**0.5)\n",
    "\n",
    "# slope\n",
    "slope = round((r * (sd(y) / sd(X))),0)\n",
    "\n",
    "# intercept\n",
    "intercept = round((mean(y) - slope * mean(X)),0)\n",
    "\n",
    "\n",
    "# return the function\n",
    "print(\"θ^ = {} + {}x\".format(intercept,slope))"
   ]
  },
  {
   "cell_type": "markdown",
   "metadata": {},
   "source": [
    "## Use estimator to calculate expected values"
   ]
  },
  {
   "cell_type": "code",
   "execution_count": 2,
   "metadata": {},
   "outputs": [
    {
     "data": {
      "text/plain": [
       "[5.0, 15.0, 25.0, 35.0, 45.0, 55.0, 65.0, 75.0, 85.0, 95.0]"
      ]
     },
     "execution_count": 2,
     "metadata": {},
     "output_type": "execute_result"
    }
   ],
   "source": [
    "# for each x, what is the expected value of y?\n",
    "thetaHat = list(map(lambda x: round((intercept + slope*x),8), X))\n",
    "\n",
    "thetaHat"
   ]
  },
  {
   "cell_type": "code",
   "execution_count": 3,
   "metadata": {},
   "outputs": [
    {
     "name": "stdout",
     "output_type": "stream",
     "text": [
      "Using matplotlib backend: TkAgg\n"
     ]
    }
   ],
   "source": [
    "import matplotlib.pyplot as plt\n",
    "%matplotlib"
   ]
  },
  {
   "cell_type": "markdown",
   "metadata": {},
   "source": [
    "## Plot the model line and y values"
   ]
  },
  {
   "cell_type": "code",
   "execution_count": 4,
   "metadata": {},
   "outputs": [
    {
     "data": {
      "text/plain": [
       "Text(0.5,0,'y')"
      ]
     },
     "execution_count": 4,
     "metadata": {},
     "output_type": "execute_result"
    },
    {
     "data": {
      "image/png": "[encoded data removed]",
      "text/plain": [
       "<Figure size 432x288 with 1 Axes>"
      ]
     },
     "metadata": {},
     "output_type": "display_data"
    }
   ],
   "source": [
    "line = [slope*i+intercept for i in X]\n",
    "plt.plot(X,y,'o', X, line)\n",
    "plt.ylabel('Theta Hat')\n",
    "plt.xlabel('y')\n"
   ]
  },
  {
   "cell_type": "markdown",
   "metadata": {},
   "source": [
    "## The real values of y\n"
   ]
  },
  {
   "cell_type": "code",
   "execution_count": 5,
   "metadata": {},
   "outputs": [
    {
     "data": {
      "text/plain": [
       "[2, 15, 27, 36, 48, 57, 63, 73, 80, 95]"
      ]
     },
     "execution_count": 5,
     "metadata": {},
     "output_type": "execute_result"
    }
   ],
   "source": [
    "# real values of y\n",
    "theta = y\n",
    "\n",
    "theta"
   ]
  },
  {
   "cell_type": "markdown",
   "metadata": {},
   "source": [
    "## Calculate MSE of estimator\n",
    "\n",
    "\n",
    "\n",
    "<img src=\"Images/MSE1.PNG\" alt=\"MSE\">"
   ]
  },
  {
   "cell_type": "code",
   "execution_count": 6,
   "metadata": {},
   "outputs": [
    {
     "data": {
      "text/plain": [
       "6.0"
      ]
     },
     "execution_count": 6,
     "metadata": {},
     "output_type": "execute_result"
    }
   ],
   "source": [
    "# find the expected value of square difference between thetaHat and theta\n",
    "MSE_theta_1 = mean([(thetaHat[num] - theta[num])**2 for num, est in enumerate(thetaHat)])\n",
    "\n",
    "MSE_theta_1"
   ]
  },
  {
   "cell_type": "markdown",
   "metadata": {},
   "source": [
    "## Subtract an estmator of theta from both thetas\n",
    "\n",
    "<img src=\"Images/MSE2.PNG\" alt=\"MSE2\">"
   ]
  },
  {
   "cell_type": "code",
   "execution_count": 7,
   "metadata": {},
   "outputs": [
    {
     "name": "stdout",
     "output_type": "stream",
     "text": [
      "MATCH: 6.0 = 6.0\n"
     ]
    }
   ],
   "source": [
    "# expectated value of thetaHat\n",
    "thetaHat_exp = mean(thetaHat)\n",
    "\n",
    "# calculate new MSE of theta\n",
    "MSE_theta_2 = mean([(thetaHat[num] - thetaHat_exp + thetaHat_exp - theta[num])**2 \n",
    "                    for num, est in enumerate(thetaHat)])\n",
    "\n",
    "if float(MSE_theta_2) == MSE_theta_1:\n",
    "    print (\"MATCH: {} = {}\".format(MSE_theta_1, MSE_theta_2))\n",
    "else:\n",
    "    print(\"No Match: {} , {}\".format(MSE_theta_1, MSE_theta_2))"
   ]
  },
  {
   "cell_type": "markdown",
   "metadata": {},
   "source": [
    "## Distribute the binomial\n",
    "\n",
    "<img src=\"Images/MSE3.PNG\" alt=\"MSE3\">"
   ]
  },
  {
   "cell_type": "code",
   "execution_count": 8,
   "metadata": {},
   "outputs": [
    {
     "name": "stdout",
     "output_type": "stream",
     "text": [
      "MATCH: 6.0 = 6.0\n"
     ]
    }
   ],
   "source": [
    "MSE_theta_3 = mean([(((thetaHat[num] - thetaHat_exp)**2) \n",
    "               + (2*((thetaHat[num] - thetaHat_exp) * (thetaHat_exp - theta[num]))) \n",
    "               + ((thetaHat_exp - theta[num])**2)) for num, est in enumerate(thetaHat)])\n",
    "\n",
    "\n",
    "if MSE_theta_3 == MSE_theta_1:\n",
    "    print (\"MATCH: {} = {}\".format(MSE_theta_1, MSE_theta_3))\n",
    "else:\n",
    "    print(\"No Match: {} , {}\".format(MSE_theta_1, MSE_theta_3))"
   ]
  },
  {
   "cell_type": "markdown",
   "metadata": {},
   "source": [
    "## Distribute the expectation\n",
    "\n",
    "<img src=\"Images/MSE4.PNG\" alt=\"MSE4\">"
   ]
  },
  {
   "cell_type": "code",
   "execution_count": 9,
   "metadata": {},
   "outputs": [
    {
     "name": "stdout",
     "output_type": "stream",
     "text": [
      "MATCH: 6.0 = 6.0\n"
     ]
    }
   ],
   "source": [
    "MSE_theta_4 = (mean([(thetaHat[num] - thetaHat_exp)**2 for num, est in enumerate(thetaHat)]) \n",
    "               + mean([2*(thetaHat[num] - thetaHat_exp) * (thetaHat_exp - theta[num]) for num, est in enumerate(thetaHat)]) \n",
    "               + mean([(thetaHat_exp - theta[num])**2 for num, est in enumerate(thetaHat)]))\n",
    "\n",
    "\n",
    "if MSE_theta_4 == MSE_theta_1:\n",
    "    print (\"MATCH: {} = {}\".format(MSE_theta_1, MSE_theta_4))\n",
    "else:\n",
    "    print(\"No Match: {} , {}\".format(MSE_theta_1, MSE_theta_4))"
   ]
  },
  {
   "cell_type": "markdown",
   "metadata": {},
   "source": [
    "## Eliminate Crossterm\n",
    "\n",
    "\n",
    "<img src=\"Images/MSE5.PNG\" alt=\"MSE5\">"
   ]
  },
  {
   "cell_type": "code",
   "execution_count": 10,
   "metadata": {},
   "outputs": [
    {
     "data": {
      "text/plain": [
       "0.0"
      ]
     },
     "execution_count": 10,
     "metadata": {},
     "output_type": "execute_result"
    }
   ],
   "source": [
    "# show that 2(E[θ^ - E[θ^]] * E[E[θ^] - θ]) = 0\n",
    "\n",
    "(2 * mean([(thetaHat[num] - thetaHat_exp)for num, est in enumerate(thetaHat)]) \n",
    "   *  mean([(thetaHat_exp - theta[num]) for num, est in enumerate(thetaHat)]))"
   ]
  },
  {
   "cell_type": "code",
   "execution_count": 11,
   "metadata": {},
   "outputs": [
    {
     "data": {
      "text/plain": [
       "0.0"
      ]
     },
     "execution_count": 11,
     "metadata": {},
     "output_type": "execute_result"
    }
   ],
   "source": [
    "# show that 2 * (E[θ^] - E[θ^]) * (E[θ^] - E[θ]) = 0\n",
    "\n",
    "(2 * (mean([thetaHat[num] for num, est in enumerate(thetaHat)]) - thetaHat_exp) \n",
    "   *  (thetaHat_exp - mean([(theta[num]) for num, est in enumerate(thetaHat)])))"
   ]
  },
  {
   "cell_type": "code",
   "execution_count": 12,
   "metadata": {},
   "outputs": [
    {
     "data": {
      "text/plain": [
       "0.0"
      ]
     },
     "execution_count": 12,
     "metadata": {},
     "output_type": "execute_result"
    }
   ],
   "source": [
    "# show that (θ^ - E[θ^]) = 0\n",
    "\n",
    "mean([((num - thetaHat_exp)) for num in thetaHat])"
   ]
  },
  {
   "cell_type": "code",
   "execution_count": 13,
   "metadata": {},
   "outputs": [
    {
     "name": "stdout",
     "output_type": "stream",
     "text": [
      "No Match: 6.0 , 1618.0\n"
     ]
    }
   ],
   "source": [
    "MSE_theta_5 = (mean([(thetaHat[num] - thetaHat_exp)**2 for num, est in enumerate(thetaHat)])  \n",
    "               + mean([(thetaHat_exp - theta[num])**2 for num, est in enumerate(thetaHat)]))\n",
    "\n",
    "\n",
    "if MSE_theta_5 == MSE_theta_1:\n",
    "    print (\"MATCH: {} = {}\".format(MSE_theta_1, MSE_theta_5))\n",
    "else:\n",
    "    print(\"No Match: {} , {}\".format(MSE_theta_1, MSE_theta_5))"
   ]
  },
  {
   "cell_type": "markdown",
   "metadata": {},
   "source": [
    "# <font color='red' >WHAT?!</font>\n",
    "\n",
    "What is going on here? Maybe the Bias-Variance decomposition relates different subsets of training data for the same model..."
   ]
  },
  {
   "cell_type": "markdown",
   "metadata": {},
   "source": [
    "### Compare to a smaller subset"
   ]
  },
  {
   "cell_type": "code",
   "execution_count": 14,
   "metadata": {},
   "outputs": [
    {
     "name": "stdout",
     "output_type": "stream",
     "text": [
      "No Match: 1618.0 , 975.125\n"
     ]
    }
   ],
   "source": [
    "thetaHat_TEST = thetaHat[1:9]\n",
    "thetaHat_exp_TEST = mean(thetaHat_TEST)\n",
    "theta_TEST = theta[1:9]\n",
    "\n",
    "MSE_theta_6 = (mean([(thetaHat_TEST[num] - thetaHat_exp_TEST)**2 for num, est in enumerate(thetaHat_TEST)])  \n",
    "               + mean([(thetaHat_exp_TEST - theta_TEST[num])**2 for num, est in enumerate(theta_TEST)]))\n",
    "\n",
    "\n",
    "if MSE_theta_5 == MSE_theta_1:\n",
    "    print (\"MATCH: {} = {}\".format(MSE_theta_5, MSE_theta_6))\n",
    "else:\n",
    "    print(\"No Match: {} , {}\".format(MSE_theta_5, MSE_theta_6))"
   ]
  },
  {
   "cell_type": "markdown",
   "metadata": {},
   "source": [
    "# <font color='red' >That's not it!   :,(</font>\n",
    "\n",
    "Maybe our calculations are off.."
   ]
  },
  {
   "cell_type": "markdown",
   "metadata": {},
   "source": [
    "## Check Calcuations for MSE and Variance against sklearn_mse and np.var"
   ]
  },
  {
   "cell_type": "code",
   "execution_count": 15,
   "metadata": {},
   "outputs": [
    {
     "name": "stdout",
     "output_type": "stream",
     "text": [
      "Variance: 825.0, Bias: 0.4\n"
     ]
    }
   ],
   "source": [
    "Var_Theta = mean([((num - thetaHat_exp)**2) for num in thetaHat])\n",
    "Bias_Theta = mean([(thetaHat_exp - num) for num in theta])\n",
    "\n",
    "print(\"Variance: {}, Bias: {}\".format(Var_Theta, Bias_Theta))"
   ]
  },
  {
   "cell_type": "code",
   "execution_count": 16,
   "metadata": {},
   "outputs": [
    {
     "name": "stdout",
     "output_type": "stream",
     "text": [
      "sklearn MSE: 6.0, numpy Variance(θ^): 825.0\n"
     ]
    }
   ],
   "source": [
    "from sklearn.metrics import mean_squared_error\n",
    "import numpy as np\n",
    "\n",
    "sklearn_mse = round(mean_squared_error(theta, thetaHat),8)\n",
    "numpy_var = round(np.var(thetaHat),8)\n",
    "\n",
    "\n",
    "print(\"sklearn MSE: {}, numpy Variance(θ^): {}\".format(sklearn_mse, numpy_var))"
   ]
  },
  {
   "cell_type": "markdown",
   "metadata": {},
   "source": [
    "## Atleast we're calculating MSE and variance correctly, but what is going on?\n",
    "\n",
    "Maybe all the textbooks are wrong and we've just discovered a fatal failure in mathematics...\n",
    "\n",
    "### <font color='red' >Not so fast!</font> \n",
    "\n",
    "One more check, what about point estimates?\n",
    "\n"
   ]
  },
  {
   "cell_type": "code",
   "execution_count": 17,
   "metadata": {},
   "outputs": [
    {
     "name": "stdout",
     "output_type": "stream",
     "text": [
      "Our model: θ^ = 5.0 + 10.0(5) = 55.0\n"
     ]
    }
   ],
   "source": [
    "# use our simple model to produce an estimate for the variable 5\n",
    "\n",
    "print(\"Our model: θ^ = {} + {}(5) = {}\".format(intercept,slope,(intercept+slope*5)))"
   ]
  },
  {
   "cell_type": "code",
   "execution_count": 18,
   "metadata": {},
   "outputs": [
    {
     "name": "stdout",
     "output_type": "stream",
     "text": [
      "Our model: θ^ = 5.0 + 10.0(5) = 55.0\n",
      "Model: LinearRegression(copy_X=True, fit_intercept=True, n_jobs=1, normalize=False) \n",
      "Estimate: [54.48484848] \n",
      "\n",
      "\n",
      "Model: Lasso(alpha=1.0, copy_X=True, fit_intercept=True, max_iter=1000,\n",
      "   normalize=False, positive=False, precompute=False, random_state=None,\n",
      "   selection='cyclic', tol=0.0001, warm_start=False) \n",
      "Estimate: [54.42424242] \n",
      "\n",
      "\n",
      "Model: Ridge(alpha=1.0, copy_X=True, fit_intercept=True, max_iter=None,\n",
      "   normalize=False, random_state=None, solver='auto', tol=0.001) \n",
      "Estimate: [54.42634731] \n",
      "\n",
      "\n",
      "Model: ElasticNet(alpha=1.0, copy_X=True, fit_intercept=True, l1_ratio=0.5,\n",
      "      max_iter=1000, normalize=False, positive=False, precompute=False,\n",
      "      random_state=None, selection='cyclic', tol=0.0001, warm_start=False) \n",
      "Estimate: [54.17714286] \n",
      "\n",
      "\n",
      "Model: SGDClassifier(alpha=0.0001, average=False, class_weight=None, epsilon=0.1,\n",
      "       eta0=0.0, fit_intercept=True, l1_ratio=0.15,\n",
      "       learning_rate='optimal', loss='hinge', max_iter=3, n_iter=None,\n",
      "       n_jobs=1, penalty='l2', power_t=0.5, random_state=None,\n",
      "       shuffle=True, tol=None, verbose=0, warm_start=False) \n",
      "Estimate: [95] \n",
      "\n",
      "\n",
      "Model: LogisticRegression(C=1.0, class_weight=None, dual=False, fit_intercept=True,\n",
      "          intercept_scaling=1, max_iter=100, multi_class='ovr', n_jobs=1,\n",
      "          penalty='l2', random_state=None, solver='liblinear', tol=0.0001,\n",
      "          verbose=0, warm_start=False) \n",
      "Estimate: [95] \n",
      "\n",
      "\n"
     ]
    }
   ],
   "source": [
    "# instantiate a bunch of models\n",
    "from sklearn.linear_model import Lasso, LinearRegression, LogisticRegression, Ridge, SGDClassifier, ElasticNet\n",
    "linear_reg = LinearRegression()\n",
    "lasso_reg = Lasso()\n",
    "ridge_reg = Ridge()\n",
    "elasticNet_reg = ElasticNet()\n",
    "SGD_reg = SGDClassifier(max_iter=3, tol=None)\n",
    "log_reg = LogisticRegression()\n",
    "\n",
    "estimators=[]\n",
    "\n",
    "\n",
    "# list all the models\n",
    "modelList = [linear_reg, lasso_reg, ridge_reg, elasticNet_reg, SGD_reg, log_reg]\n",
    "\n",
    "# make X an array that can be used by the models\n",
    "X = np.array(X).reshape(-1, 1)\n",
    "\n",
    "# show what our model estimates\n",
    "print(\"Our model: θ^ = {} + {}(5) = {}\".format(intercept,slope,(intercept+slope*5)))\n",
    "estimators.append(intercept+slope*5)\n",
    "\n",
    "for i in modelList:\n",
    "    model = i.fit(X, theta)    # fit model\n",
    "    pred = i.predict(5)    # estimate      \n",
    "    estimators.append(pred[0])     # add esimation to list of estimators\n",
    "      \n",
    "    print('Model: {} \\nEstimate: {} \\n\\n'.format(i,pred))\n"
   ]
  },
  {
   "cell_type": "code",
   "execution_count": 19,
   "metadata": {},
   "outputs": [
    {
     "data": {
      "text/plain": [
       "[55.0,\n",
       " 54.484848484848484,\n",
       " 54.42424242424242,\n",
       " 54.42634730538922,\n",
       " 54.177142857142854,\n",
       " 95,\n",
       " 95]"
      ]
     },
     "execution_count": 19,
     "metadata": {},
     "output_type": "execute_result"
    }
   ],
   "source": [
    "# what estimators were calculated?\n",
    "estimators"
   ]
  },
  {
   "cell_type": "code",
   "execution_count": 20,
   "metadata": {},
   "outputs": [
    {
     "data": {
      "text/plain": [
       "57"
      ]
     },
     "execution_count": 20,
     "metadata": {},
     "output_type": "execute_result"
    }
   ],
   "source": [
    "# remember what the \"true\" value is?\n",
    "theta[5]"
   ]
  },
  {
   "cell_type": "code",
   "execution_count": 21,
   "metadata": {},
   "outputs": [
    {
     "data": {
      "text/plain": [
       "417.079"
      ]
     },
     "execution_count": 21,
     "metadata": {},
     "output_type": "execute_result"
    }
   ],
   "source": [
    "# calculate MSE by \"hand\"\n",
    "round(mean([(est - theta[5])**2 for est in estimators]),4)"
   ]
  },
  {
   "cell_type": "code",
   "execution_count": 22,
   "metadata": {},
   "outputs": [
    {
     "data": {
      "text/plain": [
       "417.079"
      ]
     },
     "execution_count": 22,
     "metadata": {},
     "output_type": "execute_result"
    }
   ],
   "source": [
    "# calculate MSE using sklearn\n",
    "theta_5 = [theta[5] for est in estimators]\n",
    "round(mean_squared_error(theta_5, estimators),4)"
   ]
  },
  {
   "cell_type": "code",
   "execution_count": 23,
   "metadata": {},
   "outputs": [
    {
     "data": {
      "text/plain": [
       "417.079"
      ]
     },
     "execution_count": 23,
     "metadata": {},
     "output_type": "execute_result"
    }
   ],
   "source": [
    "# MSE = variance + bias^2\n",
    "thetaHat_exp_TEST = mean(estimators)\n",
    "\n",
    "round((mean([(est - thetaHat_exp_TEST)**2 for est in estimators])  \n",
    "               + (thetaHat_exp_TEST - theta[5])**2) ,4)"
   ]
  },
  {
   "cell_type": "markdown",
   "metadata": {},
   "source": [
    "## Never Accept just one test\n",
    "\n",
    "Let's write a function that will check each method of calculating MSE and check each value in our sample."
   ]
  },
  {
   "cell_type": "code",
   "execution_count": 24,
   "metadata": {},
   "outputs": [],
   "source": [
    "def compare_MSE(thetaValue, estimatorList):\n",
    "    # calculate MSE by \"hand\"\n",
    "    handMSE = round(mean([(est - thetaValue)**2 for est in estimatorList]),4)\n",
    "    \n",
    "    #sklearn MSE\n",
    "    thetaVal_list = [thetaValue for est in estimatorList] # create list of the single 'true' as long as the estimator list\n",
    "    sklearnMSE = round(mean_squared_error(thetaVal_list, estimatorList),4)\n",
    "    \n",
    "    # MSE = variance + bias^2\n",
    "    estimatorHat_exp = mean(estimatorList)\n",
    "    varBiasSqr = round((mean([(est - estimatorHat_exp)**2 for est in estimatorList])  \n",
    "                        + (estimatorHat_exp - thetaValue)**2) ,4)\n",
    "    \n",
    "    if handMSE == sklearnMSE == varBiasSqr:\n",
    "        print(\"{}: MATCH! Hand MSE: {} sklearn MSE: {} Var + Bias-squared: {}\".format(thetaValue,handMSE,sklearnMSE,varBiasSqr))\n",
    "    else:\n",
    "        print(\"{}: No Match - Hand MSE: {} sklearn MSE: {} Var + Bias-squared: {}\".format(thetaValue,handMSE,sklearnMSE,varBiasSqr))"
   ]
  },
  {
   "cell_type": "code",
   "execution_count": 25,
   "metadata": {},
   "outputs": [
    {
     "name": "stdout",
     "output_type": "stream",
     "text": [
      "2: MATCH! Hand MSE: 2900.4187 sklearn MSE: 2900.4187 Var + Bias-squared: 2900.4187\n",
      "15: MATCH! Hand MSE: 5960.9961 sklearn MSE: 5960.9961 Var + Bias-squared: 5960.9961\n",
      "27: MATCH! Hand MSE: 14002.4121 sklearn MSE: 14002.4121 Var + Bias-squared: 14002.4121\n",
      "36: MATCH! Hand MSE: 24603.1488 sklearn MSE: 24603.1488 Var + Bias-squared: 24603.1488\n",
      "48: MATCH! Hand MSE: 39702.5174 sklearn MSE: 39702.5174 Var + Bias-squared: 39702.5174\n",
      "57: MATCH! Hand MSE: 57526.2582 sklearn MSE: 57526.2582 Var + Bias-squared: 57526.2582\n",
      "63: MATCH! Hand MSE: 75874.638 sklearn MSE: 75874.638 Var + Bias-squared: 75874.638\n",
      "73: MATCH! Hand MSE: 96569.9933 sklearn MSE: 96569.9933 Var + Bias-squared: 96569.9933\n",
      "80: MATCH! Hand MSE: 119202.9132 sklearn MSE: 119202.9132 Var + Bias-squared: 119202.9132\n",
      "95: MATCH! Hand MSE: 146856.4099 sklearn MSE: 146856.4099 Var + Bias-squared: 146856.4099\n"
     ]
    }
   ],
   "source": [
    "for value in theta:\n",
    "\n",
    "    estimators.append(intercept+slope*value)\n",
    "\n",
    "    for i in modelList:\n",
    "        model = i.fit(X, theta)    # fit model\n",
    "        pred = i.predict(value)    # estimate      \n",
    "        estimators.append(pred[0])     # add esimation to list of estimators\n",
    "        \n",
    "    compare_MSE(value,estimators)"
   ]
  },
  {
   "cell_type": "markdown",
   "metadata": {},
   "source": [
    "## Still this is just one example\n",
    "\n",
    "More to come!"
   ]
  }
 ],
 "metadata": {
  "kernelspec": {
   "display_name": "Python 3",
   "language": "python",
   "name": "python3"
  },
  "language_info": {
   "codemirror_mode": {
    "name": "ipython",
    "version": 3
   },
   "file_extension": ".py",
   "mimetype": "text/x-python",
   "name": "python",
   "nbconvert_exporter": "python",
   "pygments_lexer": "ipython3",
   "version": "3.6.4"
  }
 },
 "nbformat": 4,
 "nbformat_minor": 2
}
