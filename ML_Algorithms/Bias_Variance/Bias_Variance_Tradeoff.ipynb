{
 "cells": [
  {
   "cell_type": "markdown",
   "metadata": {},
   "source": [
    "# Mean Square Error and the Bias-Variance Tradeoff\n",
    "\n",
    "This code shows a proof that Mean Square Error (MSE) = Variance + Bias-squared followed by how this can be applied to model selection.\n",
    "\n",
    "\n",
    "By standard definition, MSE of an estimator (some function of the data) is the expected value of the squared-difference between the expected value of the estimator and the true value. \n",
    "MSE(θ^) = E((θ^ - θ)**2)\n",
    "\n",
    "The Bias of an estimator is the difference between the expected value of the estimator and the true value of the estimator.\n",
    "Bias(θ^) = E(θ^) - θ\n",
    "\n",
    "The Variance\n",
    "\n",
    "Bias-Variance Decomposition: MSE(θ^) = Variance + Bias-squared"
   ]
  },
  {
   "cell_type": "markdown",
   "metadata": {},
   "source": [
    "## Start with creating an estimator\n",
    "\n"
   ]
  },
  {
   "cell_type": "code",
   "execution_count": 52,
   "metadata": {},
   "outputs": [
    {
     "name": "stdout",
     "output_type": "stream",
     "text": [
      "θ^ = -21.834951414177198 + 15.922330088122807x\n"
     ]
    }
   ],
   "source": [
    "# calculate mean\n",
    "def mean(numList):\n",
    "    return round((float(sum(numList)) / len(numList) if len(numList) > 0 else 0),8)\n",
    "\n",
    "# calculate standard deviation\n",
    "def sd(numList):\n",
    "    meanList = mean(numList)\n",
    "    return round((float(((sum([(i - meanList)**2 for i in numList])) \n",
    "                 / (len(numList) - 1))**0.5)),8)\n",
    "\n",
    "\n",
    "\n",
    "# make up some data\n",
    "X = [2,3,4,3,2,9,6,7,2,9]\n",
    "y = [12,25,39,25,12,124,70,87,12,124]\n",
    "\n",
    "# define the sample size\n",
    "n = len(X) if len(X) == len(y) else print(\"Sample sizes are not equal.\")\n",
    "   \n",
    "\n",
    "# correlation coefficient\n",
    "r = ((n * sum([i*y[z] for z, i in enumerate(X)]) - (sum(X) * sum(y))) \n",
    "     / ((n * sum([i**2 for i in X]) - sum(X)**2) * (n * sum([i**2 for i in y]) - sum(y)**2))**0.5)\n",
    "\n",
    "# slope\n",
    "slope = r * (sd(y) / sd(X))\n",
    "\n",
    "# intercept\n",
    "intercept = mean(y) - slope * mean(X)\n",
    "\n",
    "# return the function\n",
    "print(\"θ^ = {} + {}x\".format(intercept,slope))"
   ]
  },
  {
   "cell_type": "markdown",
   "metadata": {},
   "source": [
    "## Use estimator to calculate expected values"
   ]
  },
  {
   "cell_type": "code",
   "execution_count": 39,
   "metadata": {},
   "outputs": [
    {
     "data": {
      "text/plain": [
       "[10.00970874,\n",
       " 25.93203883,\n",
       " 41.85436893,\n",
       " 25.93203883,\n",
       " 10.00970874,\n",
       " 121.46601942,\n",
       " 73.69902913,\n",
       " 89.62135922,\n",
       " 10.00970874,\n",
       " 121.46601942]"
      ]
     },
     "execution_count": 39,
     "metadata": {},
     "output_type": "execute_result"
    }
   ],
   "source": [
    "# for each x, what is the expected value of y?\n",
    "thetaHat = list(map(lambda x: round((intercept + slope*x),8), X))\n",
    "\n",
    "thetaHat"
   ]
  },
  {
   "cell_type": "markdown",
   "metadata": {},
   "source": [
    "## The real values of y\n"
   ]
  },
  {
   "cell_type": "code",
   "execution_count": 3,
   "metadata": {},
   "outputs": [
    {
     "data": {
      "text/plain": [
       "[12, 25, 39, 25, 12, 124, 70, 87, 12, 124]"
      ]
     },
     "execution_count": 3,
     "metadata": {},
     "output_type": "execute_result"
    }
   ],
   "source": [
    "# real values of y\n",
    "theta = y\n",
    "\n",
    "theta"
   ]
  },
  {
   "cell_type": "markdown",
   "metadata": {},
   "source": [
    "## Calculate MSE of estimator\n",
    "\n",
    "\n",
    "\n",
    "<img src=\"Images/MSE1.png\" alt=\"MSE\">"
   ]
  },
  {
   "cell_type": "code",
   "execution_count": 45,
   "metadata": {},
   "outputs": [
    {
     "data": {
      "text/plain": [
       "5.51650485"
      ]
     },
     "execution_count": 45,
     "metadata": {},
     "output_type": "execute_result"
    }
   ],
   "source": [
    "# find the expected value of square difference between thetaHat and theta\n",
    "MSE_theta_1 = mean([(thetaHat[num] - theta[num])**2 for num, est in enumerate(thetaHat)])\n",
    "\n",
    "MSE_theta_1"
   ]
  },
  {
   "cell_type": "markdown",
   "metadata": {},
   "source": [
    "## Subtract an estmator of theta from both thetas\n",
    "\n",
    "<img src=\"Images/MSE2.png\" alt=\"MSE2\">"
   ]
  },
  {
   "cell_type": "code",
   "execution_count": 53,
   "metadata": {},
   "outputs": [
    {
     "name": "stdout",
     "output_type": "stream",
     "text": [
      "MATCH: 5.51650485 = 5.51650485\n"
     ]
    }
   ],
   "source": [
    "# expectated value of thetaHat\n",
    "theta_exp = mean(thetaHat)\n",
    "\n",
    "# calculate new \n",
    "MSE_theta_2 = mean([(thetaHat[num] - theta_exp + theta_exp - theta[num])**2 for num, est in enumerate(thetaHat)])\n",
    "\n",
    "if float(MSE_theta_2) == MSE_theta_1:\n",
    "    print (\"MATCH: {} = {}\".format(MSE_theta_1, MSE_theta_2))\n",
    "else:\n",
    "    print(\"No Match: {} , {}\".format(MSE_theta_1, MSE_theta_2))"
   ]
  },
  {
   "cell_type": "markdown",
   "metadata": {},
   "source": [
    "## Distribute the binomial\n",
    "\n",
    "<img src=\"Images/MSE3.png\" alt=\"MSE\">"
   ]
  },
  {
   "cell_type": "code",
   "execution_count": 49,
   "metadata": {},
   "outputs": [
    {
     "name": "stdout",
     "output_type": "stream",
     "text": [
      "MATCH: 5.51650485 = 5.51650485\n"
     ]
    }
   ],
   "source": [
    "MSE_theta_3 = mean([(((thetaHat[num] - theta_exp)**2) \n",
    "               + (2*((thetaHat[num] - theta_exp) * (theta_exp - theta[num]))) \n",
    "               + ((theta_exp - theta[num])**2)) for num, est in enumerate(thetaHat)])\n",
    "\n",
    "\n",
    "if MSE_theta_3 == MSE_theta_1:\n",
    "    print (\"MATCH: {} = {}\".format(MSE_theta_1, MSE_theta_3))\n",
    "else:\n",
    "    print(\"No Match: {} , {}\".format(MSE_theta_1, MSE_theta_3))"
   ]
  },
  {
   "cell_type": "markdown",
   "metadata": {},
   "source": [
    "## Break up the 2()\n"
   ]
  },
  {
   "cell_type": "code",
   "execution_count": 7,
   "metadata": {},
   "outputs": [
    {
     "name": "stdout",
     "output_type": "stream",
     "text": [
      "No Match: 0.1211928262680303 , 0.1211928262680162\n"
     ]
    }
   ],
   "source": [
    "MSE_theta_4 = ((thetaHat5 - theta_est)**2 \n",
    "               + 2*((thetaHat5 * theta_est) - (thetaHat5 * theta5) \n",
    "                    - (theta_est * theta_est) + (theta_est * theta5) )\n",
    "               + (theta_est - theta5)**2)\n",
    "\n",
    "if MSE_theta_4 == MSE_theta_1:\n",
    "    print (\"MATCH: {} = {}\".format(MSE_theta_1, MSE_theta_4))\n",
    "else:\n",
    "    print(\"No Match: {} , {}\".format(MSE_theta_1, MSE_theta_4))"
   ]
  },
  {
   "cell_type": "markdown",
   "metadata": {},
   "source": [
    "## Final\n",
    "\n"
   ]
  },
  {
   "cell_type": "code",
   "execution_count": null,
   "metadata": {},
   "outputs": [],
   "source": [
    "Var_Theta = (thetaHat5 - theta_est)**2\n",
    "Bias_Theta = (theta_est - theta5)**2"
   ]
  }
 ],
 "metadata": {
  "kernelspec": {
   "display_name": "Python 3",
   "language": "python",
   "name": "python3"
  },
  "language_info": {
   "codemirror_mode": {
    "name": "ipython",
    "version": 3
   },
   "file_extension": ".py",
   "mimetype": "text/x-python",
   "name": "python",
   "nbconvert_exporter": "python",
   "pygments_lexer": "ipython3",
   "version": "3.6.4"
  }
 },
 "nbformat": 4,
 "nbformat_minor": 2
}
