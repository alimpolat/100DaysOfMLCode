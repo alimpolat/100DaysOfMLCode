{
 "cells": [
  {
   "cell_type": "markdown",
   "metadata": {},
   "source": [
    "# Pipelines \n",
    "\n",
    "\n",
    "\"A sequence of data processing components is called a data pipeline. Pipelines are very\n",
    "common in Machine Learning systems, since there is a lot of data to manipulate and\n",
    "many data transformations to apply.\n",
    "Components typically run asynchronously. Each component pulls in a large amount\n",
    "of data, processes it, and spits out the result in another data store, and then some time\n",
    "later the next component in the pipeline pulls this data and spits out its own output,\n",
    "and so on. Each component is fairly self-contained: the interface between components\n",
    "is simply the data store. This makes the system quite simple to grasp (with the help of\n",
    "a data flow graph), and different teams can focus on different components. Moreover,\n",
    "if a component breaks down, the downstream components can often continue to run\n",
    "normally (at least for a while) by just using the last output from the broken compo‐\n",
    "nent. This makes the architecture quite robust.\n",
    "On the other hand, a broken component can go unnoticed for some time if proper\n",
    "monitoring is not implemented. The data gets stale and the overall system’s perfor‐\n",
    "mance drops.\"\n",
    "\n",
    "From Hands-On Machine Learning with Scikit-Learn and TensorFlow: Concepts, Tools, and Techniques to Build Intelligent Systems. Chapter 2. By Aurélien Géron:"
   ]
  },
  {
   "cell_type": "code",
   "execution_count": 1,
   "metadata": {},
   "outputs": [],
   "source": [
    "import pandas as pd\n",
    "import numpy as np\n",
    "from sklearn.linear_model import LinearRegression, Ridge\n",
    "from sklearn.preprocessing import OneHotEncoder, LabelEncoder"
   ]
  },
  {
   "cell_type": "markdown",
   "metadata": {},
   "source": [
    "Data Reference: This breast cancer databases was obtained from the University of Wisconsin Hospitals, Madison from Dr. William H. Wolberg. Acknowledgements to:\n",
    "1. O. L. Mangasarian and W. H. Wolberg: \"Cancer diagnosis via linear programming\", SIAM News, Volume 23, Number 5, September 1990, pp 1 & 18. \n",
    "2. William H. Wolberg and O.L. Mangasarian: \"Multisurface method of pattern separation for medical diagnosis applied to breast cytology\", Proceedings of the National Academy of Sciences, U.S.A., Volume 87, December 1990, pp 9193-9196. \n",
    "3. O. L. Mangasarian, R. Setiono, and W.H. Wolberg: \"Pattern recognition via linear programming: Theory and application to medical diagnosis\", in: \"Large-scale numerical optimization\", Thomas F. Coleman and Yuying Li, editors, SIAM Publications, Philadelphia 1990, pp 22-30. \n",
    "4. K. P. Bennett & O. L. Mangasarian: \"Robust linear programming discrimination of two linearly inseparable sets\", Optimization Methods and Software 1, 1992, 23-34 (Gordon & Breach Science Publishers).\n",
    "\n",
    "https://archive.ics.uci.edu/ml/datasets/Breast+Cancer+Wisconsin+%28Original%29\n",
    "\n",
    "Attribute values:\n",
    "\n",
    "1) ID number\n",
    "2) Outcome (R = recur, N = nonrecur)\n",
    "3) Time (recurrence time if field 2 = R, disease-free time if \n",
    "\tfield 2\t= N)\n",
    "4-33) Ten real-valued features are computed for each cell nucleus:\n",
    "\n",
    "\ta) radius (mean of distances from center to points on the perimeter)\n",
    "\tb) texture (standard deviation of gray-scale values)\n",
    "\tc) perimeter\n",
    "\td) area\n",
    "\te) smoothness (local variation in radius lengths)\n",
    "\tf) compactness (perimeter^2 / area - 1.0)\n",
    "\tg) concavity (severity of concave portions of the contour)\n",
    "\th) concave points (number of concave portions of the contour)\n",
    "\ti) symmetry \n",
    "\tj) fractal dimension (\"coastline approximation\" - 1)\n",
    "34) Tumor size - diameter of the excised tumor in centimeters\n",
    "35) Lymph node status - number of positive axillary lymph nodes observed at time of surgery\n"
   ]
  },
  {
   "cell_type": "code",
   "execution_count": 2,
   "metadata": {},
   "outputs": [],
   "source": [
    "# create list for attributes:\n",
    "\n",
    "attNames = ['ID', 'Outcome', 'Time']\n",
    "for i in range(3):\n",
    "    attNames.extend(('Radius','Texture', 'Perimeter', 'Area', 'Smoothness', 'Compactness','Concavity',\n",
    "                     'Concave Points','Symmetry','Fractal Dimension'))\n",
    "attNames.extend(('Tumor Size','Lymph node status'))"
   ]
  },
  {
   "cell_type": "code",
   "execution_count": 3,
   "metadata": {},
   "outputs": [
    {
     "name": "stderr",
     "output_type": "stream",
     "text": [
      "c:\\users\\tiffany.fabianac\\appdata\\local\\programs\\python\\python36\\lib\\site-packages\\pandas\\io\\parsers.py:709: UserWarning: Duplicate names specified. This will raise an error in the future.\n",
      "  return _read(filepath_or_buffer, kwds)\n"
     ]
    },
    {
     "data": {
      "text/html": [
       "<div>\n",
       "<style scoped>\n",
       "    .dataframe tbody tr th:only-of-type {\n",
       "        vertical-align: middle;\n",
       "    }\n",
       "\n",
       "    .dataframe tbody tr th {\n",
       "        vertical-align: top;\n",
       "    }\n",
       "\n",
       "    .dataframe thead th {\n",
       "        text-align: right;\n",
       "    }\n",
       "</style>\n",
       "<table border=\"1\" class=\"dataframe\">\n",
       "  <thead>\n",
       "    <tr style=\"text-align: right;\">\n",
       "      <th></th>\n",
       "      <th>ID</th>\n",
       "      <th>Outcome</th>\n",
       "      <th>Time</th>\n",
       "      <th>Radius</th>\n",
       "      <th>Texture</th>\n",
       "      <th>Perimeter</th>\n",
       "      <th>Area</th>\n",
       "      <th>Smoothness</th>\n",
       "      <th>Compactness</th>\n",
       "      <th>Concavity</th>\n",
       "      <th>...</th>\n",
       "      <th>Perimeter.2</th>\n",
       "      <th>Area.2</th>\n",
       "      <th>Smoothness.2</th>\n",
       "      <th>Compactness.2</th>\n",
       "      <th>Concavity.2</th>\n",
       "      <th>Concave Points.2</th>\n",
       "      <th>Symmetry.2</th>\n",
       "      <th>Fractal Dimension.2</th>\n",
       "      <th>Tumor Size</th>\n",
       "      <th>Lymph node status</th>\n",
       "    </tr>\n",
       "  </thead>\n",
       "  <tbody>\n",
       "    <tr>\n",
       "      <th>0</th>\n",
       "      <td>119513</td>\n",
       "      <td>N</td>\n",
       "      <td>31</td>\n",
       "      <td>18.02</td>\n",
       "      <td>27.60</td>\n",
       "      <td>117.50</td>\n",
       "      <td>1013.0</td>\n",
       "      <td>0.09489</td>\n",
       "      <td>0.1036</td>\n",
       "      <td>0.1086</td>\n",
       "      <td>...</td>\n",
       "      <td>139.70</td>\n",
       "      <td>1436.0</td>\n",
       "      <td>0.1195</td>\n",
       "      <td>0.1926</td>\n",
       "      <td>0.3140</td>\n",
       "      <td>0.1170</td>\n",
       "      <td>0.2677</td>\n",
       "      <td>0.08113</td>\n",
       "      <td>5.0</td>\n",
       "      <td>5</td>\n",
       "    </tr>\n",
       "    <tr>\n",
       "      <th>1</th>\n",
       "      <td>8423</td>\n",
       "      <td>N</td>\n",
       "      <td>61</td>\n",
       "      <td>17.99</td>\n",
       "      <td>10.38</td>\n",
       "      <td>122.80</td>\n",
       "      <td>1001.0</td>\n",
       "      <td>0.11840</td>\n",
       "      <td>0.2776</td>\n",
       "      <td>0.3001</td>\n",
       "      <td>...</td>\n",
       "      <td>184.60</td>\n",
       "      <td>2019.0</td>\n",
       "      <td>0.1622</td>\n",
       "      <td>0.6656</td>\n",
       "      <td>0.7119</td>\n",
       "      <td>0.2654</td>\n",
       "      <td>0.4601</td>\n",
       "      <td>0.11890</td>\n",
       "      <td>3.0</td>\n",
       "      <td>2</td>\n",
       "    </tr>\n",
       "    <tr>\n",
       "      <th>2</th>\n",
       "      <td>842517</td>\n",
       "      <td>N</td>\n",
       "      <td>116</td>\n",
       "      <td>21.37</td>\n",
       "      <td>17.44</td>\n",
       "      <td>137.50</td>\n",
       "      <td>1373.0</td>\n",
       "      <td>0.08836</td>\n",
       "      <td>0.1189</td>\n",
       "      <td>0.1255</td>\n",
       "      <td>...</td>\n",
       "      <td>159.10</td>\n",
       "      <td>1949.0</td>\n",
       "      <td>0.1188</td>\n",
       "      <td>0.3449</td>\n",
       "      <td>0.3414</td>\n",
       "      <td>0.2032</td>\n",
       "      <td>0.4334</td>\n",
       "      <td>0.09067</td>\n",
       "      <td>2.5</td>\n",
       "      <td>0</td>\n",
       "    </tr>\n",
       "    <tr>\n",
       "      <th>3</th>\n",
       "      <td>843483</td>\n",
       "      <td>N</td>\n",
       "      <td>123</td>\n",
       "      <td>11.42</td>\n",
       "      <td>20.38</td>\n",
       "      <td>77.58</td>\n",
       "      <td>386.1</td>\n",
       "      <td>0.14250</td>\n",
       "      <td>0.2839</td>\n",
       "      <td>0.2414</td>\n",
       "      <td>...</td>\n",
       "      <td>98.87</td>\n",
       "      <td>567.7</td>\n",
       "      <td>0.2098</td>\n",
       "      <td>0.8663</td>\n",
       "      <td>0.6869</td>\n",
       "      <td>0.2575</td>\n",
       "      <td>0.6638</td>\n",
       "      <td>0.17300</td>\n",
       "      <td>2.0</td>\n",
       "      <td>0</td>\n",
       "    </tr>\n",
       "    <tr>\n",
       "      <th>4</th>\n",
       "      <td>843584</td>\n",
       "      <td>R</td>\n",
       "      <td>27</td>\n",
       "      <td>20.29</td>\n",
       "      <td>14.34</td>\n",
       "      <td>135.10</td>\n",
       "      <td>1297.0</td>\n",
       "      <td>0.10030</td>\n",
       "      <td>0.1328</td>\n",
       "      <td>0.1980</td>\n",
       "      <td>...</td>\n",
       "      <td>152.20</td>\n",
       "      <td>1575.0</td>\n",
       "      <td>0.1374</td>\n",
       "      <td>0.2050</td>\n",
       "      <td>0.4000</td>\n",
       "      <td>0.1625</td>\n",
       "      <td>0.2364</td>\n",
       "      <td>0.07678</td>\n",
       "      <td>3.5</td>\n",
       "      <td>0</td>\n",
       "    </tr>\n",
       "  </tbody>\n",
       "</table>\n",
       "<p>5 rows × 35 columns</p>\n",
       "</div>"
      ],
      "text/plain": [
       "       ID Outcome  Time  Radius  Texture  Perimeter    Area  Smoothness  \\\n",
       "0  119513       N    31   18.02    27.60     117.50  1013.0     0.09489   \n",
       "1    8423       N    61   17.99    10.38     122.80  1001.0     0.11840   \n",
       "2  842517       N   116   21.37    17.44     137.50  1373.0     0.08836   \n",
       "3  843483       N   123   11.42    20.38      77.58   386.1     0.14250   \n",
       "4  843584       R    27   20.29    14.34     135.10  1297.0     0.10030   \n",
       "\n",
       "   Compactness  Concavity        ...          Perimeter.2  Area.2  \\\n",
       "0       0.1036     0.1086        ...               139.70  1436.0   \n",
       "1       0.2776     0.3001        ...               184.60  2019.0   \n",
       "2       0.1189     0.1255        ...               159.10  1949.0   \n",
       "3       0.2839     0.2414        ...                98.87   567.7   \n",
       "4       0.1328     0.1980        ...               152.20  1575.0   \n",
       "\n",
       "   Smoothness.2  Compactness.2  Concavity.2  Concave Points.2  Symmetry.2  \\\n",
       "0        0.1195         0.1926       0.3140            0.1170      0.2677   \n",
       "1        0.1622         0.6656       0.7119            0.2654      0.4601   \n",
       "2        0.1188         0.3449       0.3414            0.2032      0.4334   \n",
       "3        0.2098         0.8663       0.6869            0.2575      0.6638   \n",
       "4        0.1374         0.2050       0.4000            0.1625      0.2364   \n",
       "\n",
       "   Fractal Dimension.2  Tumor Size  Lymph node status  \n",
       "0              0.08113         5.0                  5  \n",
       "1              0.11890         3.0                  2  \n",
       "2              0.09067         2.5                  0  \n",
       "3              0.17300         2.0                  0  \n",
       "4              0.07678         3.5                  0  \n",
       "\n",
       "[5 rows x 35 columns]"
      ]
     },
     "execution_count": 3,
     "metadata": {},
     "output_type": "execute_result"
    }
   ],
   "source": [
    "# Load data\n",
    "\n",
    "bcSet = pd.read_csv('Data/wpbc.data.txt',header=None, \n",
    "                      names=attNames)\n",
    "bcSet.head()"
   ]
  },
  {
   "cell_type": "markdown",
   "metadata": {},
   "source": [
    "## Preprocessing\n",
    "\n",
    "We know from the column descriptions provided with the datset and from viewing the data as below that there are two non-numeric columns:"
   ]
  },
  {
   "cell_type": "code",
   "execution_count": 4,
   "metadata": {},
   "outputs": [
    {
     "name": "stdout",
     "output_type": "stream",
     "text": [
      "<class 'pandas.core.frame.DataFrame'>\n",
      "RangeIndex: 198 entries, 0 to 197\n",
      "Data columns (total 35 columns):\n",
      "ID                     198 non-null int64\n",
      "Outcome                198 non-null object\n",
      "Time                   198 non-null int64\n",
      "Radius                 198 non-null float64\n",
      "Texture                198 non-null float64\n",
      "Perimeter              198 non-null float64\n",
      "Area                   198 non-null float64\n",
      "Smoothness             198 non-null float64\n",
      "Compactness            198 non-null float64\n",
      "Concavity              198 non-null float64\n",
      "Concave Points         198 non-null float64\n",
      "Symmetry               198 non-null float64\n",
      "Fractal Dimension      198 non-null float64\n",
      "Radius.1               198 non-null float64\n",
      "Texture.1              198 non-null float64\n",
      "Perimeter.1            198 non-null float64\n",
      "Area.1                 198 non-null float64\n",
      "Smoothness.1           198 non-null float64\n",
      "Compactness.1          198 non-null float64\n",
      "Concavity.1            198 non-null float64\n",
      "Concave Points.1       198 non-null float64\n",
      "Symmetry.1             198 non-null float64\n",
      "Fractal Dimension.1    198 non-null float64\n",
      "Radius.2               198 non-null float64\n",
      "Texture.2              198 non-null float64\n",
      "Perimeter.2            198 non-null float64\n",
      "Area.2                 198 non-null float64\n",
      "Smoothness.2           198 non-null float64\n",
      "Compactness.2          198 non-null float64\n",
      "Concavity.2            198 non-null float64\n",
      "Concave Points.2       198 non-null float64\n",
      "Symmetry.2             198 non-null float64\n",
      "Fractal Dimension.2    198 non-null float64\n",
      "Tumor Size             198 non-null float64\n",
      "Lymph node status      198 non-null object\n",
      "dtypes: float64(31), int64(2), object(2)\n",
      "memory usage: 54.2+ KB\n"
     ]
    }
   ],
   "source": [
    "# Take a look at the data\n",
    "\n",
    "bcSet.info()"
   ]
  },
  {
   "cell_type": "markdown",
   "metadata": {},
   "source": [
    "### Categorical Values\n",
    "\n",
    "We can handle the categorical variable: Outcome using OneHotEncoder"
   ]
  },
  {
   "cell_type": "code",
   "execution_count": 6,
   "metadata": {},
   "outputs": [
    {
     "data": {
      "text/plain": [
       "array([[1., 0.],\n",
       "       [1., 0.],\n",
       "       [1., 0.],\n",
       "       [1., 0.],\n",
       "       [0., 1.]])"
      ]
     },
     "execution_count": 6,
     "metadata": {},
     "output_type": "execute_result"
    }
   ],
   "source": [
    "labelEncoder = LabelEncoder()\n",
    "hotEncoder = OneHotEncoder()\n",
    "catEncode = hotEncoder.fit_transform(labelEncoder.fit_transform(bcSet['Outcome']).reshape(-1,1))\n",
    "\n",
    "\n",
    "catEncode[:5].toarray()"
   ]
  },
  {
   "cell_type": "markdown",
   "metadata": {},
   "source": [
    "### Missing Values\n",
    "\n",
    "Note that the last column is type \"object\", this column must have some nonnumeric values"
   ]
  },
  {
   "cell_type": "code",
   "execution_count": 7,
   "metadata": {},
   "outputs": [
    {
     "data": {
      "text/plain": [
       "0     87\n",
       "1     35\n",
       "2     17\n",
       "4     10\n",
       "13     6\n",
       "7      6\n",
       "?      4\n",
       "9      4\n",
       "3      4\n",
       "6      3\n",
       "15     3\n",
       "11     3\n",
       "27     2\n",
       "10     2\n",
       "20     2\n",
       "8      2\n",
       "5      2\n",
       "24     1\n",
       "14     1\n",
       "18     1\n",
       "17     1\n",
       "21     1\n",
       "16     1\n",
       "Name: Lymph node status, dtype: int64"
      ]
     },
     "execution_count": 7,
     "metadata": {},
     "output_type": "execute_result"
    }
   ],
   "source": [
    "bcSet['Lymph node status'].value_counts()"
   ]
  },
  {
   "cell_type": "markdown",
   "metadata": {},
   "source": [
    "Look! There are 4 '?'"
   ]
  },
  {
   "cell_type": "code",
   "execution_count": 8,
   "metadata": {},
   "outputs": [],
   "source": [
    "# get the ID for the missing values\n",
    "missingAtt = [i for i,j in enumerate(bcSet['Lymph node status']) if bcSet['Lymph node status'][i] == '?']\n",
    "\n",
    "# create new dataframe without the missing values\n",
    "df_nonMissing = bcSet.drop(missingAtt)\n",
    "\n",
    "# add encoded variables"
   ]
  },
  {
   "cell_type": "markdown",
   "metadata": {},
   "source": [
    "\n",
    "We can check that the '?' rows have been removed:"
   ]
  },
  {
   "cell_type": "code",
   "execution_count": 9,
   "metadata": {},
   "outputs": [
    {
     "data": {
      "text/plain": [
       "0     87\n",
       "1     35\n",
       "2     17\n",
       "4     10\n",
       "13     6\n",
       "7      6\n",
       "3      4\n",
       "9      4\n",
       "6      3\n",
       "15     3\n",
       "11     3\n",
       "10     2\n",
       "20     2\n",
       "8      2\n",
       "5      2\n",
       "27     2\n",
       "14     1\n",
       "21     1\n",
       "17     1\n",
       "16     1\n",
       "18     1\n",
       "24     1\n",
       "Name: Lymph node status, dtype: int64"
      ]
     },
     "execution_count": 9,
     "metadata": {},
     "output_type": "execute_result"
    }
   ],
   "source": [
    "df_nonMissing['Lymph node status'].value_counts()"
   ]
  },
  {
   "cell_type": "code",
   "execution_count": null,
   "metadata": {},
   "outputs": [],
   "source": []
  },
  {
   "cell_type": "code",
   "execution_count": null,
   "metadata": {},
   "outputs": [],
   "source": [
    "# set the y to 'Lymph node status'\n",
    "\n",
    "df_nonMissing_y = df_nonMissing['Lymph node status']\n",
    "\n",
    "# set the X to everything but 'Lymph node status'\n",
    "df_nonMissing_X = df_nonMissing.drop(['Lymph node status',], axis=1)"
   ]
  },
  {
   "cell_type": "code",
   "execution_count": null,
   "metadata": {},
   "outputs": [],
   "source": [
    "linearReg = LinearRegression()\n",
    "ridgeReg = Ridge()\n",
    "\n",
    "linearReg.fit(df_nonMissing_X, df_nonMissing_y)\n",
    "ridgeReg.fit(df_nonMissing_X, df_nonMissing_y)"
   ]
  },
  {
   "cell_type": "markdown",
   "metadata": {},
   "source": [
    "### Pipeline for categorical and numeric variables\n",
    "\n",
    ".. to come"
   ]
  }
 ],
 "metadata": {
  "kernelspec": {
   "display_name": "Python 3",
   "language": "python",
   "name": "python3"
  },
  "language_info": {
   "codemirror_mode": {
    "name": "ipython",
    "version": 3
   },
   "file_extension": ".py",
   "mimetype": "text/x-python",
   "name": "python",
   "nbconvert_exporter": "python",
   "pygments_lexer": "ipython3",
   "version": "3.6.4"
  }
 },
 "nbformat": 4,
 "nbformat_minor": 2
}
