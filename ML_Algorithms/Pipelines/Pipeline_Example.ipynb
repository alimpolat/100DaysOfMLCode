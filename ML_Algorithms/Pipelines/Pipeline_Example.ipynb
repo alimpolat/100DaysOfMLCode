{
 "cells": [
  {
   "cell_type": "markdown",
   "metadata": {},
   "source": [
    "# Pipelines to explore common methods for handling missing values\n",
    "\n",
    "\n",
    "This is a learning exercise going through all of the most common methods for dealing with missing values to show some benefits of Pipelines, explore criticisms of each method, and at the end will insert some random missing values in place of known values to show the down fall of each method. \n",
    "\n",
    "---\n",
    "\n",
    "### Pipelines are\n",
    "\"A sequence of data processing components is called a data pipeline. Pipelines are very\n",
    "common in Machine Learning systems, since there is a lot of data to manipulate and\n",
    "many data transformations to apply.\n",
    "\n",
    "Components typically run asynchronously. Each component pulls in a large amount\n",
    "of data, processes it, and spits out the result in another data store, and then some time\n",
    "later the next component in the pipeline pulls this data and spits out its own output,\n",
    "and so on. Each component is fairly self-contained: the interface between components\n",
    "is simply the data store. This makes the system quite simple to grasp (with the help of\n",
    "a data flow graph), and different teams can focus on different components. Moreover,\n",
    "if a component breaks down, the downstream components can often continue to run\n",
    "normally (at least for a while) by just using the last output from the broken compo‐\n",
    "nent. This makes the architecture quite robust.\n",
    "\n",
    "On the other hand, a broken component can go unnoticed for some time if proper\n",
    "monitoring is not implemented. The data gets stale and the overall system’s perfor‐\n",
    "mance drops.\"\n",
    "\n",
    "__From Hands-On Machine Learning with Scikit-Learn and TensorFlow: Concepts, Tools, and Techniques to Build Intelligent Systems. Chapter 2. By Aurélien Géron__"
   ]
  },
  {
   "cell_type": "code",
   "execution_count": 1,
   "metadata": {},
   "outputs": [],
   "source": [
    "import pandas as pd\n",
    "import numpy as np\n",
    "from sklearn.linear_model import LinearRegression, Ridge\n",
    "from sklearn.preprocessing import OneHotEncoder, LabelEncoder\n",
    "from sklearn.pipeline import FeatureUnion, Pipeline"
   ]
  },
  {
   "cell_type": "markdown",
   "metadata": {},
   "source": [
    "### Data Reference\n",
    "\n",
    "This breast cancer databases was obtained from the University of Wisconsin Hospitals, Madison from Dr. William H. Wolberg. Acknowledgements to:\n",
    "1. O. L. Mangasarian and W. H. Wolberg: \"Cancer diagnosis via linear programming\", SIAM News, Volume 23, Number 5, September 1990, pp 1 & 18. \n",
    "2. William H. Wolberg and O.L. Mangasarian: \"Multisurface method of pattern separation for medical diagnosis applied to breast cytology\", Proceedings of the National Academy of Sciences, U.S.A., Volume 87, December 1990, pp 9193-9196. \n",
    "3. O. L. Mangasarian, R. Setiono, and W.H. Wolberg: \"Pattern recognition via linear programming: Theory and application to medical diagnosis\", in: \"Large-scale numerical optimization\", Thomas F. Coleman and Yuying Li, editors, SIAM Publications, Philadelphia 1990, pp 22-30. \n",
    "4. K. P. Bennett & O. L. Mangasarian: \"Robust linear programming discrimination of two linearly inseparable sets\", Optimization Methods and Software 1, 1992, 23-34 (Gordon & Breach Science Publishers).\n",
    "\n",
    "https://archive.ics.uci.edu/ml/datasets/Breast+Cancer+Wisconsin+%28Original%29\n",
    "\n",
    "Attribute values:\n",
    "\n",
    "1) ID number\n",
    "\n",
    "2) Outcome (R = recur, N = nonrecur)\n",
    "\n",
    "3) Time (recurrence time if field 2 = R, disease-free time if \n",
    "\tfield 2\t= N)\n",
    "    \n",
    "4-33) Ten real-valued features are computed for each cell nucleus:\n",
    "\n",
    "\ta) radius (mean of distances from center to points on the perimeter)\n",
    "\tb) texture (standard deviation of gray-scale values)\n",
    "\tc) perimeter\n",
    "\td) area\n",
    "\te) smoothness (local variation in radius lengths)\n",
    "\tf) compactness (perimeter^2 / area - 1.0)\n",
    "\tg) concavity (severity of concave portions of the contour)\n",
    "\th) concave points (number of concave portions of the contour)\n",
    "\ti) symmetry \n",
    "\tj) fractal dimension (\"coastline approximation\" - 1)\n",
    "34) Tumor size - diameter of the excised tumor in centimeters\n",
    "\n",
    "35) Lymph node status - number of positive axillary lymph nodes observed at time of surgery"
   ]
  },
  {
   "cell_type": "code",
   "execution_count": 2,
   "metadata": {},
   "outputs": [],
   "source": [
    "# create list for attribute names:\n",
    "\n",
    "attNames = ['ID', 'Outcome', 'Time']\n",
    "for i in range(3):\n",
    "    attNames.extend(('Radius','Texture', 'Perimeter', 'Area', 'Smoothness', 'Compactness','Concavity',\n",
    "                     'Concave Points','Symmetry','Fractal Dimension'))\n",
    "attNames.extend(('Tumor Size','Lymph node status'))"
   ]
  },
  {
   "cell_type": "code",
   "execution_count": 3,
   "metadata": {},
   "outputs": [
    {
     "name": "stderr",
     "output_type": "stream",
     "text": [
      "c:\\users\\tiffany.fabianac\\appdata\\local\\programs\\python\\python36\\lib\\site-packages\\pandas\\io\\parsers.py:709: UserWarning: Duplicate names specified. This will raise an error in the future.\n",
      "  return _read(filepath_or_buffer, kwds)\n"
     ]
    },
    {
     "data": {
      "text/html": [
       "<div>\n",
       "<style scoped>\n",
       "    .dataframe tbody tr th:only-of-type {\n",
       "        vertical-align: middle;\n",
       "    }\n",
       "\n",
       "    .dataframe tbody tr th {\n",
       "        vertical-align: top;\n",
       "    }\n",
       "\n",
       "    .dataframe thead th {\n",
       "        text-align: right;\n",
       "    }\n",
       "</style>\n",
       "<table border=\"1\" class=\"dataframe\">\n",
       "  <thead>\n",
       "    <tr style=\"text-align: right;\">\n",
       "      <th></th>\n",
       "      <th>ID</th>\n",
       "      <th>Outcome</th>\n",
       "      <th>Time</th>\n",
       "      <th>Radius</th>\n",
       "      <th>Texture</th>\n",
       "      <th>Perimeter</th>\n",
       "      <th>Area</th>\n",
       "      <th>Smoothness</th>\n",
       "      <th>Compactness</th>\n",
       "      <th>Concavity</th>\n",
       "      <th>...</th>\n",
       "      <th>Perimeter.2</th>\n",
       "      <th>Area.2</th>\n",
       "      <th>Smoothness.2</th>\n",
       "      <th>Compactness.2</th>\n",
       "      <th>Concavity.2</th>\n",
       "      <th>Concave Points.2</th>\n",
       "      <th>Symmetry.2</th>\n",
       "      <th>Fractal Dimension.2</th>\n",
       "      <th>Tumor Size</th>\n",
       "      <th>Lymph node status</th>\n",
       "    </tr>\n",
       "  </thead>\n",
       "  <tbody>\n",
       "    <tr>\n",
       "      <th>0</th>\n",
       "      <td>119513</td>\n",
       "      <td>N</td>\n",
       "      <td>31</td>\n",
       "      <td>18.02</td>\n",
       "      <td>27.60</td>\n",
       "      <td>117.50</td>\n",
       "      <td>1013.0</td>\n",
       "      <td>0.09489</td>\n",
       "      <td>0.1036</td>\n",
       "      <td>0.1086</td>\n",
       "      <td>...</td>\n",
       "      <td>139.70</td>\n",
       "      <td>1436.0</td>\n",
       "      <td>0.1195</td>\n",
       "      <td>0.1926</td>\n",
       "      <td>0.3140</td>\n",
       "      <td>0.1170</td>\n",
       "      <td>0.2677</td>\n",
       "      <td>0.08113</td>\n",
       "      <td>5.0</td>\n",
       "      <td>5</td>\n",
       "    </tr>\n",
       "    <tr>\n",
       "      <th>1</th>\n",
       "      <td>8423</td>\n",
       "      <td>N</td>\n",
       "      <td>61</td>\n",
       "      <td>17.99</td>\n",
       "      <td>10.38</td>\n",
       "      <td>122.80</td>\n",
       "      <td>1001.0</td>\n",
       "      <td>0.11840</td>\n",
       "      <td>0.2776</td>\n",
       "      <td>0.3001</td>\n",
       "      <td>...</td>\n",
       "      <td>184.60</td>\n",
       "      <td>2019.0</td>\n",
       "      <td>0.1622</td>\n",
       "      <td>0.6656</td>\n",
       "      <td>0.7119</td>\n",
       "      <td>0.2654</td>\n",
       "      <td>0.4601</td>\n",
       "      <td>0.11890</td>\n",
       "      <td>3.0</td>\n",
       "      <td>2</td>\n",
       "    </tr>\n",
       "    <tr>\n",
       "      <th>2</th>\n",
       "      <td>842517</td>\n",
       "      <td>N</td>\n",
       "      <td>116</td>\n",
       "      <td>21.37</td>\n",
       "      <td>17.44</td>\n",
       "      <td>137.50</td>\n",
       "      <td>1373.0</td>\n",
       "      <td>0.08836</td>\n",
       "      <td>0.1189</td>\n",
       "      <td>0.1255</td>\n",
       "      <td>...</td>\n",
       "      <td>159.10</td>\n",
       "      <td>1949.0</td>\n",
       "      <td>0.1188</td>\n",
       "      <td>0.3449</td>\n",
       "      <td>0.3414</td>\n",
       "      <td>0.2032</td>\n",
       "      <td>0.4334</td>\n",
       "      <td>0.09067</td>\n",
       "      <td>2.5</td>\n",
       "      <td>0</td>\n",
       "    </tr>\n",
       "    <tr>\n",
       "      <th>3</th>\n",
       "      <td>843483</td>\n",
       "      <td>N</td>\n",
       "      <td>123</td>\n",
       "      <td>11.42</td>\n",
       "      <td>20.38</td>\n",
       "      <td>77.58</td>\n",
       "      <td>386.1</td>\n",
       "      <td>0.14250</td>\n",
       "      <td>0.2839</td>\n",
       "      <td>0.2414</td>\n",
       "      <td>...</td>\n",
       "      <td>98.87</td>\n",
       "      <td>567.7</td>\n",
       "      <td>0.2098</td>\n",
       "      <td>0.8663</td>\n",
       "      <td>0.6869</td>\n",
       "      <td>0.2575</td>\n",
       "      <td>0.6638</td>\n",
       "      <td>0.17300</td>\n",
       "      <td>2.0</td>\n",
       "      <td>0</td>\n",
       "    </tr>\n",
       "    <tr>\n",
       "      <th>4</th>\n",
       "      <td>843584</td>\n",
       "      <td>R</td>\n",
       "      <td>27</td>\n",
       "      <td>20.29</td>\n",
       "      <td>14.34</td>\n",
       "      <td>135.10</td>\n",
       "      <td>1297.0</td>\n",
       "      <td>0.10030</td>\n",
       "      <td>0.1328</td>\n",
       "      <td>0.1980</td>\n",
       "      <td>...</td>\n",
       "      <td>152.20</td>\n",
       "      <td>1575.0</td>\n",
       "      <td>0.1374</td>\n",
       "      <td>0.2050</td>\n",
       "      <td>0.4000</td>\n",
       "      <td>0.1625</td>\n",
       "      <td>0.2364</td>\n",
       "      <td>0.07678</td>\n",
       "      <td>3.5</td>\n",
       "      <td>0</td>\n",
       "    </tr>\n",
       "  </tbody>\n",
       "</table>\n",
       "<p>5 rows × 35 columns</p>\n",
       "</div>"
      ],
      "text/plain": [
       "       ID Outcome  Time  Radius  Texture  Perimeter    Area  Smoothness  \\\n",
       "0  119513       N    31   18.02    27.60     117.50  1013.0     0.09489   \n",
       "1    8423       N    61   17.99    10.38     122.80  1001.0     0.11840   \n",
       "2  842517       N   116   21.37    17.44     137.50  1373.0     0.08836   \n",
       "3  843483       N   123   11.42    20.38      77.58   386.1     0.14250   \n",
       "4  843584       R    27   20.29    14.34     135.10  1297.0     0.10030   \n",
       "\n",
       "   Compactness  Concavity        ...          Perimeter.2  Area.2  \\\n",
       "0       0.1036     0.1086        ...               139.70  1436.0   \n",
       "1       0.2776     0.3001        ...               184.60  2019.0   \n",
       "2       0.1189     0.1255        ...               159.10  1949.0   \n",
       "3       0.2839     0.2414        ...                98.87   567.7   \n",
       "4       0.1328     0.1980        ...               152.20  1575.0   \n",
       "\n",
       "   Smoothness.2  Compactness.2  Concavity.2  Concave Points.2  Symmetry.2  \\\n",
       "0        0.1195         0.1926       0.3140            0.1170      0.2677   \n",
       "1        0.1622         0.6656       0.7119            0.2654      0.4601   \n",
       "2        0.1188         0.3449       0.3414            0.2032      0.4334   \n",
       "3        0.2098         0.8663       0.6869            0.2575      0.6638   \n",
       "4        0.1374         0.2050       0.4000            0.1625      0.2364   \n",
       "\n",
       "   Fractal Dimension.2  Tumor Size  Lymph node status  \n",
       "0              0.08113         5.0                  5  \n",
       "1              0.11890         3.0                  2  \n",
       "2              0.09067         2.5                  0  \n",
       "3              0.17300         2.0                  0  \n",
       "4              0.07678         3.5                  0  \n",
       "\n",
       "[5 rows x 35 columns]"
      ]
     },
     "execution_count": 3,
     "metadata": {},
     "output_type": "execute_result"
    }
   ],
   "source": [
    "# Load data\n",
    "\n",
    "bcSet = pd.read_csv('Data/wpbc.data.txt',header=None, \n",
    "                      names=attNames)\n",
    "bcSet.head()"
   ]
  },
  {
   "cell_type": "markdown",
   "metadata": {},
   "source": [
    "## Preprocessing\n",
    "\n",
    "We know from the column descriptions provided with the datset and from viewing the data that there are two non-numeric columns:"
   ]
  },
  {
   "cell_type": "code",
   "execution_count": 4,
   "metadata": {},
   "outputs": [
    {
     "name": "stdout",
     "output_type": "stream",
     "text": [
      "<class 'pandas.core.frame.DataFrame'>\n",
      "RangeIndex: 198 entries, 0 to 197\n",
      "Data columns (total 35 columns):\n",
      "ID                     198 non-null int64\n",
      "Outcome                198 non-null object\n",
      "Time                   198 non-null int64\n",
      "Radius                 198 non-null float64\n",
      "Texture                198 non-null float64\n",
      "Perimeter              198 non-null float64\n",
      "Area                   198 non-null float64\n",
      "Smoothness             198 non-null float64\n",
      "Compactness            198 non-null float64\n",
      "Concavity              198 non-null float64\n",
      "Concave Points         198 non-null float64\n",
      "Symmetry               198 non-null float64\n",
      "Fractal Dimension      198 non-null float64\n",
      "Radius.1               198 non-null float64\n",
      "Texture.1              198 non-null float64\n",
      "Perimeter.1            198 non-null float64\n",
      "Area.1                 198 non-null float64\n",
      "Smoothness.1           198 non-null float64\n",
      "Compactness.1          198 non-null float64\n",
      "Concavity.1            198 non-null float64\n",
      "Concave Points.1       198 non-null float64\n",
      "Symmetry.1             198 non-null float64\n",
      "Fractal Dimension.1    198 non-null float64\n",
      "Radius.2               198 non-null float64\n",
      "Texture.2              198 non-null float64\n",
      "Perimeter.2            198 non-null float64\n",
      "Area.2                 198 non-null float64\n",
      "Smoothness.2           198 non-null float64\n",
      "Compactness.2          198 non-null float64\n",
      "Concavity.2            198 non-null float64\n",
      "Concave Points.2       198 non-null float64\n",
      "Symmetry.2             198 non-null float64\n",
      "Fractal Dimension.2    198 non-null float64\n",
      "Tumor Size             198 non-null float64\n",
      "Lymph node status      198 non-null object\n",
      "dtypes: float64(31), int64(2), object(2)\n",
      "memory usage: 54.2+ KB\n"
     ]
    }
   ],
   "source": [
    "# Take a look at the data\n",
    "\n",
    "bcSet.info()"
   ]
  },
  {
   "cell_type": "markdown",
   "metadata": {},
   "source": [
    "Note that the second and last column are type \"object\", these columns must have some nonnumeric values."
   ]
  },
  {
   "cell_type": "markdown",
   "metadata": {},
   "source": [
    "### Categorical Values\n",
    "\n",
    "We will handle the categorical variable 'Outcome' using pandas get_dummy function, but many options exist including OneHotEncoder which will be used later to explore turning our 'Lymph node status' into an array."
   ]
  },
  {
   "cell_type": "code",
   "execution_count": 5,
   "metadata": {},
   "outputs": [
    {
     "data": {
      "text/plain": [
       "Index(['ID', 'Time', 'Radius', 'Texture', 'Perimeter', 'Area', 'Smoothness',\n",
       "       'Compactness', 'Concavity', 'Concave Points', 'Symmetry',\n",
       "       'Fractal Dimension', 'Radius.1', 'Texture.1', 'Perimeter.1', 'Area.1',\n",
       "       'Smoothness.1', 'Compactness.1', 'Concavity.1', 'Concave Points.1',\n",
       "       'Symmetry.1', 'Fractal Dimension.1', 'Radius.2', 'Texture.2',\n",
       "       'Perimeter.2', 'Area.2', 'Smoothness.2', 'Compactness.2', 'Concavity.2',\n",
       "       'Concave Points.2', 'Symmetry.2', 'Fractal Dimension.2', 'Tumor Size',\n",
       "       'Lymph node status', 'Outcome_N', 'Outcome_R'],\n",
       "      dtype='object')"
      ]
     },
     "execution_count": 5,
     "metadata": {},
     "output_type": "execute_result"
    }
   ],
   "source": [
    "# set each categorical variable to a dummy with pandas\n",
    "labelEncoder = pd.get_dummies(bcSet['Outcome'],prefix='Outcome')\n",
    "\n",
    "# join the encoded columns and drop the categorical 'Outcome column'\n",
    "bcSet_numeric = bcSet.drop('Outcome', axis=1)\n",
    "bcSet_numeric = bcSet_numeric.join(labelEncoder) # axis 1 is for column\n",
    "\n",
    "# view column names\n",
    "bcSet_numeric.columns"
   ]
  },
  {
   "cell_type": "markdown",
   "metadata": {},
   "source": [
    "We can see here that the 'N' and 'R' variables were added and that the 'outcome' variable was removed. "
   ]
  },
  {
   "cell_type": "code",
   "execution_count": 6,
   "metadata": {},
   "outputs": [
    {
     "data": {
      "text/html": [
       "<div>\n",
       "<style scoped>\n",
       "    .dataframe tbody tr th:only-of-type {\n",
       "        vertical-align: middle;\n",
       "    }\n",
       "\n",
       "    .dataframe tbody tr th {\n",
       "        vertical-align: top;\n",
       "    }\n",
       "\n",
       "    .dataframe thead th {\n",
       "        text-align: right;\n",
       "    }\n",
       "</style>\n",
       "<table border=\"1\" class=\"dataframe\">\n",
       "  <thead>\n",
       "    <tr style=\"text-align: right;\">\n",
       "      <th></th>\n",
       "      <th>Outcome_N</th>\n",
       "      <th>Outcome_R</th>\n",
       "    </tr>\n",
       "  </thead>\n",
       "  <tbody>\n",
       "    <tr>\n",
       "      <th>0</th>\n",
       "      <td>1</td>\n",
       "      <td>0</td>\n",
       "    </tr>\n",
       "    <tr>\n",
       "      <th>1</th>\n",
       "      <td>1</td>\n",
       "      <td>0</td>\n",
       "    </tr>\n",
       "    <tr>\n",
       "      <th>2</th>\n",
       "      <td>1</td>\n",
       "      <td>0</td>\n",
       "    </tr>\n",
       "    <tr>\n",
       "      <th>3</th>\n",
       "      <td>1</td>\n",
       "      <td>0</td>\n",
       "    </tr>\n",
       "    <tr>\n",
       "      <th>4</th>\n",
       "      <td>0</td>\n",
       "      <td>1</td>\n",
       "    </tr>\n",
       "  </tbody>\n",
       "</table>\n",
       "</div>"
      ],
      "text/plain": [
       "   Outcome_N  Outcome_R\n",
       "0          1          0\n",
       "1          1          0\n",
       "2          1          0\n",
       "3          1          0\n",
       "4          0          1"
      ]
     },
     "execution_count": 6,
     "metadata": {},
     "output_type": "execute_result"
    }
   ],
   "source": [
    "bcSet_numeric[['Outcome_N','Outcome_R']].head()"
   ]
  },
  {
   "cell_type": "markdown",
   "metadata": {},
   "source": [
    "### Missing Values\n",
    "\n",
    "The variable 'Lymph node status' was also type 'object', explore why using value_counts"
   ]
  },
  {
   "cell_type": "code",
   "execution_count": 7,
   "metadata": {},
   "outputs": [
    {
     "data": {
      "text/plain": [
       "0     87\n",
       "1     35\n",
       "2     17\n",
       "4     10\n",
       "7      6\n",
       "13     6\n",
       "?      4\n",
       "3      4\n",
       "9      4\n",
       "6      3\n",
       "11     3\n",
       "15     3\n",
       "5      2\n",
       "8      2\n",
       "10     2\n",
       "20     2\n",
       "27     2\n",
       "24     1\n",
       "17     1\n",
       "18     1\n",
       "16     1\n",
       "14     1\n",
       "21     1\n",
       "Name: Lymph node status, dtype: int64"
      ]
     },
     "execution_count": 7,
     "metadata": {},
     "output_type": "execute_result"
    }
   ],
   "source": [
    "bcSet['Lymph node status'].value_counts()"
   ]
  },
  {
   "cell_type": "markdown",
   "metadata": {},
   "source": [
    "Look! There are 4 '?'"
   ]
  },
  {
   "cell_type": "code",
   "execution_count": 8,
   "metadata": {},
   "outputs": [
    {
     "name": "stdout",
     "output_type": "stream",
     "text": [
      "[844359, 854253, 877500, 947204]\n"
     ]
    },
    {
     "data": {
      "text/plain": [
       "ID                       119513\n",
       "Outcome                       N\n",
       "Time                         31\n",
       "Radius                    18.02\n",
       "Texture                    27.6\n",
       "Perimeter                 117.5\n",
       "Area                       1013\n",
       "Smoothness              0.09489\n",
       "Compactness              0.1036\n",
       "Concavity                0.1086\n",
       "Concave Points          0.07055\n",
       "Symmetry                 0.1865\n",
       "Fractal Dimension       0.06333\n",
       "Radius.1                 0.6249\n",
       "Texture.1                  1.89\n",
       "Perimeter.1               3.972\n",
       "Area.1                    71.55\n",
       "Smoothness.1           0.004433\n",
       "Compactness.1           0.01421\n",
       "Concavity.1             0.03233\n",
       "Concave Points.1       0.009854\n",
       "Symmetry.1              0.01694\n",
       "Fractal Dimension.1    0.003495\n",
       "Radius.2                  21.63\n",
       "Texture.2                 37.08\n",
       "Perimeter.2               139.7\n",
       "Area.2                     1436\n",
       "Smoothness.2             0.1195\n",
       "Compactness.2            0.1926\n",
       "Concavity.2               0.314\n",
       "Concave Points.2          0.117\n",
       "Symmetry.2               0.2677\n",
       "Fractal Dimension.2     0.08113\n",
       "Tumor Size                    5\n",
       "Lymph node status             5\n",
       "Name: 0, dtype: object"
      ]
     },
     "execution_count": 8,
     "metadata": {},
     "output_type": "execute_result"
    }
   ],
   "source": [
    "print([bcSet['ID'][i] for i,j in enumerate(bcSet['Lymph node status']) if bcSet['Lymph node status'][i] == '?'])\n",
    "bcSet.iloc[0]"
   ]
  },
  {
   "cell_type": "code",
   "execution_count": 9,
   "metadata": {},
   "outputs": [],
   "source": [
    "# get the row number for the missing values\n",
    "missingAtt = [i for i,j in enumerate(bcSet['Lymph node status']) if bcSet['Lymph node status'][i] == '?']\n",
    "\n",
    "# create a new dataframe with just the missing values\n",
    "bcSet_missing = bcSet_numeric.loc[missingAtt]\n",
    "\n",
    "# create new dataframe without the missing values\n",
    "bcSet_numeric = bcSet_numeric.drop(missingAtt)"
   ]
  },
  {
   "cell_type": "markdown",
   "metadata": {},
   "source": [
    "\n",
    "We can check that the '?' rows have been removed:"
   ]
  },
  {
   "cell_type": "code",
   "execution_count": 10,
   "metadata": {},
   "outputs": [
    {
     "data": {
      "text/plain": [
       "0     87\n",
       "1     35\n",
       "2     17\n",
       "4     10\n",
       "7      6\n",
       "13     6\n",
       "3      4\n",
       "9      4\n",
       "6      3\n",
       "15     3\n",
       "11     3\n",
       "5      2\n",
       "27     2\n",
       "20     2\n",
       "10     2\n",
       "8      2\n",
       "21     1\n",
       "17     1\n",
       "24     1\n",
       "18     1\n",
       "16     1\n",
       "14     1\n",
       "Name: Lymph node status, dtype: int64"
      ]
     },
     "execution_count": 10,
     "metadata": {},
     "output_type": "execute_result"
    }
   ],
   "source": [
    "bcSet_numeric['Lymph node status'].value_counts()"
   ]
  },
  {
   "cell_type": "markdown",
   "metadata": {},
   "source": [
    "#### Explore replacing the missing values with estimates made by regression models\n"
   ]
  },
  {
   "cell_type": "code",
   "execution_count": 11,
   "metadata": {},
   "outputs": [],
   "source": [
    "bcSet_numeric['Lymph node status'] = pd.to_numeric(bcSet_numeric['Lymph node status'], errors='ignore')"
   ]
  },
  {
   "cell_type": "code",
   "execution_count": 12,
   "metadata": {},
   "outputs": [],
   "source": [
    "# set the y to 'Lymph node status'\n",
    "bcSet_numeric_y = bcSet_numeric['Lymph node status']\n",
    "\n",
    "# set the X to everything but 'Lymph node status'\n",
    "bcSet_numeric_X = bcSet_numeric.drop(['Lymph node status'], axis=1)\n",
    "\n",
    "# remove the predicted value from our missing set\n",
    "bcSet_missing_X = bcSet_missing.drop(['Lymph node status'], axis=1)"
   ]
  },
  {
   "cell_type": "code",
   "execution_count": 13,
   "metadata": {},
   "outputs": [
    {
     "data": {
      "text/plain": [
       "Ridge(alpha=1.0, copy_X=True, fit_intercept=True, max_iter=None,\n",
       "   normalize=False, random_state=None, solver='auto', tol=0.001)"
      ]
     },
     "execution_count": 13,
     "metadata": {},
     "output_type": "execute_result"
    }
   ],
   "source": [
    "linearReg = LinearRegression()\n",
    "ridgeReg = Ridge()\n",
    "\n",
    "linearReg.fit(bcSet_numeric_X, bcSet_numeric_y)\n",
    "ridgeReg.fit(bcSet_numeric_X, bcSet_numeric_y)"
   ]
  },
  {
   "cell_type": "code",
   "execution_count": 14,
   "metadata": {},
   "outputs": [
    {
     "data": {
      "text/plain": [
       "array([-0.12359137, -0.95499606,  0.24437457,  3.36051288])"
      ]
     },
     "execution_count": 14,
     "metadata": {},
     "output_type": "execute_result"
    }
   ],
   "source": [
    "linearReg.predict(bcSet_missing_X)"
   ]
  },
  {
   "cell_type": "code",
   "execution_count": 15,
   "metadata": {},
   "outputs": [
    {
     "data": {
      "text/plain": [
       "array([-1.01053075,  1.60943479,  0.99158819,  2.503141  ])"
      ]
     },
     "execution_count": 15,
     "metadata": {},
     "output_type": "execute_result"
    }
   ],
   "source": [
    "ridgeReg.predict(bcSet_missing_X)"
   ]
  },
  {
   "cell_type": "markdown",
   "metadata": {},
   "source": [
    "Let's compare both of these to the mean and median of the 'Lymph node status'"
   ]
  },
  {
   "cell_type": "code",
   "execution_count": 16,
   "metadata": {},
   "outputs": [
    {
     "name": "stdout",
     "output_type": "stream",
     "text": [
      "count    194.000000\n",
      "mean       3.211340\n",
      "std        5.479276\n",
      "min        0.000000\n",
      "25%        0.000000\n",
      "50%        1.000000\n",
      "75%        4.000000\n",
      "max       27.000000\n",
      "Name: Lymph node status, dtype: float64 \n",
      "\n",
      "Median     1.0 \n",
      "\n",
      "Mode       0    0\n",
      "dtype: int64\n"
     ]
    }
   ],
   "source": [
    "print('{} \\n\\nMedian     {} \\n\\nMode       {}'.format(\n",
    "    bcSet_numeric_y.describe(),bcSet_numeric_y.median(), bcSet_numeric_y.mode()))"
   ]
  },
  {
   "cell_type": "markdown",
   "metadata": {},
   "source": [
    "## Example for Categorical Variables by Defining Categorical Columns\n",
    "\n",
    "Create a class that will encode given columns."
   ]
  },
  {
   "cell_type": "code",
   "execution_count": 17,
   "metadata": {},
   "outputs": [],
   "source": [
    "from sklearn.base import BaseEstimator, TransformerMixin\n",
    "class EncodeDefCategorical(BaseEstimator, TransformerMixin):\n",
    "    def __init__(self, catCol):\n",
    "        self.catCol = catCol # this is the variable passed to the class at instantiation\n",
    "    def fit(self, X, y=None):\n",
    "        return self\n",
    "    def transform(self, X):\n",
    "        assert isinstance(X, pd.DataFrame)\n",
    "        \n",
    "        for  i in self.catCol:\n",
    "            # set each categorical variable to a dummy with pandas\n",
    "            labelEncoder = pd.get_dummies(X[i],prefix=i)\n",
    "        \n",
    "            # join the encoded columns and drop the categorical 'Outcome column'\n",
    "            X_numeric = X.drop(i, axis=1)\n",
    "        \n",
    "        return X_numeric.join(labelEncoder)"
   ]
  },
  {
   "cell_type": "code",
   "execution_count": 18,
   "metadata": {},
   "outputs": [
    {
     "data": {
      "text/plain": [
       "['Outcome']"
      ]
     },
     "execution_count": 18,
     "metadata": {},
     "output_type": "execute_result"
    }
   ],
   "source": [
    "# instantiate the class with categorical column name(s)\n",
    "\n",
    "test = EncodeDefCategorical(['Outcome'])\n",
    "test.catCol"
   ]
  },
  {
   "cell_type": "code",
   "execution_count": 19,
   "metadata": {},
   "outputs": [
    {
     "data": {
      "text/plain": [
       "EncodeDefCategorical(catCol=['Outcome'])"
      ]
     },
     "execution_count": 19,
     "metadata": {},
     "output_type": "execute_result"
    }
   ],
   "source": [
    "# fit returns class self\n",
    "\n",
    "test.fit(bcSet)"
   ]
  },
  {
   "cell_type": "code",
   "execution_count": 20,
   "metadata": {},
   "outputs": [
    {
     "data": {
      "text/html": [
       "<div>\n",
       "<style scoped>\n",
       "    .dataframe tbody tr th:only-of-type {\n",
       "        vertical-align: middle;\n",
       "    }\n",
       "\n",
       "    .dataframe tbody tr th {\n",
       "        vertical-align: top;\n",
       "    }\n",
       "\n",
       "    .dataframe thead th {\n",
       "        text-align: right;\n",
       "    }\n",
       "</style>\n",
       "<table border=\"1\" class=\"dataframe\">\n",
       "  <thead>\n",
       "    <tr style=\"text-align: right;\">\n",
       "      <th></th>\n",
       "      <th>ID</th>\n",
       "      <th>Time</th>\n",
       "      <th>Radius</th>\n",
       "      <th>Texture</th>\n",
       "      <th>Perimeter</th>\n",
       "      <th>Area</th>\n",
       "      <th>Smoothness</th>\n",
       "      <th>Compactness</th>\n",
       "      <th>Concavity</th>\n",
       "      <th>Concave Points</th>\n",
       "      <th>...</th>\n",
       "      <th>Smoothness.2</th>\n",
       "      <th>Compactness.2</th>\n",
       "      <th>Concavity.2</th>\n",
       "      <th>Concave Points.2</th>\n",
       "      <th>Symmetry.2</th>\n",
       "      <th>Fractal Dimension.2</th>\n",
       "      <th>Tumor Size</th>\n",
       "      <th>Lymph node status</th>\n",
       "      <th>Outcome_N</th>\n",
       "      <th>Outcome_R</th>\n",
       "    </tr>\n",
       "  </thead>\n",
       "  <tbody>\n",
       "    <tr>\n",
       "      <th>0</th>\n",
       "      <td>119513</td>\n",
       "      <td>31</td>\n",
       "      <td>18.02</td>\n",
       "      <td>27.60</td>\n",
       "      <td>117.50</td>\n",
       "      <td>1013.0</td>\n",
       "      <td>0.09489</td>\n",
       "      <td>0.1036</td>\n",
       "      <td>0.1086</td>\n",
       "      <td>0.07055</td>\n",
       "      <td>...</td>\n",
       "      <td>0.1195</td>\n",
       "      <td>0.1926</td>\n",
       "      <td>0.3140</td>\n",
       "      <td>0.1170</td>\n",
       "      <td>0.2677</td>\n",
       "      <td>0.08113</td>\n",
       "      <td>5.0</td>\n",
       "      <td>5</td>\n",
       "      <td>1</td>\n",
       "      <td>0</td>\n",
       "    </tr>\n",
       "    <tr>\n",
       "      <th>1</th>\n",
       "      <td>8423</td>\n",
       "      <td>61</td>\n",
       "      <td>17.99</td>\n",
       "      <td>10.38</td>\n",
       "      <td>122.80</td>\n",
       "      <td>1001.0</td>\n",
       "      <td>0.11840</td>\n",
       "      <td>0.2776</td>\n",
       "      <td>0.3001</td>\n",
       "      <td>0.14710</td>\n",
       "      <td>...</td>\n",
       "      <td>0.1622</td>\n",
       "      <td>0.6656</td>\n",
       "      <td>0.7119</td>\n",
       "      <td>0.2654</td>\n",
       "      <td>0.4601</td>\n",
       "      <td>0.11890</td>\n",
       "      <td>3.0</td>\n",
       "      <td>2</td>\n",
       "      <td>1</td>\n",
       "      <td>0</td>\n",
       "    </tr>\n",
       "    <tr>\n",
       "      <th>2</th>\n",
       "      <td>842517</td>\n",
       "      <td>116</td>\n",
       "      <td>21.37</td>\n",
       "      <td>17.44</td>\n",
       "      <td>137.50</td>\n",
       "      <td>1373.0</td>\n",
       "      <td>0.08836</td>\n",
       "      <td>0.1189</td>\n",
       "      <td>0.1255</td>\n",
       "      <td>0.08180</td>\n",
       "      <td>...</td>\n",
       "      <td>0.1188</td>\n",
       "      <td>0.3449</td>\n",
       "      <td>0.3414</td>\n",
       "      <td>0.2032</td>\n",
       "      <td>0.4334</td>\n",
       "      <td>0.09067</td>\n",
       "      <td>2.5</td>\n",
       "      <td>0</td>\n",
       "      <td>1</td>\n",
       "      <td>0</td>\n",
       "    </tr>\n",
       "    <tr>\n",
       "      <th>3</th>\n",
       "      <td>843483</td>\n",
       "      <td>123</td>\n",
       "      <td>11.42</td>\n",
       "      <td>20.38</td>\n",
       "      <td>77.58</td>\n",
       "      <td>386.1</td>\n",
       "      <td>0.14250</td>\n",
       "      <td>0.2839</td>\n",
       "      <td>0.2414</td>\n",
       "      <td>0.10520</td>\n",
       "      <td>...</td>\n",
       "      <td>0.2098</td>\n",
       "      <td>0.8663</td>\n",
       "      <td>0.6869</td>\n",
       "      <td>0.2575</td>\n",
       "      <td>0.6638</td>\n",
       "      <td>0.17300</td>\n",
       "      <td>2.0</td>\n",
       "      <td>0</td>\n",
       "      <td>1</td>\n",
       "      <td>0</td>\n",
       "    </tr>\n",
       "    <tr>\n",
       "      <th>4</th>\n",
       "      <td>843584</td>\n",
       "      <td>27</td>\n",
       "      <td>20.29</td>\n",
       "      <td>14.34</td>\n",
       "      <td>135.10</td>\n",
       "      <td>1297.0</td>\n",
       "      <td>0.10030</td>\n",
       "      <td>0.1328</td>\n",
       "      <td>0.1980</td>\n",
       "      <td>0.10430</td>\n",
       "      <td>...</td>\n",
       "      <td>0.1374</td>\n",
       "      <td>0.2050</td>\n",
       "      <td>0.4000</td>\n",
       "      <td>0.1625</td>\n",
       "      <td>0.2364</td>\n",
       "      <td>0.07678</td>\n",
       "      <td>3.5</td>\n",
       "      <td>0</td>\n",
       "      <td>0</td>\n",
       "      <td>1</td>\n",
       "    </tr>\n",
       "  </tbody>\n",
       "</table>\n",
       "<p>5 rows × 36 columns</p>\n",
       "</div>"
      ],
      "text/plain": [
       "       ID  Time  Radius  Texture  Perimeter    Area  Smoothness  Compactness  \\\n",
       "0  119513    31   18.02    27.60     117.50  1013.0     0.09489       0.1036   \n",
       "1    8423    61   17.99    10.38     122.80  1001.0     0.11840       0.2776   \n",
       "2  842517   116   21.37    17.44     137.50  1373.0     0.08836       0.1189   \n",
       "3  843483   123   11.42    20.38      77.58   386.1     0.14250       0.2839   \n",
       "4  843584    27   20.29    14.34     135.10  1297.0     0.10030       0.1328   \n",
       "\n",
       "   Concavity  Concave Points    ...      Smoothness.2  Compactness.2  \\\n",
       "0     0.1086         0.07055    ...            0.1195         0.1926   \n",
       "1     0.3001         0.14710    ...            0.1622         0.6656   \n",
       "2     0.1255         0.08180    ...            0.1188         0.3449   \n",
       "3     0.2414         0.10520    ...            0.2098         0.8663   \n",
       "4     0.1980         0.10430    ...            0.1374         0.2050   \n",
       "\n",
       "   Concavity.2  Concave Points.2  Symmetry.2  Fractal Dimension.2  Tumor Size  \\\n",
       "0       0.3140            0.1170      0.2677              0.08113         5.0   \n",
       "1       0.7119            0.2654      0.4601              0.11890         3.0   \n",
       "2       0.3414            0.2032      0.4334              0.09067         2.5   \n",
       "3       0.6869            0.2575      0.6638              0.17300         2.0   \n",
       "4       0.4000            0.1625      0.2364              0.07678         3.5   \n",
       "\n",
       "   Lymph node status  Outcome_N  Outcome_R  \n",
       "0                  5          1          0  \n",
       "1                  2          1          0  \n",
       "2                  0          1          0  \n",
       "3                  0          1          0  \n",
       "4                  0          0          1  \n",
       "\n",
       "[5 rows x 36 columns]"
      ]
     },
     "execution_count": 20,
     "metadata": {},
     "output_type": "execute_result"
    }
   ],
   "source": [
    "# transform returns the column of interest\n",
    "\n",
    "test.transform(bcSet).head()"
   ]
  },
  {
   "cell_type": "code",
   "execution_count": 21,
   "metadata": {},
   "outputs": [],
   "source": [
    "# create function that will confirm if a variable is a number\n",
    "# code ref: https://stackoverflow.com/questions/354038/how-do-i-check-if-a-string-is-a-number-float\n",
    "\n",
    "def is_number(s): \n",
    "    try:\n",
    "        float(s)\n",
    "        return True\n",
    "    except ValueError:\n",
    "        return False"
   ]
  },
  {
   "cell_type": "markdown",
   "metadata": {},
   "source": [
    "## Example for Categorical Variables without Defining Columns\n",
    "\n",
    "Create a class that will encode columns for categorical variables without the need to define each column."
   ]
  },
  {
   "cell_type": "code",
   "execution_count": 22,
   "metadata": {},
   "outputs": [],
   "source": [
    "# for testing add additional Outcome column and Lymph node status\n",
    "bcSet_dup = bcSet.join(bcSet[['Outcome','Lymph node status']], rsuffix='_dup')"
   ]
  },
  {
   "cell_type": "code",
   "execution_count": 23,
   "metadata": {},
   "outputs": [],
   "source": [
    "class EncodeCategorical(BaseEstimator, TransformerMixin):\n",
    "        # nothing is passed to the class at instantiation\n",
    "    def fit(self, X, y=None):\n",
    "        return self\n",
    "    def transform(self, X):\n",
    "        assert isinstance(X, pd.DataFrame)\n",
    "        \n",
    "        # select columns that are objects\n",
    "        obCol = X.select_dtypes(include='object',).columns\n",
    "\n",
    "        # identify which columns contain 100% non-numeric values\n",
    "        catCol = [col for col in obCol if sum([is_number(var) for var in X[col]]) == 0]\n",
    "\n",
    "        \n",
    "        for  i in catCol:\n",
    "            # set each categorical variable to a dummy with pandas\n",
    "            labelEncoder = pd.get_dummies(X[i],prefix=i)\n",
    "        \n",
    "            # join the encoded columns and drop the categorical 'Outcome column'\n",
    "            X = X.drop(i, axis=1).join(labelEncoder)\n",
    "        \n",
    "        return X"
   ]
  },
  {
   "cell_type": "code",
   "execution_count": 24,
   "metadata": {},
   "outputs": [
    {
     "data": {
      "text/plain": [
       "EncodeCategorical()"
      ]
     },
     "execution_count": 24,
     "metadata": {},
     "output_type": "execute_result"
    }
   ],
   "source": [
    "# instantiate the class with categorical column name(s)\n",
    "test = EncodeCategorical()\n",
    "\n",
    "# fit returns class self\n",
    "test.fit(bcSet_dup)"
   ]
  },
  {
   "cell_type": "code",
   "execution_count": 25,
   "metadata": {},
   "outputs": [
    {
     "data": {
      "text/html": [
       "<div>\n",
       "<style scoped>\n",
       "    .dataframe tbody tr th:only-of-type {\n",
       "        vertical-align: middle;\n",
       "    }\n",
       "\n",
       "    .dataframe tbody tr th {\n",
       "        vertical-align: top;\n",
       "    }\n",
       "\n",
       "    .dataframe thead th {\n",
       "        text-align: right;\n",
       "    }\n",
       "</style>\n",
       "<table border=\"1\" class=\"dataframe\">\n",
       "  <thead>\n",
       "    <tr style=\"text-align: right;\">\n",
       "      <th></th>\n",
       "      <th>ID</th>\n",
       "      <th>Time</th>\n",
       "      <th>Radius</th>\n",
       "      <th>Texture</th>\n",
       "      <th>Perimeter</th>\n",
       "      <th>Area</th>\n",
       "      <th>Smoothness</th>\n",
       "      <th>Compactness</th>\n",
       "      <th>Concavity</th>\n",
       "      <th>Concave Points</th>\n",
       "      <th>...</th>\n",
       "      <th>Concave Points.2</th>\n",
       "      <th>Symmetry.2</th>\n",
       "      <th>Fractal Dimension.2</th>\n",
       "      <th>Tumor Size</th>\n",
       "      <th>Lymph node status</th>\n",
       "      <th>Lymph node status_dup</th>\n",
       "      <th>Outcome_N</th>\n",
       "      <th>Outcome_R</th>\n",
       "      <th>Outcome_dup_N</th>\n",
       "      <th>Outcome_dup_R</th>\n",
       "    </tr>\n",
       "  </thead>\n",
       "  <tbody>\n",
       "    <tr>\n",
       "      <th>5</th>\n",
       "      <td>843786</td>\n",
       "      <td>77</td>\n",
       "      <td>12.75</td>\n",
       "      <td>15.29</td>\n",
       "      <td>84.6</td>\n",
       "      <td>502.7</td>\n",
       "      <td>0.11890</td>\n",
       "      <td>0.1569</td>\n",
       "      <td>0.16640</td>\n",
       "      <td>0.07666</td>\n",
       "      <td>...</td>\n",
       "      <td>0.1709</td>\n",
       "      <td>0.3485</td>\n",
       "      <td>0.11790</td>\n",
       "      <td>2.5</td>\n",
       "      <td>0</td>\n",
       "      <td>0</td>\n",
       "      <td>0</td>\n",
       "      <td>1</td>\n",
       "      <td>0</td>\n",
       "      <td>1</td>\n",
       "    </tr>\n",
       "    <tr>\n",
       "      <th>6</th>\n",
       "      <td>844359</td>\n",
       "      <td>60</td>\n",
       "      <td>18.98</td>\n",
       "      <td>19.61</td>\n",
       "      <td>124.4</td>\n",
       "      <td>1112.0</td>\n",
       "      <td>0.09087</td>\n",
       "      <td>0.1237</td>\n",
       "      <td>0.12130</td>\n",
       "      <td>0.08910</td>\n",
       "      <td>...</td>\n",
       "      <td>0.1922</td>\n",
       "      <td>0.2726</td>\n",
       "      <td>0.09581</td>\n",
       "      <td>1.5</td>\n",
       "      <td>?</td>\n",
       "      <td>?</td>\n",
       "      <td>1</td>\n",
       "      <td>0</td>\n",
       "      <td>1</td>\n",
       "      <td>0</td>\n",
       "    </tr>\n",
       "    <tr>\n",
       "      <th>7</th>\n",
       "      <td>844582</td>\n",
       "      <td>77</td>\n",
       "      <td>13.71</td>\n",
       "      <td>20.83</td>\n",
       "      <td>90.2</td>\n",
       "      <td>577.9</td>\n",
       "      <td>0.11890</td>\n",
       "      <td>0.1645</td>\n",
       "      <td>0.09366</td>\n",
       "      <td>0.05985</td>\n",
       "      <td>...</td>\n",
       "      <td>0.1556</td>\n",
       "      <td>0.3196</td>\n",
       "      <td>0.11510</td>\n",
       "      <td>4.0</td>\n",
       "      <td>10</td>\n",
       "      <td>10</td>\n",
       "      <td>0</td>\n",
       "      <td>1</td>\n",
       "      <td>0</td>\n",
       "      <td>1</td>\n",
       "    </tr>\n",
       "  </tbody>\n",
       "</table>\n",
       "<p>3 rows × 39 columns</p>\n",
       "</div>"
      ],
      "text/plain": [
       "       ID  Time  Radius  Texture  Perimeter    Area  Smoothness  Compactness  \\\n",
       "5  843786    77   12.75    15.29       84.6   502.7     0.11890       0.1569   \n",
       "6  844359    60   18.98    19.61      124.4  1112.0     0.09087       0.1237   \n",
       "7  844582    77   13.71    20.83       90.2   577.9     0.11890       0.1645   \n",
       "\n",
       "   Concavity  Concave Points      ...        Concave Points.2  Symmetry.2  \\\n",
       "5    0.16640         0.07666      ...                  0.1709      0.3485   \n",
       "6    0.12130         0.08910      ...                  0.1922      0.2726   \n",
       "7    0.09366         0.05985      ...                  0.1556      0.3196   \n",
       "\n",
       "   Fractal Dimension.2  Tumor Size  Lymph node status  Lymph node status_dup  \\\n",
       "5              0.11790         2.5                  0                      0   \n",
       "6              0.09581         1.5                  ?                      ?   \n",
       "7              0.11510         4.0                 10                     10   \n",
       "\n",
       "   Outcome_N  Outcome_R  Outcome_dup_N  Outcome_dup_R  \n",
       "5          0          1              0              1  \n",
       "6          1          0              1              0  \n",
       "7          0          1              0              1  \n",
       "\n",
       "[3 rows x 39 columns]"
      ]
     },
     "execution_count": 25,
     "metadata": {},
     "output_type": "execute_result"
    }
   ],
   "source": [
    "# transform returns the dataframe with encoded categorical variables\n",
    "# notice that the 'Outcome' column has been encoded while the 'Lymph node status' column is left alone\n",
    "\n",
    "test.transform(bcSet_dup)[5:8]"
   ]
  },
  {
   "cell_type": "markdown",
   "metadata": {},
   "source": [
    "## Example Pipeline for missing values\n",
    "\n",
    "Create a class that will select the column containing our specific missing value '?'."
   ]
  },
  {
   "cell_type": "code",
   "execution_count": 26,
   "metadata": {},
   "outputs": [],
   "source": [
    "class MissingSelector(BaseEstimator, TransformerMixin):\n",
    "    def __init__(self, mtype):\n",
    "        self.mtype = mtype # this is the variable passed to the class at instantiation\n",
    "    def fit(self, X, y=None):\n",
    "        return self\n",
    "    def transform(self, X):\n",
    "        assert isinstance(X, pd.DataFrame)\n",
    "        missingCol = X.loc[X.eq(self.mtype).any(1), X.eq(self.mtype).any(0)].columns\n",
    "        return X[missingCol]"
   ]
  },
  {
   "cell_type": "code",
   "execution_count": 27,
   "metadata": {},
   "outputs": [
    {
     "data": {
      "text/plain": [
       "'?'"
      ]
     },
     "execution_count": 27,
     "metadata": {},
     "output_type": "execute_result"
    }
   ],
   "source": [
    "# instantiate the class with our missing value of choice\n",
    "\n",
    "test = MissingSelector('?')\n",
    "test.mtype"
   ]
  },
  {
   "cell_type": "code",
   "execution_count": 28,
   "metadata": {},
   "outputs": [
    {
     "data": {
      "text/plain": [
       "MissingSelector(mtype='?')"
      ]
     },
     "execution_count": 28,
     "metadata": {},
     "output_type": "execute_result"
    }
   ],
   "source": [
    "# fit returns class self\n",
    "\n",
    "test.fit(bcSet)"
   ]
  },
  {
   "cell_type": "code",
   "execution_count": 29,
   "metadata": {},
   "outputs": [
    {
     "data": {
      "text/html": [
       "<div>\n",
       "<style scoped>\n",
       "    .dataframe tbody tr th:only-of-type {\n",
       "        vertical-align: middle;\n",
       "    }\n",
       "\n",
       "    .dataframe tbody tr th {\n",
       "        vertical-align: top;\n",
       "    }\n",
       "\n",
       "    .dataframe thead th {\n",
       "        text-align: right;\n",
       "    }\n",
       "</style>\n",
       "<table border=\"1\" class=\"dataframe\">\n",
       "  <thead>\n",
       "    <tr style=\"text-align: right;\">\n",
       "      <th></th>\n",
       "      <th>Lymph node status</th>\n",
       "    </tr>\n",
       "  </thead>\n",
       "  <tbody>\n",
       "    <tr>\n",
       "      <th>0</th>\n",
       "      <td>5</td>\n",
       "    </tr>\n",
       "    <tr>\n",
       "      <th>1</th>\n",
       "      <td>2</td>\n",
       "    </tr>\n",
       "    <tr>\n",
       "      <th>2</th>\n",
       "      <td>0</td>\n",
       "    </tr>\n",
       "    <tr>\n",
       "      <th>3</th>\n",
       "      <td>0</td>\n",
       "    </tr>\n",
       "    <tr>\n",
       "      <th>4</th>\n",
       "      <td>0</td>\n",
       "    </tr>\n",
       "  </tbody>\n",
       "</table>\n",
       "</div>"
      ],
      "text/plain": [
       "  Lymph node status\n",
       "0                 5\n",
       "1                 2\n",
       "2                 0\n",
       "3                 0\n",
       "4                 0"
      ]
     },
     "execution_count": 29,
     "metadata": {},
     "output_type": "execute_result"
    }
   ],
   "source": [
    "# transform returns the column of interest\n",
    "\n",
    "test.transform(bcSet).head()"
   ]
  },
  {
   "cell_type": "code",
   "execution_count": 30,
   "metadata": {},
   "outputs": [],
   "source": [
    "# This part of the pipeline has the intention of turning missing values into numbers\n",
    "#    using different strategies such as mean / median replacement, and regression estimation.  \n",
    "\n",
    "num_pipeline = Pipeline([\n",
    "        ('selector', MissingSelector('?'))        \n",
    "    ])"
   ]
  },
  {
   "cell_type": "code",
   "execution_count": 31,
   "metadata": {},
   "outputs": [
    {
     "data": {
      "text/html": [
       "<div>\n",
       "<style scoped>\n",
       "    .dataframe tbody tr th:only-of-type {\n",
       "        vertical-align: middle;\n",
       "    }\n",
       "\n",
       "    .dataframe tbody tr th {\n",
       "        vertical-align: top;\n",
       "    }\n",
       "\n",
       "    .dataframe thead th {\n",
       "        text-align: right;\n",
       "    }\n",
       "</style>\n",
       "<table border=\"1\" class=\"dataframe\">\n",
       "  <thead>\n",
       "    <tr style=\"text-align: right;\">\n",
       "      <th></th>\n",
       "      <th>Lymph node status</th>\n",
       "    </tr>\n",
       "  </thead>\n",
       "  <tbody>\n",
       "    <tr>\n",
       "      <th>0</th>\n",
       "      <td>5</td>\n",
       "    </tr>\n",
       "    <tr>\n",
       "      <th>1</th>\n",
       "      <td>2</td>\n",
       "    </tr>\n",
       "    <tr>\n",
       "      <th>2</th>\n",
       "      <td>0</td>\n",
       "    </tr>\n",
       "    <tr>\n",
       "      <th>3</th>\n",
       "      <td>0</td>\n",
       "    </tr>\n",
       "    <tr>\n",
       "      <th>4</th>\n",
       "      <td>0</td>\n",
       "    </tr>\n",
       "  </tbody>\n",
       "</table>\n",
       "</div>"
      ],
      "text/plain": [
       "  Lymph node status\n",
       "0                 5\n",
       "1                 2\n",
       "2                 0\n",
       "3                 0\n",
       "4                 0"
      ]
     },
     "execution_count": 31,
     "metadata": {},
     "output_type": "execute_result"
    }
   ],
   "source": [
    "# Checkout the fit_transform\n",
    "\n",
    "num_pipeline.fit_transform(bcSet).head()"
   ]
  },
  {
   "cell_type": "markdown",
   "metadata": {},
   "source": [
    "## Impute Missing Values\n",
    "\n",
    "Replace missing values using Mean, Median, Mode, or an sklearn model.predict()."
   ]
  },
  {
   "cell_type": "code",
   "execution_count": 32,
   "metadata": {},
   "outputs": [],
   "source": [
    "from collections import defaultdict\n",
    "import statistics\n",
    "class ImputeMissing(BaseEstimator, TransformerMixin):\n",
    "    def __init__(self, mtype, strategy):\n",
    "        self.mtype = mtype # this is the variable passed to the class at instantiation\n",
    "        self.strategy = strategy\n",
    "    def fit(self, X, y=None):\n",
    "        return self\n",
    "    def transform(self, X):\n",
    "        assert isinstance(X, pd.DataFrame)\n",
    "        \n",
    "        #find rows with missing values\n",
    "        missingCol = X.loc[X.eq(self.mtype).any(1), X.eq(self.mtype).any(0)].columns\n",
    "\n",
    "        for z in range(len(missingCol)):\n",
    "            col = missingCol[z]\n",
    "            # get the row number for the missing values\n",
    "            missingAtt = [i for i,j in enumerate(X[col]) if X[col][i] == self.mtype]\n",
    "\n",
    "            # create a new dataframe with just the missing values\n",
    "            X_missing = X.loc[missingAtt]\n",
    "\n",
    "            # create new dataframe without the missing values\n",
    "            X_numeric = X.drop(missingAtt)\n",
    "            \n",
    "            # define options for descriptive statistic\n",
    "            optionStats = {'mean': pd.to_numeric(X_numeric[col], errors='coerce').mean(),\n",
    "                            'zero': 0, \n",
    "                            'mode': statistics.mode(X_numeric[col])}\n",
    "            \n",
    "            # define options for sklearn models\n",
    "            optionModel = {'linear': LinearRegression(),\n",
    "                            'ridge': Ridge(), \n",
    "                          }\n",
    "            \n",
    "            if self.strategy in optionStats:\n",
    "                 # replace missing values with defined descriptive statistic\n",
    "                X_missing[col].replace({self.mtype: optionStats[self.strategy]}, inplace=True)\n",
    "                \n",
    "            elif self.strategy in optionModel:\n",
    "                # initialize model\n",
    "                model = optionModel[self.strategy]\n",
    "                \n",
    "                # fit model\n",
    "                model.fit(X_numeric.drop([col], axis=1), X_numeric[col])\n",
    "                \n",
    "                # replace missing values with prediction\n",
    "                X_missing[col] = model.predict(X_missing.drop([col], axis=1))\n",
    "                \n",
    "            # add rows with missing values back to whole dataset\n",
    "            X_numeric = X_numeric.append(X_missing).sort_index()\n",
    "            \n",
    "        return X_numeric\n"
   ]
  },
  {
   "cell_type": "markdown",
   "metadata": {},
   "source": [
    "#### Check the results\n",
    "\n",
    "Row 6 was a missing value, we can see it has been replaced."
   ]
  },
  {
   "cell_type": "code",
   "execution_count": 33,
   "metadata": {},
   "outputs": [
    {
     "data": {
      "text/html": [
       "<div>\n",
       "<style scoped>\n",
       "    .dataframe tbody tr th:only-of-type {\n",
       "        vertical-align: middle;\n",
       "    }\n",
       "\n",
       "    .dataframe tbody tr th {\n",
       "        vertical-align: top;\n",
       "    }\n",
       "\n",
       "    .dataframe thead th {\n",
       "        text-align: right;\n",
       "    }\n",
       "</style>\n",
       "<table border=\"1\" class=\"dataframe\">\n",
       "  <thead>\n",
       "    <tr style=\"text-align: right;\">\n",
       "      <th></th>\n",
       "      <th>ID</th>\n",
       "      <th>Outcome</th>\n",
       "      <th>Lymph node status</th>\n",
       "    </tr>\n",
       "  </thead>\n",
       "  <tbody>\n",
       "    <tr>\n",
       "      <th>5</th>\n",
       "      <td>843786</td>\n",
       "      <td>R</td>\n",
       "      <td>0</td>\n",
       "    </tr>\n",
       "    <tr>\n",
       "      <th>6</th>\n",
       "      <td>844359</td>\n",
       "      <td>N</td>\n",
       "      <td>?</td>\n",
       "    </tr>\n",
       "    <tr>\n",
       "      <th>7</th>\n",
       "      <td>844582</td>\n",
       "      <td>R</td>\n",
       "      <td>10</td>\n",
       "    </tr>\n",
       "  </tbody>\n",
       "</table>\n",
       "</div>"
      ],
      "text/plain": [
       "       ID Outcome Lymph node status\n",
       "5  843786       R                 0\n",
       "6  844359       N                 ?\n",
       "7  844582       R                10"
      ]
     },
     "execution_count": 33,
     "metadata": {},
     "output_type": "execute_result"
    }
   ],
   "source": [
    "bcSet[['ID','Outcome','Lymph node status']][5:8]"
   ]
  },
  {
   "cell_type": "code",
   "execution_count": 34,
   "metadata": {},
   "outputs": [
    {
     "data": {
      "text/html": [
       "<div>\n",
       "<style scoped>\n",
       "    .dataframe tbody tr th:only-of-type {\n",
       "        vertical-align: middle;\n",
       "    }\n",
       "\n",
       "    .dataframe tbody tr th {\n",
       "        vertical-align: top;\n",
       "    }\n",
       "\n",
       "    .dataframe thead th {\n",
       "        text-align: right;\n",
       "    }\n",
       "</style>\n",
       "<table border=\"1\" class=\"dataframe\">\n",
       "  <thead>\n",
       "    <tr style=\"text-align: right;\">\n",
       "      <th></th>\n",
       "      <th>ID</th>\n",
       "      <th>Outcome_N</th>\n",
       "      <th>Outcome_R</th>\n",
       "      <th>Lymph node status</th>\n",
       "    </tr>\n",
       "  </thead>\n",
       "  <tbody>\n",
       "    <tr>\n",
       "      <th>5</th>\n",
       "      <td>843786</td>\n",
       "      <td>0</td>\n",
       "      <td>1</td>\n",
       "      <td>0</td>\n",
       "    </tr>\n",
       "    <tr>\n",
       "      <th>6</th>\n",
       "      <td>844359</td>\n",
       "      <td>1</td>\n",
       "      <td>0</td>\n",
       "      <td>-1.01053</td>\n",
       "    </tr>\n",
       "    <tr>\n",
       "      <th>7</th>\n",
       "      <td>844582</td>\n",
       "      <td>0</td>\n",
       "      <td>1</td>\n",
       "      <td>10</td>\n",
       "    </tr>\n",
       "  </tbody>\n",
       "</table>\n",
       "</div>"
      ],
      "text/plain": [
       "       ID  Outcome_N  Outcome_R Lymph node status\n",
       "5  843786          0          1                 0\n",
       "6  844359          1          0          -1.01053\n",
       "7  844582          0          1                10"
      ]
     },
     "execution_count": 34,
     "metadata": {},
     "output_type": "execute_result"
    }
   ],
   "source": [
    "# This test has to run the whole Pipeline because the categorical column will cause an error\n",
    "\n",
    "num_pipeline = Pipeline([\n",
    "        ('encoder', EncodeCategorical()),\n",
    "        ('imputer', ImputeMissing('?','ridge'))\n",
    "    ])\n",
    "\n",
    "demo = num_pipeline.fit_transform(bcSet)\n",
    "demo[['ID','Outcome_N','Outcome_R','Lymph node status']][5:8]"
   ]
  },
  {
   "cell_type": "code",
   "execution_count": 35,
   "metadata": {},
   "outputs": [
    {
     "data": {
      "text/html": [
       "<div>\n",
       "<style scoped>\n",
       "    .dataframe tbody tr th:only-of-type {\n",
       "        vertical-align: middle;\n",
       "    }\n",
       "\n",
       "    .dataframe tbody tr th {\n",
       "        vertical-align: top;\n",
       "    }\n",
       "\n",
       "    .dataframe thead th {\n",
       "        text-align: right;\n",
       "    }\n",
       "</style>\n",
       "<table border=\"1\" class=\"dataframe\">\n",
       "  <thead>\n",
       "    <tr style=\"text-align: right;\">\n",
       "      <th></th>\n",
       "      <th>Lymph node status</th>\n",
       "    </tr>\n",
       "  </thead>\n",
       "  <tbody>\n",
       "    <tr>\n",
       "      <th>5</th>\n",
       "      <td>0</td>\n",
       "    </tr>\n",
       "    <tr>\n",
       "      <th>6</th>\n",
       "      <td>3.21134</td>\n",
       "    </tr>\n",
       "    <tr>\n",
       "      <th>7</th>\n",
       "      <td>10</td>\n",
       "    </tr>\n",
       "  </tbody>\n",
       "</table>\n",
       "</div>"
      ],
      "text/plain": [
       "  Lymph node status\n",
       "5                 0\n",
       "6           3.21134\n",
       "7                10"
      ]
     },
     "execution_count": 35,
     "metadata": {},
     "output_type": "execute_result"
    }
   ],
   "source": [
    "# This test is running the imputer without calling an sklearn model which does not\n",
    "# need the the categorical column to be encoded\n",
    "\n",
    "test = ImputeMissing('?','mean')\n",
    "test.transform(bcSet)[5:8][['Lymph node status']]"
   ]
  },
  {
   "cell_type": "markdown",
   "metadata": {},
   "source": [
    "## Preprocessing Pipeline"
   ]
  },
  {
   "cell_type": "code",
   "execution_count": 36,
   "metadata": {},
   "outputs": [],
   "source": [
    "num_pipeline = Pipeline([\n",
    "        ('encoder', EncodeCategorical()),\n",
    "        ('imputer', ImputeMissing('?','mean'))\n",
    "    ])"
   ]
  },
  {
   "cell_type": "code",
   "execution_count": 37,
   "metadata": {},
   "outputs": [
    {
     "data": {
      "text/html": [
       "<div>\n",
       "<style scoped>\n",
       "    .dataframe tbody tr th:only-of-type {\n",
       "        vertical-align: middle;\n",
       "    }\n",
       "\n",
       "    .dataframe tbody tr th {\n",
       "        vertical-align: top;\n",
       "    }\n",
       "\n",
       "    .dataframe thead th {\n",
       "        text-align: right;\n",
       "    }\n",
       "</style>\n",
       "<table border=\"1\" class=\"dataframe\">\n",
       "  <thead>\n",
       "    <tr style=\"text-align: right;\">\n",
       "      <th></th>\n",
       "      <th>ID</th>\n",
       "      <th>Outcome_N</th>\n",
       "      <th>Outcome_R</th>\n",
       "      <th>Lymph node status</th>\n",
       "    </tr>\n",
       "  </thead>\n",
       "  <tbody>\n",
       "    <tr>\n",
       "      <th>5</th>\n",
       "      <td>843786</td>\n",
       "      <td>0</td>\n",
       "      <td>1</td>\n",
       "      <td>0</td>\n",
       "    </tr>\n",
       "    <tr>\n",
       "      <th>6</th>\n",
       "      <td>844359</td>\n",
       "      <td>1</td>\n",
       "      <td>0</td>\n",
       "      <td>3.21134</td>\n",
       "    </tr>\n",
       "    <tr>\n",
       "      <th>7</th>\n",
       "      <td>844582</td>\n",
       "      <td>0</td>\n",
       "      <td>1</td>\n",
       "      <td>10</td>\n",
       "    </tr>\n",
       "  </tbody>\n",
       "</table>\n",
       "</div>"
      ],
      "text/plain": [
       "       ID  Outcome_N  Outcome_R Lymph node status\n",
       "5  843786          0          1                 0\n",
       "6  844359          1          0           3.21134\n",
       "7  844582          0          1                10"
      ]
     },
     "execution_count": 37,
     "metadata": {},
     "output_type": "execute_result"
    }
   ],
   "source": [
    "demo = num_pipeline.fit_transform(bcSet)\n",
    "demo[['ID','Outcome_N','Outcome_R','Lymph node status']][5:8]"
   ]
  },
  {
   "cell_type": "markdown",
   "metadata": {},
   "source": [
    "### Full Pipeline\n",
    "\n",
    ".. to come"
   ]
  },
  {
   "cell_type": "code",
   "execution_count": 38,
   "metadata": {},
   "outputs": [
    {
     "data": {
      "text/plain": [
       "array([[1., 0.],\n",
       "       [1., 0.],\n",
       "       [1., 0.],\n",
       "       [1., 0.],\n",
       "       [0., 1.]])"
      ]
     },
     "execution_count": 38,
     "metadata": {},
     "output_type": "execute_result"
    }
   ],
   "source": [
    "# OneHotEncoder for later\n",
    "labelEncoder = LabelEncoder()\n",
    "hotEncoder = OneHotEncoder()\n",
    "catEncode = hotEncoder.fit_transform(labelEncoder.fit_transform(bcSet['Outcome']).reshape(-1,1))\n",
    "\n",
    "catEncode[:5].toarray()"
   ]
  }
 ],
 "metadata": {
  "kernelspec": {
   "display_name": "Python 3",
   "language": "python",
   "name": "python3"
  },
  "language_info": {
   "codemirror_mode": {
    "name": "ipython",
    "version": 3
   },
   "file_extension": ".py",
   "mimetype": "text/x-python",
   "name": "python",
   "nbconvert_exporter": "python",
   "pygments_lexer": "ipython3",
   "version": "3.6.4"
  }
 },
 "nbformat": 4,
 "nbformat_minor": 2
}
