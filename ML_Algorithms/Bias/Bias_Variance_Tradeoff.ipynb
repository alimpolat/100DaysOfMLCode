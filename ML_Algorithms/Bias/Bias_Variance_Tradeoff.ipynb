{
 "cells": [
  {
   "cell_type": "markdown",
   "metadata": {},
   "source": [
    "# Mean Square Error and the Bias-Variance Tradeoff\n",
    "\n",
    "This code shows a proof that Mean Square Error = Variance + Bias-squared"
   ]
  },
  {
   "cell_type": "markdown",
   "metadata": {},
   "source": [
    "## Start with identifying a function\n",
    "\n"
   ]
  },
  {
   "cell_type": "code",
   "execution_count": 1,
   "metadata": {},
   "outputs": [
    {
     "name": "stdout",
     "output_type": "stream",
     "text": [
      "Y̅ = 42.12066574202497 + -2.4937586685159503X̅\n"
     ]
    }
   ],
   "source": [
    "# calculate mean\n",
    "def mean(numList):\n",
    "    return float(sum(numList)) / len(numList) if len(numList) > 0 else 0\n",
    "\n",
    "# calculate standard deviation\n",
    "def sd(numList):\n",
    "    meanList = mean(numList)\n",
    "    return float(((sum([(i - meanList)**2 for i in numList])) \n",
    "                 / (len(numList) - 1))**0.5)\n",
    "\n",
    "\n",
    "\n",
    "# make up some data\n",
    "X = [2,3,4,3,2,9,6,7,2,9]\n",
    "y = [12,54,23,45,23,12,34,23,55,23]\n",
    "\n",
    "# define the sample size\n",
    "n = len(X) if len(X) == len(y) else print(\"Sample sizes are not equal.\")\n",
    "   \n",
    "\n",
    "# correlation coefficient\n",
    "r = ((n * sum([i*y[z] for z, i in enumerate(X)]) - (sum(X) * sum(y))) \n",
    "     / ((n * sum([i**2 for i in X]) - sum(X)**2) * (n * sum([i**2 for i in y]) - sum(y)**2))**0.5)\n",
    "\n",
    "# slope\n",
    "slope = r * (sd(y) / sd(X))\n",
    "\n",
    "# intercept\n",
    "intercept = mean(y) - slope * mean(X)\n",
    "\n",
    "# return the function\n",
    "print(\"Y̅ = {} + {}X̅\".format(intercept,slope))"
   ]
  },
  {
   "cell_type": "markdown",
   "metadata": {},
   "source": [
    "## Use function to estimate unknown "
   ]
  },
  {
   "cell_type": "code",
   "execution_count": 2,
   "metadata": {},
   "outputs": [
    {
     "name": "stdout",
     "output_type": "stream",
     "text": [
      "29.651872399445217\n"
     ]
    }
   ],
   "source": [
    "# when x is 5, what is y?\n",
    "thetaHat5 = intercept + slope*5\n",
    "print(thetaHat5)"
   ]
  },
  {
   "cell_type": "markdown",
   "metadata": {},
   "source": [
    "## Pretend to know the real value of y when x is 5\n"
   ]
  },
  {
   "cell_type": "code",
   "execution_count": 3,
   "metadata": {},
   "outputs": [
    {
     "name": "stdout",
     "output_type": "stream",
     "text": [
      "30\n"
     ]
    }
   ],
   "source": [
    "# define real value of y when x is 5\n",
    "theta5 = 30\n",
    "print(theta5)"
   ]
  },
  {
   "cell_type": "markdown",
   "metadata": {},
   "source": [
    "## Calculate MSE\n",
    "\n",
    "<img src=\"Images/MSE 1.png\" alt=\"MSE\" width=\"200px\" height\"50px\">"
   ]
  },
  {
   "cell_type": "code",
   "execution_count": 4,
   "metadata": {},
   "outputs": [
    {
     "name": "stdout",
     "output_type": "stream",
     "text": [
      "0.1211928262680303\n"
     ]
    }
   ],
   "source": [
    "MSE_theta_1 = (thetaHat5 - theta5)**2\n",
    "print(MSE_theta_1)"
   ]
  },
  {
   "cell_type": "markdown",
   "metadata": {},
   "source": [
    "## Subtract an estmator of theta from both thetas\n",
    "\n",
    "<img src=\"Images/MSE2.png\" alt=\"MSE\" width=\"200px\" height\"50px\">"
   ]
  },
  {
   "cell_type": "code",
   "execution_count": 5,
   "metadata": {},
   "outputs": [
    {
     "name": "stdout",
     "output_type": "stream",
     "text": [
      "MATCH: 0.1211928262680303 = 0.1211928262680303\n"
     ]
    }
   ],
   "source": [
    "# random estimate\n",
    "theta_est = 31\n",
    "\n",
    "\n",
    "MSE_theta_2 = (thetaHat5 - theta_est + theta_est - theta5)**2\n",
    "\n",
    "if MSE_theta_2 == MSE_theta_1:\n",
    "    print (\"MATCH: {} = {}\".format(MSE_theta_1, MSE_theta_2))\n",
    "else:\n",
    "    print(\"No Match: {} , {}\".format(MSE_theta_1, MSE_theta_2))"
   ]
  },
  {
   "cell_type": "markdown",
   "metadata": {},
   "source": [
    "## Distribute the binomial\n",
    "\n",
    "<img src=\"Images/MSE3.png\" alt=\"MSE\" width=\"400px\" height\"100px\">"
   ]
  },
  {
   "cell_type": "code",
   "execution_count": 6,
   "metadata": {},
   "outputs": [
    {
     "name": "stdout",
     "output_type": "stream",
     "text": [
      "No Match: 0.1211928262680303 , 0.1211928262680304\n"
     ]
    }
   ],
   "source": [
    "MSE_theta_3 = ((thetaHat5 - theta_est)**2 \n",
    "               + 2*((thetaHat5 - theta_est) * (theta_est - theta5)) \n",
    "               + (theta_est - theta5)**2)\n",
    "\n",
    "if MSE_theta_3 == MSE_theta_1:\n",
    "    print (\"MATCH: {} = {}\".format(MSE_theta_1, MSE_theta_3))\n",
    "else:\n",
    "    print(\"No Match: {} , {}\".format(MSE_theta_1, MSE_theta_3))"
   ]
  },
  {
   "cell_type": "markdown",
   "metadata": {},
   "source": [
    "## Break up the 2()\n"
   ]
  },
  {
   "cell_type": "code",
   "execution_count": 7,
   "metadata": {},
   "outputs": [
    {
     "name": "stdout",
     "output_type": "stream",
     "text": [
      "No Match: 0.1211928262680303 , 0.1211928262680162\n"
     ]
    }
   ],
   "source": [
    "MSE_theta_4 = ((thetaHat5 - theta_est)**2 \n",
    "               + 2*((thetaHat5 * theta_est) - (thetaHat5 * theta5) \n",
    "                    - (theta_est * theta_est) + (theta_est * theta5) )\n",
    "               + (theta_est - theta5)**2)\n",
    "\n",
    "if MSE_theta_4 == MSE_theta_1:\n",
    "    print (\"MATCH: {} = {}\".format(MSE_theta_1, MSE_theta_4))\n",
    "else:\n",
    "    print(\"No Match: {} , {}\".format(MSE_theta_1, MSE_theta_4))"
   ]
  },
  {
   "cell_type": "markdown",
   "metadata": {},
   "source": [
    "## Final\n",
    "\n"
   ]
  },
  {
   "cell_type": "code",
   "execution_count": null,
   "metadata": {},
   "outputs": [],
   "source": [
    "Var_Theta = (thetaHat5 - theta_est)**2\n",
    "Bias_Theta = (theta_est - theta5)**2"
   ]
  }
 ],
 "metadata": {
  "kernelspec": {
   "display_name": "Python 3",
   "language": "python",
   "name": "python3"
  },
  "language_info": {
   "codemirror_mode": {
    "name": "ipython",
    "version": 3
   },
   "file_extension": ".py",
   "mimetype": "text/x-python",
   "name": "python",
   "nbconvert_exporter": "python",
   "pygments_lexer": "ipython3",
   "version": "3.6.4"
  }
 },
 "nbformat": 4,
 "nbformat_minor": 2
}
