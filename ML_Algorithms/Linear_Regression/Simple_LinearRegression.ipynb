{
 "cells": [
  {
   "cell_type": "markdown",
   "metadata": {},
   "source": [
    "# Simple Linear Regression\n",
    "\n"
   ]
  },
  {
   "cell_type": "markdown",
   "metadata": {},
   "source": [
    "## r - The Pearson correlation coefficient\n",
    "\n",
    "\n",
    "<img src=\"Images/pearson.gif\" alt=\"The Pearson correlation coefficient\" style=\"width:400px;height:200px;\">\n"
   ]
  },
  {
   "cell_type": "markdown",
   "metadata": {},
   "source": [
    "n(Σxy) = (n * sum([i*y[z] for z, i in enumerate(X)])\n",
    "\n",
    "(Σx)(Σy) = (sum(X) * sum(y))\n",
    "\n",
    "nΣx^2 = n * sum([i**2 for i in X])\n",
    "\n",
    "(Σx)^2 = sum(X)**2\n",
    "\n",
    "nΣy^2 = n * sum([i**2 for i in y])\n",
    "\n",
    "(Σy)^2 = sum(y)**2\n"
   ]
  },
  {
   "cell_type": "code",
   "execution_count": 1,
   "metadata": {},
   "outputs": [],
   "source": [
    "X = [2,3,4,3,2,9,6,7,2,9]\n",
    "y = [12,54,23,45,23,12,34,23,55,23]\n",
    "\n",
    "n = len(X) if len(X) == len(y) else print(\"Sample sizes are not equal.\")\n",
    "   \n",
    "\n",
    "\n",
    "r = ((n * sum([i*y[z] for z, i in enumerate(X)]) - (sum(X) * sum(y))) \n",
    "     / ((n * sum([i**2 for i in X]) - sum(X)**2) * (n * sum([i**2 for i in y]) - sum(y)**2))**0.5)\n"
   ]
  },
  {
   "cell_type": "markdown",
   "metadata": {},
   "source": [
    "## Standard Deviation \n",
    "\n",
    "<img src=\"Images/std.png\" alt=\"sd\" style=\"width:220px;height:100px;\">"
   ]
  },
  {
   "cell_type": "code",
   "execution_count": 2,
   "metadata": {},
   "outputs": [],
   "source": [
    "def mean(numList):\n",
    "    return float(sum(numList)) / len(numList) if len(numList) > 0 else 0\n",
    "\n",
    "def sd(numList):\n",
    "    meanList = mean(numList)\n",
    "    return float(((sum([(i - meanList)**2 for i in numList])) \n",
    "                 / (len(numList) - 1))**0.5)\n"
   ]
  },
  {
   "cell_type": "markdown",
   "metadata": {},
   "source": [
    "## Slope - regression coefficient \n",
    "\n",
    "\n",
    "<img src=\"Images/slope.gif\" alt=\"slope\" style=\"width:180px;height:100px;\">\n",
    "\n",
    "## Intercept \n",
    "\n",
    "<img src=\"Images/intercept.gif\" alt=\"slope\" style=\"width:180px;height:100px;\">\n",
    "\n",
    "### Reference: [Regression Basics](http://faculty.cas.usf.edu/mbrannick/regression/regbas.html)"
   ]
  },
  {
   "cell_type": "code",
   "execution_count": 3,
   "metadata": {},
   "outputs": [
    {
     "name": "stdout",
     "output_type": "stream",
     "text": [
      "Y̅ = 42.12066574202497 + -2.4937586685159503X̅\n"
     ]
    }
   ],
   "source": [
    "slope = r * (sd(y) / sd(X))\n",
    "intercept = mean(y) - slope * mean(X)\n",
    "\n",
    "print(\"Y̅ = {} + {}X̅\".format(intercept,slope))"
   ]
  },
  {
   "cell_type": "code",
   "execution_count": 4,
   "metadata": {},
   "outputs": [
    {
     "data": {
      "text/plain": [
       "29.651872399445217"
      ]
     },
     "execution_count": 4,
     "metadata": {},
     "output_type": "execute_result"
    }
   ],
   "source": [
    "# To compare to our mini R code:\n",
    "intercept + slope*5"
   ]
  },
  {
   "cell_type": "markdown",
   "metadata": {},
   "source": [
    "# Least Squares ... to come"
   ]
  }
 ],
 "metadata": {
  "kernelspec": {
   "display_name": "Python 3",
   "language": "python",
   "name": "python3"
  },
  "language_info": {
   "codemirror_mode": {
    "name": "ipython",
    "version": 3
   },
   "file_extension": ".py",
   "mimetype": "text/x-python",
   "name": "python",
   "nbconvert_exporter": "python",
   "pygments_lexer": "ipython3",
   "version": "3.6.4"
  }
 },
 "nbformat": 4,
 "nbformat_minor": 2
}
