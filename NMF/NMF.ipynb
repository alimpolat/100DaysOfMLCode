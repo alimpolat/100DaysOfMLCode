{
 "cells": [
  {
   "cell_type": "markdown",
   "metadata": {},
   "source": [
    "# NMF\n",
    "\n",
    "Non-negative Matrix Factorization (NMF) is a method of dimensionality reduction and clustering. It has many applications in text mining, image analysis, bioinformatics, and even audio signal processing. "
   ]
  },
  {
   "cell_type": "code",
   "execution_count": 1,
   "metadata": {},
   "outputs": [],
   "source": [
    "import matplotlib.pyplot as plt\n",
    "import pandas as pd\n",
    "from sklearn.decomposition import NMF"
   ]
  },
  {
   "cell_type": "markdown",
   "metadata": {},
   "source": [
    "### Bring in data"
   ]
  },
  {
   "cell_type": "code",
   "execution_count": 2,
   "metadata": {},
   "outputs": [],
   "source": [
    "healthSet = pd.read_csv('trainY2_Y3.csv')"
   ]
  },
  {
   "cell_type": "markdown",
   "metadata": {},
   "source": [
    "Set X and Y"
   ]
  },
  {
   "cell_type": "code",
   "execution_count": 3,
   "metadata": {},
   "outputs": [],
   "source": [
    "Y  = healthSet['DaysInHospital'].copy()\n",
    "X = healthSet.drop(['DaysInHospital'], axis=1) \n",
    "features = X.columns"
   ]
  },
  {
   "cell_type": "code",
   "execution_count": 4,
   "metadata": {},
   "outputs": [
    {
     "data": {
      "text/plain": [
       "(104495, 103)"
      ]
     },
     "execution_count": 4,
     "metadata": {},
     "output_type": "execute_result"
    }
   ],
   "source": [
    "X.shape"
   ]
  },
  {
   "cell_type": "markdown",
   "metadata": {},
   "source": [
    "NMF will create two matrices from the given matrix. If the given matrix has shape (104495,103) and the defined n_components for the nmf is 20 then the result will be 1 matrix of shape (104495,20) and another matrix of shape (20, 103). \n",
    "\n",
    "Here we are using the Frobenius norm objective function."
   ]
  },
  {
   "cell_type": "code",
   "execution_count": 5,
   "metadata": {},
   "outputs": [],
   "source": [
    "n_components=20\n",
    "nmf = NMF(n_components=n_components,random_state=1,alpha=.1, l1_ratio=.5)\n",
    "nmf_fitted = nmf.fit_transform(X)"
   ]
  },
  {
   "cell_type": "markdown",
   "metadata": {},
   "source": [
    "Now we can view the top 5 features (column headers) for each cluster:"
   ]
  },
  {
   "cell_type": "code",
   "execution_count": 6,
   "metadata": {},
   "outputs": [
    {
     "name": "stdout",
     "output_type": "stream",
     "text": [
      "Cluster #0: MemberID PayDelaySum PayDelayMax PayDelayMean LabCountMax\n",
      "Cluster #1: PayDelaySum PayDelayMax PayDelayMean PayDelayCount LengthOfStay.daysCount\n",
      "Cluster #2: PayDelaySum PayDelayMax PayDelayMean LabCountMax LabCountMean\n",
      "Cluster #3: PayDelayMin PayDelayMean PayDelayMax PayDelaySum LabCountCount\n",
      "Cluster #4: PayDelaySum LabCountSum LabCountMax LengthOfStay.daysCount PayDelayCount\n",
      "Cluster #5: LengthOfStay.daysSum LengthOfStay.daysMax LengthOfStay.daysCount PayDelayCount Specialty_Internal\n",
      "Cluster #6: PayDelaySum PayDelayMax PayDelayMean PrimaryConditionGroup_NEUMENT PlaceSvc_Urgent Care\n",
      "Cluster #7: PayDelayMean LabCountMax LabCountMean PlaceSvc_Office LabCountMin\n",
      "Cluster #8: PayDelaySum PrimaryConditionGroup_MSC2a3 Specialty_Laboratory PlaceSvc_Independent Lab PayDelayCount\n",
      "Cluster #9: PayDelaySum Specialty_Internal PlaceSvc_Office ProcedureGroup_EM PayDelayCount\n",
      "Cluster #10: LabCountMin LabCountMean LabCountSum LabCountMax PayDelayMin\n",
      "Cluster #11: PayDelaySum Specialty_General Practice PlaceSvc_Office LengthOfStay.daysCount PayDelayCount\n",
      "Cluster #12: PayDelaySum PrimaryConditionGroup_ARTHSPIN LengthOfStay.daysCount PayDelayCount PlaceSvc_Office\n",
      "Cluster #13: PayDelaySum Specialty_Laboratory PlaceSvc_Independent Lab PayDelayCount LengthOfStay.daysCount\n",
      "Cluster #14: PayDelaySum Specialty_Surgery PrimaryConditionGroup_NEUMENT LengthOfStay.daysCount PayDelayCount\n",
      "Cluster #15: PrimaryConditionGroup_METAB3 PayDelaySum PayDelayCount LengthOfStay.daysCount Specialty_Laboratory\n",
      "Cluster #16: PlaceSvc_Office ProcedureGroup_MED PayDelayCount LengthOfStay.daysCount PayDelaySum\n",
      "Cluster #17: PayDelaySum PayDelayCount LengthOfStay.daysCount Specialty_Other ProcedureGroup_RAD\n",
      "Cluster #18: PayDelayCount LengthOfStay.daysCount PayDelayMax PlaceSvc_Urgent Care Specialty_Internal\n",
      "Cluster #19: PayDelayMax PayDelaySum PlaceSvc_Office LengthOfStay.daysCount PayDelayCount\n"
     ]
    }
   ],
   "source": [
    "n_top = 5\n",
    "for idx, cluster in enumerate(nmf.components_):\n",
    "    message = \"Cluster #%d: \" % idx\n",
    "    message += \" \".join([features[i] for i in cluster.argsort()[:-n_top - 1:-1]])\n",
    "    print(message)"
   ]
  },
  {
   "cell_type": "markdown",
   "metadata": {},
   "source": [
    "Here we are using the generalized Kullback-Leibler divergence objective function."
   ]
  },
  {
   "cell_type": "code",
   "execution_count": 7,
   "metadata": {},
   "outputs": [],
   "source": [
    "n_components = 20\n",
    "nmfKL = NMF(n_components=n_components, random_state=1,\n",
    "          beta_loss='kullback-leibler', solver='mu', max_iter=1000, alpha=.1,\n",
    "          l1_ratio=.5)\n",
    "nmfKL_fitted = nmfKL.fit_transform(X)"
   ]
  },
  {
   "cell_type": "code",
   "execution_count": 8,
   "metadata": {},
   "outputs": [
    {
     "name": "stdout",
     "output_type": "stream",
     "text": [
      "Cluster #0: MemberID PayDelaySum PayDelayMax PayDelayMean PayDelayMin\n",
      "Cluster #1: PayDelaySum PayDelayMax PayDelayMean PlaceSvc_Office LengthOfStay.daysCount\n",
      "Cluster #2: PayDelayMax PayDelayMean PayDelayMin LabCountMax LabCountMean\n",
      "Cluster #3: PayDelaySum PayDelayMean PayDelayMin LabCountMin LabCountMean\n",
      "Cluster #4: LabCountSum LengthOfStay.daysCount PayDelayCount PlaceSvc_Independent Lab Specialty_Laboratory\n",
      "Cluster #5: LengthOfStay.daysSum LengthOfStay.daysMax PlaceSvc_Inpatient Hospital PayDelayMax PayDelayCount\n",
      "Cluster #6: PayDelaySum PayDelayMean LabCountSum LabCountMax PlaceSvc_Independent Lab\n",
      "Cluster #7: PlaceSvc_Office LengthOfStay.daysCount PayDelayCount Specialty_General Practice ProcedureGroup_EM\n",
      "Cluster #8: LengthOfStay.daysCount PayDelayCount PrimaryConditionGroup_MSC2a3 PlaceSvc_Independent Lab Specialty_Laboratory\n",
      "Cluster #9: Specialty_Internal LengthOfStay.daysCount PayDelayCount ProcedureGroup_EM PrimaryConditionGroup_MISCHRT\n",
      "Cluster #10: LabCountMin LabCountMean LabCountMax PrimaryConditionGroup_MSC2a3 ProcedureGroup_SCS\n",
      "Cluster #11: PayDelayCount LengthOfStay.daysCount Specialty_General Practice ProcedureGroup_EM PrimaryConditionGroup_GIBLEED\n",
      "Cluster #12: PrimaryConditionGroup_ARTHSPIN PayDelayCount LengthOfStay.daysCount ProcedureGroup_RAD Specialty_Rehabilitation\n",
      "Cluster #13: PayDelayMax PrimaryConditionGroup_METAB3 LengthOfStay.daysCount PayDelayCount Specialty_Laboratory\n",
      "Cluster #14: PayDelayCount LengthOfStay.daysCount PrimaryConditionGroup_NEUMENT Specialty_Surgery PlaceSvc_Office\n",
      "Cluster #15: PayDelayCount LengthOfStay.daysCount PlaceSvc_Outpatient Hospital Specialty_Surgery PrimaryConditionGroup_MSC2a3\n",
      "Cluster #16: PayDelayMax ProcedureGroup_MED PayDelayCount LengthOfStay.daysCount Specialty_Internal\n",
      "Cluster #17: PayDelayCount LengthOfStay.daysCount PlaceSvc_Office Specialty_Other ProcedureGroup_RAD\n",
      "Cluster #18: PayDelayMax PlaceSvc_Urgent Care Specialty_Emergency PrimaryConditionGroup_INFEC4 ProcedureGroup_EM\n",
      "Cluster #19: PayDelaySum PayDelayMax Specialty_Pediatrics PrimaryConditionGroup_PRGNCY ProcedureGroup_EM\n"
     ]
    }
   ],
   "source": [
    "n_top = 5\n",
    "for idx, cluster in enumerate(nmfKL.components_):\n",
    "    message = \"Cluster #%d: \" % idx\n",
    "    message += \" \".join([features[i] for i in cluster.argsort()[:-n_top - 1:-1]])\n",
    "    print(message)"
   ]
  }
 ],
 "metadata": {
  "anaconda-cloud": {},
  "kernelspec": {
   "display_name": "Python 3",
   "language": "python",
   "name": "python3"
  },
  "language_info": {
   "codemirror_mode": {
    "name": "ipython",
    "version": 3
   },
   "file_extension": ".py",
   "mimetype": "text/x-python",
   "name": "python",
   "nbconvert_exporter": "python",
   "pygments_lexer": "ipython3",
   "version": "3.6.4"
  },
  "toc": {
   "nav_menu": {},
   "number_sections": true,
   "sideBar": true,
   "skip_h1_title": false,
   "title_cell": "Table of Contents",
   "title_sidebar": "Contents",
   "toc_cell": false,
   "toc_position": {},
   "toc_section_display": true,
   "toc_window_display": false
  }
 },
 "nbformat": 4,
 "nbformat_minor": 2
}
